{
 "cells": [
  {
   "cell_type": "code",
   "execution_count": 1,
   "id": "448cc226",
   "metadata": {
    "execution": {
     "iopub.execute_input": "2023-02-21T15:33:06.129300Z",
     "iopub.status.busy": "2023-02-21T15:33:06.129152Z",
     "iopub.status.idle": "2023-02-21T15:33:06.134746Z",
     "shell.execute_reply": "2023-02-21T15:33:06.134404Z"
    },
    "papermill": {
     "duration": 0.017911,
     "end_time": "2023-02-21T15:33:06.135569",
     "exception": false,
     "start_time": "2023-02-21T15:33:06.117658",
     "status": "completed"
    },
    "tags": [
     "parameters"
    ]
   },
   "outputs": [],
   "source": [
    "params = {\n",
    "    \"input_files\": {\n",
    "        \"praise_data\": \"./praise.csv\",\n",
    "        \"rewardboard_list\": \"./rewardboard.csv\"\n",
    "      },\n",
    "      \"total_tokens_allocated\": 1000,\n",
    "      \"payout_token\": {\n",
    "        \"token_name\": \"wxDAI\",\n",
    "        \"token_address\": \"0xe91D153E0b41518A2Ce8Dd3D7944Fa863463a97d\"\n",
    "      },\n",
    "      \"token_reward_percentages\": {\n",
    "        \"contributor_rewards\": 0.871067,\n",
    "        \"quantifier_rewards\": 0.090324,\n",
    "        \"rewardboard_rewards\": 0.038608,\n",
    "        \"_comment\": \"These percentages are tweaked so a regular praise+sourcecred allocation amounts to 7% of total rewards to quantfiers and 3% to the rewardboard.\"\n",
    "      },\n",
    "      \"quantification_settings\": {\n",
    "        \"number_of_quantifiers_per_praise_receiver\": 4,\n",
    "        \"praise_quantify_allowed_values\": [\n",
    "          0, 1, 3, 5, 8, 13, 21, 34, 55, 89, 144\n",
    "        ],\n",
    "        \"praise_quantify_receiver_prseudonyms\": False,\n",
    "        \"praise_quantify_duplicate_praise_valuation\": 0.1\n",
    "      }\n",
    "}"
   ]
  },
  {
   "cell_type": "code",
   "execution_count": 2,
   "id": "a296737b",
   "metadata": {
    "execution": {
     "iopub.execute_input": "2023-02-21T15:33:06.149833Z",
     "iopub.status.busy": "2023-02-21T15:33:06.149651Z",
     "iopub.status.idle": "2023-02-21T15:33:06.152567Z",
     "shell.execute_reply": "2023-02-21T15:33:06.152188Z"
    },
    "papermill": {
     "duration": 0.011061,
     "end_time": "2023-02-21T15:33:06.153323",
     "exception": false,
     "start_time": "2023-02-21T15:33:06.142262",
     "status": "completed"
    },
    "tags": [
     "injected-parameters"
    ]
   },
   "outputs": [],
   "source": [
    "# Parameters\n",
    "input_files = {\n",
    "    \"praise_data\": \"/data/round-28/praise.csv\",\n",
    "    \"rewardboard_list\": \"/data/round-28/rewardboard.csv\",\n",
    "    \"cross_period_root\": \"/data\",\n",
    "}\n",
    "payout_token = {\n",
    "    \"token_name\": \"TEC\",\n",
    "    \"token_address\": \"0x5dF8339c5E282ee48c0c7cE8A7d01a73D38B3B27\",\n",
    "}\n",
    "token_reward_percentages = {\n",
    "    \"contributor_rewards\": 0.9,\n",
    "    \"quantifier_rewards\": 0.07,\n",
    "    \"rewardboard_rewards\": 0.03,\n",
    "    \"ceiling_cutoff\": 632,\n",
    "}\n",
    "quantification_settings = {\n",
    "    \"number_of_quantifiers_per_praise_receiver\": 4,\n",
    "    \"praise_quantify_allowed_values\": [0, 1, 3, 5, 8, 13, 21, 34, 55, 89, 144],\n",
    "    \"praise_quantify_receiver_pseudonyms\": False,\n",
    "    \"praise_quantify_duplicate_praise_valuation\": 0.1,\n",
    "}\n",
    "cross_period_settings = {\"cross_period_week_num\": 52, \"cross_period_step_size\": 2}\n",
    "total_tokens_allocated = \"1874\"\n",
    "distribution_name = \"round-28\"\n",
    "results_output_folder = \"distribution_results\"\n"
   ]
  },
  {
   "cell_type": "code",
   "execution_count": 3,
   "id": "careful-unemployment",
   "metadata": {
    "execution": {
     "iopub.execute_input": "2023-02-21T15:33:06.167208Z",
     "iopub.status.busy": "2023-02-21T15:33:06.167073Z",
     "iopub.status.idle": "2023-02-21T15:33:06.418027Z",
     "shell.execute_reply": "2023-02-21T15:33:06.417646Z"
    },
    "papermill": {
     "duration": 0.25925,
     "end_time": "2023-02-21T15:33:06.419115",
     "exception": false,
     "start_time": "2023-02-21T15:33:06.159865",
     "status": "completed"
    },
    "scrolled": true,
    "tags": [
     "hide_input"
    ]
   },
   "outputs": [],
   "source": [
    "\n",
    "import os\n",
    "import sys\n",
    "\n",
    "import math\n",
    "import pandas as pd \n",
    "import numpy as np \n",
    "\n",
    "import scrapbook as sb\n"
   ]
  },
  {
   "cell_type": "code",
   "execution_count": 4,
   "id": "1a698c34",
   "metadata": {
    "execution": {
     "iopub.execute_input": "2023-02-21T15:33:06.435460Z",
     "iopub.status.busy": "2023-02-21T15:33:06.435318Z",
     "iopub.status.idle": "2023-02-21T15:33:06.443840Z",
     "shell.execute_reply": "2023-02-21T15:33:06.443545Z"
    },
    "papermill": {
     "duration": 0.018498,
     "end_time": "2023-02-21T15:33:06.444611",
     "exception": false,
     "start_time": "2023-02-21T15:33:06.426113",
     "status": "completed"
    },
    "tags": []
   },
   "outputs": [],
   "source": [
    "PRAISE_DATA_PATH = input_files[\"praise_data\"]\n",
    "REWARD_BOARD_ADDRESSES_PATH = input_files[\"rewardboard_list\"]\n",
    "\n",
    "praise_data = pd.read_csv(PRAISE_DATA_PATH)\n",
    "praise_data.columns = praise_data.columns.str.upper()\n",
    "\n",
    "rewardboard_addresses = pd.read_csv(REWARD_BOARD_ADDRESSES_PATH)"
   ]
  },
  {
   "cell_type": "code",
   "execution_count": 5,
   "id": "nominated-monday",
   "metadata": {
    "execution": {
     "iopub.execute_input": "2023-02-21T15:33:06.459079Z",
     "iopub.status.busy": "2023-02-21T15:33:06.458896Z",
     "iopub.status.idle": "2023-02-21T15:33:06.462320Z",
     "shell.execute_reply": "2023-02-21T15:33:06.461864Z"
    },
    "jupyter": {
     "source_hidden": true
    },
    "papermill": {
     "duration": 0.011902,
     "end_time": "2023-02-21T15:33:06.462956",
     "exception": false,
     "start_time": "2023-02-21T15:33:06.451054",
     "status": "completed"
    },
    "tags": []
   },
   "outputs": [],
   "source": [
    "try:\n",
    "    CUTOFF_VALUE = token_reward_percentages[\"ceiling_cutoff\"]\n",
    "except:\n",
    "    #always distribute total amount of allocated tokens\n",
    "    CUTOFF_VALUE = 1 \n",
    "\n",
    "#if the amount of praise is below the cutoff, adapt number of distributed tokens\n",
    "if(len(praise_data.index) < CUTOFF_VALUE):\n",
    "        total_tokens_allocated = len(praise_data.index) / CUTOFF_VALUE * float(total_tokens_allocated)\n",
    "\n",
    "\n",
    "\n",
    "NUMBER_OF_PRAISE_REWARD_TOKENS_TO_DISTRIBUTE = math.trunc( float(total_tokens_allocated) * token_reward_percentages[\"contributor_rewards\"]*1000000) / 1000000\n",
    "NUMBER_OF_REWARD_TOKENS_FOR_QUANTIFIERS = math.trunc(  float(total_tokens_allocated) * token_reward_percentages[\"quantifier_rewards\"]*1000000) / 1000000\n",
    "NUMBER_OF_REWARD_TOKENS_FOR_REWARD_BOARD = math.trunc(  float(total_tokens_allocated) * token_reward_percentages[\"rewardboard_rewards\"]*1000000) / 1000000\n",
    "NUMBER_OF_QUANTIFIERS_PER_PRAISE = quantification_settings[\"number_of_quantifiers_per_praise_receiver\"]\n",
    "\n",
    "\n",
    "\n"
   ]
  },
  {
   "cell_type": "markdown",
   "id": "rising-organizer",
   "metadata": {
    "papermill": {
     "duration": 0.006525,
     "end_time": "2023-02-21T15:33:06.476092",
     "exception": false,
     "start_time": "2023-02-21T15:33:06.469567",
     "status": "completed"
    },
    "tags": []
   },
   "source": [
    "## Reward allocation\n",
    "\n",
    "### Praise\n",
    "\n",
    "This method allocates the praise rewards in a very straightforward way: It adds the value of all dished praised together, and then assigns to each user their % of the total."
   ]
  },
  {
   "cell_type": "code",
   "execution_count": 6,
   "id": "instructional-rotation",
   "metadata": {
    "execution": {
     "iopub.execute_input": "2023-02-21T15:33:06.490103Z",
     "iopub.status.busy": "2023-02-21T15:33:06.490018Z",
     "iopub.status.idle": "2023-02-21T15:33:07.116933Z",
     "shell.execute_reply": "2023-02-21T15:33:07.116536Z"
    },
    "jupyter": {
     "source_hidden": true
    },
    "papermill": {
     "duration": 0.635241,
     "end_time": "2023-02-21T15:33:07.117944",
     "exception": false,
     "start_time": "2023-02-21T15:33:06.482703",
     "status": "completed"
    },
    "scrolled": true,
    "tags": []
   },
   "outputs": [
    {
     "data": {
      "text/html": [
       "<style type=\"text/css\">\n",
       "</style>\n",
       "<table id=\"T_0efc7_\">\n",
       "  <thead>\n",
       "    <tr>\n",
       "      <th class=\"blank level0\" >&nbsp;</th>\n",
       "      <th class=\"col_heading level0 col0\" >ID</th>\n",
       "      <th class=\"col_heading level0 col1\" >DATE</th>\n",
       "      <th class=\"col_heading level0 col2\" >TO USER ACCOUNT</th>\n",
       "      <th class=\"col_heading level0 col3\" >TO USER ACCOUNT ID</th>\n",
       "      <th class=\"col_heading level0 col4\" >TO ETH ADDRESS</th>\n",
       "      <th class=\"col_heading level0 col5\" >FROM USER ACCOUNT</th>\n",
       "      <th class=\"col_heading level0 col6\" >FROM USER ACCOUNT ID</th>\n",
       "      <th class=\"col_heading level0 col7\" >FROM ETH ADDRESS</th>\n",
       "      <th class=\"col_heading level0 col8\" >REASON</th>\n",
       "      <th class=\"col_heading level0 col9\" >SOURCE ID</th>\n",
       "      <th class=\"col_heading level0 col10\" >SOURCE NAME</th>\n",
       "      <th class=\"col_heading level0 col11\" >SCORE 1</th>\n",
       "      <th class=\"col_heading level0 col12\" >SCORE 2</th>\n",
       "      <th class=\"col_heading level0 col13\" >SCORE 3</th>\n",
       "      <th class=\"col_heading level0 col14\" >SCORE 4</th>\n",
       "      <th class=\"col_heading level0 col15\" >DUPLICATE ID 1</th>\n",
       "      <th class=\"col_heading level0 col16\" >DUPLICATE ID 2</th>\n",
       "      <th class=\"col_heading level0 col17\" >DUPLICATE ID 3</th>\n",
       "      <th class=\"col_heading level0 col18\" >DUPLICATE ID 4</th>\n",
       "      <th class=\"col_heading level0 col19\" >DISMISSED 1</th>\n",
       "      <th class=\"col_heading level0 col20\" >DISMISSED 2</th>\n",
       "      <th class=\"col_heading level0 col21\" >DISMISSED 3</th>\n",
       "      <th class=\"col_heading level0 col22\" >DISMISSED 4</th>\n",
       "      <th class=\"col_heading level0 col23\" >QUANTIFIER 1 USERNAME</th>\n",
       "      <th class=\"col_heading level0 col24\" >QUANTIFIER 1 ETH ADDRESS</th>\n",
       "      <th class=\"col_heading level0 col25\" >QUANTIFIER 2 USERNAME</th>\n",
       "      <th class=\"col_heading level0 col26\" >QUANTIFIER 2 ETH ADDRESS</th>\n",
       "      <th class=\"col_heading level0 col27\" >QUANTIFIER 3 USERNAME</th>\n",
       "      <th class=\"col_heading level0 col28\" >QUANTIFIER 3 ETH ADDRESS</th>\n",
       "      <th class=\"col_heading level0 col29\" >QUANTIFIER 4 USERNAME</th>\n",
       "      <th class=\"col_heading level0 col30\" >QUANTIFIER 4 ETH ADDRESS</th>\n",
       "      <th class=\"col_heading level0 col31\" >AVG SCORE</th>\n",
       "      <th class=\"col_heading level0 col32\" >PERCENTAGE</th>\n",
       "      <th class=\"col_heading level0 col33\" >TOKEN TO RECEIVE</th>\n",
       "    </tr>\n",
       "  </thead>\n",
       "  <tbody>\n",
       "    <tr>\n",
       "      <th id=\"T_0efc7_level0_row0\" class=\"row_heading level0 row0\" >0</th>\n",
       "      <td id=\"T_0efc7_row0_col0\" class=\"data row0 col0\" >63d7dbe586f591dd748e04dd</td>\n",
       "      <td id=\"T_0efc7_row0_col1\" class=\"data row0 col1\" >2023-01-30T15:01:57.885Z</td>\n",
       "      <td id=\"T_0efc7_row0_col2\" class=\"data row0 col2\" >innov8tor3#3988</td>\n",
       "      <td id=\"T_0efc7_row0_col3\" class=\"data row0 col3\" >621f79d195a79aa51435b94e</td>\n",
       "      <td id=\"T_0efc7_row0_col4\" class=\"data row0 col4\" >0xBCAD90F4a1ED4067d9bC33D4089FF18A82250253</td>\n",
       "      <td id=\"T_0efc7_row0_col5\" class=\"data row0 col5\" >BiancaGadelha#2667</td>\n",
       "      <td id=\"T_0efc7_row0_col6\" class=\"data row0 col6\" >621f79dc95a79aa51435dc5a</td>\n",
       "      <td id=\"T_0efc7_row0_col7\" class=\"data row0 col7\" >0x1375847014BA64517210cBFE185808232Cf45d4a</td>\n",
       "      <td id=\"T_0efc7_row0_col8\" class=\"data row0 col8\" >for being supportive and for stepping in great contributions for Gravity and for sharing his experience around DAOs. You are a valued friend, contributor and coworker for us!</td>\n",
       "      <td id=\"T_0efc7_row0_col9\" class=\"data row0 col9\" >DISCORD:810180621930070088:810180622479917065</td>\n",
       "      <td id=\"T_0efc7_row0_col10\" class=\"data row0 col10\" >DISCORD:Token%20Engineering%20Commons:%F0%9F%95%8A%EF%BD%9Cgravity-talk</td>\n",
       "      <td id=\"T_0efc7_row0_col11\" class=\"data row0 col11\" >8</td>\n",
       "      <td id=\"T_0efc7_row0_col12\" class=\"data row0 col12\" >13</td>\n",
       "      <td id=\"T_0efc7_row0_col13\" class=\"data row0 col13\" >5</td>\n",
       "      <td id=\"T_0efc7_row0_col14\" class=\"data row0 col14\" >21</td>\n",
       "      <td id=\"T_0efc7_row0_col15\" class=\"data row0 col15\" >nan</td>\n",
       "      <td id=\"T_0efc7_row0_col16\" class=\"data row0 col16\" >nan</td>\n",
       "      <td id=\"T_0efc7_row0_col17\" class=\"data row0 col17\" >nan</td>\n",
       "      <td id=\"T_0efc7_row0_col18\" class=\"data row0 col18\" >nan</td>\n",
       "      <td id=\"T_0efc7_row0_col19\" class=\"data row0 col19\" >False</td>\n",
       "      <td id=\"T_0efc7_row0_col20\" class=\"data row0 col20\" >False</td>\n",
       "      <td id=\"T_0efc7_row0_col21\" class=\"data row0 col21\" >False</td>\n",
       "      <td id=\"T_0efc7_row0_col22\" class=\"data row0 col22\" >False</td>\n",
       "      <td id=\"T_0efc7_row0_col23\" class=\"data row0 col23\" >Mettodo#7010</td>\n",
       "      <td id=\"T_0efc7_row0_col24\" class=\"data row0 col24\" >0x7710E7e881333Fd3396Ca5966BeD6E72746b612D</td>\n",
       "      <td id=\"T_0efc7_row0_col25\" class=\"data row0 col25\" >divine_comedian#5493</td>\n",
       "      <td id=\"T_0efc7_row0_col26\" class=\"data row0 col26\" >0x320c338BCF70bAAaE26e96201C33B48105Bc62C2</td>\n",
       "      <td id=\"T_0efc7_row0_col27\" class=\"data row0 col27\" >PhilH#1102</td>\n",
       "      <td id=\"T_0efc7_row0_col28\" class=\"data row0 col28\" >0xAa01DeC5307CF17F20881A3286dcaA062578cea7</td>\n",
       "      <td id=\"T_0efc7_row0_col29\" class=\"data row0 col29\" >EFRA#7972</td>\n",
       "      <td id=\"T_0efc7_row0_col30\" class=\"data row0 col30\" >0x438cDDcc8E6f0E0E18CE33F6b5a8fFCFAb5A999c</td>\n",
       "      <td id=\"T_0efc7_row0_col31\" class=\"data row0 col31\" >11.750000</td>\n",
       "      <td id=\"T_0efc7_row0_col32\" class=\"data row0 col32\" >0.097107</td>\n",
       "      <td id=\"T_0efc7_row0_col33\" class=\"data row0 col33\" >2.332330</td>\n",
       "    </tr>\n",
       "    <tr>\n",
       "      <th id=\"T_0efc7_level0_row1\" class=\"row_heading level0 row1\" >1</th>\n",
       "      <td id=\"T_0efc7_row1_col0\" class=\"data row1 col0\" >63d802e686f591dd748e04ec</td>\n",
       "      <td id=\"T_0efc7_row1_col1\" class=\"data row1 col1\" >2023-01-30T17:48:22.779Z</td>\n",
       "      <td id=\"T_0efc7_row1_col2\" class=\"data row1 col2\" >durgadas#9280</td>\n",
       "      <td id=\"T_0efc7_row1_col3\" class=\"data row1 col3\" >621f79d495a79aa51435c33f</td>\n",
       "      <td id=\"T_0efc7_row1_col4\" class=\"data row1 col4\" >0xfF6d6a7718A234A84f740480Dbb07f6c09cF1cD5</td>\n",
       "      <td id=\"T_0efc7_row1_col5\" class=\"data row1 col5\" >Juankbell#7458</td>\n",
       "      <td id=\"T_0efc7_row1_col6\" class=\"data row1 col6\" >621f79ce95a79aa51435b20b</td>\n",
       "      <td id=\"T_0efc7_row1_col7\" class=\"data row1 col7\" >0x7d547666209755FB833f9B37EebEa38eBF513Abb</td>\n",
       "      <td id=\"T_0efc7_row1_col8\" class=\"data row1 col8\" >for his tech decisions around  the infrastructure of the Gravity page and course</td>\n",
       "      <td id=\"T_0efc7_row1_col9\" class=\"data row1 col9\" >DISCORD:810180621930070088:810180622818869331</td>\n",
       "      <td id=\"T_0efc7_row1_col10\" class=\"data row1 col10\" >DISCORD:Token%20Engineering%20Commons:%F0%9F%95%8A%EF%BD%9C%20gravity-vc</td>\n",
       "      <td id=\"T_0efc7_row1_col11\" class=\"data row1 col11\" >13</td>\n",
       "      <td id=\"T_0efc7_row1_col12\" class=\"data row1 col12\" >21</td>\n",
       "      <td id=\"T_0efc7_row1_col13\" class=\"data row1 col13\" >13</td>\n",
       "      <td id=\"T_0efc7_row1_col14\" class=\"data row1 col14\" >13</td>\n",
       "      <td id=\"T_0efc7_row1_col15\" class=\"data row1 col15\" >nan</td>\n",
       "      <td id=\"T_0efc7_row1_col16\" class=\"data row1 col16\" >nan</td>\n",
       "      <td id=\"T_0efc7_row1_col17\" class=\"data row1 col17\" >nan</td>\n",
       "      <td id=\"T_0efc7_row1_col18\" class=\"data row1 col18\" >nan</td>\n",
       "      <td id=\"T_0efc7_row1_col19\" class=\"data row1 col19\" >False</td>\n",
       "      <td id=\"T_0efc7_row1_col20\" class=\"data row1 col20\" >False</td>\n",
       "      <td id=\"T_0efc7_row1_col21\" class=\"data row1 col21\" >False</td>\n",
       "      <td id=\"T_0efc7_row1_col22\" class=\"data row1 col22\" >False</td>\n",
       "      <td id=\"T_0efc7_row1_col23\" class=\"data row1 col23\" >Mettodo#7010</td>\n",
       "      <td id=\"T_0efc7_row1_col24\" class=\"data row1 col24\" >0x7710E7e881333Fd3396Ca5966BeD6E72746b612D</td>\n",
       "      <td id=\"T_0efc7_row1_col25\" class=\"data row1 col25\" >divine_comedian#5493</td>\n",
       "      <td id=\"T_0efc7_row1_col26\" class=\"data row1 col26\" >0x320c338BCF70bAAaE26e96201C33B48105Bc62C2</td>\n",
       "      <td id=\"T_0efc7_row1_col27\" class=\"data row1 col27\" >PhilH#1102</td>\n",
       "      <td id=\"T_0efc7_row1_col28\" class=\"data row1 col28\" >0xAa01DeC5307CF17F20881A3286dcaA062578cea7</td>\n",
       "      <td id=\"T_0efc7_row1_col29\" class=\"data row1 col29\" >EFRA#7972</td>\n",
       "      <td id=\"T_0efc7_row1_col30\" class=\"data row1 col30\" >0x438cDDcc8E6f0E0E18CE33F6b5a8fFCFAb5A999c</td>\n",
       "      <td id=\"T_0efc7_row1_col31\" class=\"data row1 col31\" >15.000000</td>\n",
       "      <td id=\"T_0efc7_row1_col32\" class=\"data row1 col32\" >0.123967</td>\n",
       "      <td id=\"T_0efc7_row1_col33\" class=\"data row1 col33\" >2.977443</td>\n",
       "    </tr>\n",
       "    <tr>\n",
       "      <th id=\"T_0efc7_level0_row2\" class=\"row_heading level0 row2\" >2</th>\n",
       "      <td id=\"T_0efc7_row2_col0\" class=\"data row2 col0\" >63d9e56986f591dd748e04fb</td>\n",
       "      <td id=\"T_0efc7_row2_col1\" class=\"data row2 col1\" >2023-02-01T04:07:05.032Z</td>\n",
       "      <td id=\"T_0efc7_row2_col2\" class=\"data row2 col2\" >BiancaGadelha#2667</td>\n",
       "      <td id=\"T_0efc7_row2_col3\" class=\"data row2 col3\" >621f79dc95a79aa51435dc5a</td>\n",
       "      <td id=\"T_0efc7_row2_col4\" class=\"data row2 col4\" >0x1375847014BA64517210cBFE185808232Cf45d4a</td>\n",
       "      <td id=\"T_0efc7_row2_col5\" class=\"data row2 col5\" >innov8tor3#3988</td>\n",
       "      <td id=\"T_0efc7_row2_col6\" class=\"data row2 col6\" >621f79d195a79aa51435b94e</td>\n",
       "      <td id=\"T_0efc7_row2_col7\" class=\"data row2 col7\" >0xBCAD90F4a1ED4067d9bC33D4089FF18A82250253</td>\n",
       "      <td id=\"T_0efc7_row2_col8\" class=\"data row2 col8\" >for her attentive and supportive care of and onboarding for new folk arriving in TEC and Gravity</td>\n",
       "      <td id=\"T_0efc7_row2_col9\" class=\"data row2 col9\" >DISCORD:810180621930070088:810180622479917065</td>\n",
       "      <td id=\"T_0efc7_row2_col10\" class=\"data row2 col10\" >DISCORD:Token%20Engineering%20Commons:%F0%9F%95%8A%EF%BD%9Cgravity-talk</td>\n",
       "      <td id=\"T_0efc7_row2_col11\" class=\"data row2 col11\" >13</td>\n",
       "      <td id=\"T_0efc7_row2_col12\" class=\"data row2 col12\" >13</td>\n",
       "      <td id=\"T_0efc7_row2_col13\" class=\"data row2 col13\" >5</td>\n",
       "      <td id=\"T_0efc7_row2_col14\" class=\"data row2 col14\" >8</td>\n",
       "      <td id=\"T_0efc7_row2_col15\" class=\"data row2 col15\" >nan</td>\n",
       "      <td id=\"T_0efc7_row2_col16\" class=\"data row2 col16\" >nan</td>\n",
       "      <td id=\"T_0efc7_row2_col17\" class=\"data row2 col17\" >nan</td>\n",
       "      <td id=\"T_0efc7_row2_col18\" class=\"data row2 col18\" >nan</td>\n",
       "      <td id=\"T_0efc7_row2_col19\" class=\"data row2 col19\" >False</td>\n",
       "      <td id=\"T_0efc7_row2_col20\" class=\"data row2 col20\" >False</td>\n",
       "      <td id=\"T_0efc7_row2_col21\" class=\"data row2 col21\" >False</td>\n",
       "      <td id=\"T_0efc7_row2_col22\" class=\"data row2 col22\" >False</td>\n",
       "      <td id=\"T_0efc7_row2_col23\" class=\"data row2 col23\" >Mettodo#7010</td>\n",
       "      <td id=\"T_0efc7_row2_col24\" class=\"data row2 col24\" >0x7710E7e881333Fd3396Ca5966BeD6E72746b612D</td>\n",
       "      <td id=\"T_0efc7_row2_col25\" class=\"data row2 col25\" >divine_comedian#5493</td>\n",
       "      <td id=\"T_0efc7_row2_col26\" class=\"data row2 col26\" >0x320c338BCF70bAAaE26e96201C33B48105Bc62C2</td>\n",
       "      <td id=\"T_0efc7_row2_col27\" class=\"data row2 col27\" >PhilH#1102</td>\n",
       "      <td id=\"T_0efc7_row2_col28\" class=\"data row2 col28\" >0xAa01DeC5307CF17F20881A3286dcaA062578cea7</td>\n",
       "      <td id=\"T_0efc7_row2_col29\" class=\"data row2 col29\" >EFRA#7972</td>\n",
       "      <td id=\"T_0efc7_row2_col30\" class=\"data row2 col30\" >0x438cDDcc8E6f0E0E18CE33F6b5a8fFCFAb5A999c</td>\n",
       "      <td id=\"T_0efc7_row2_col31\" class=\"data row2 col31\" >9.750000</td>\n",
       "      <td id=\"T_0efc7_row2_col32\" class=\"data row2 col32\" >0.080579</td>\n",
       "      <td id=\"T_0efc7_row2_col33\" class=\"data row2 col33\" >1.935338</td>\n",
       "    </tr>\n",
       "    <tr>\n",
       "      <th id=\"T_0efc7_level0_row3\" class=\"row_heading level0 row3\" >3</th>\n",
       "      <td id=\"T_0efc7_row3_col0\" class=\"data row3 col0\" >63d9e8eb86f591dd748e050a</td>\n",
       "      <td id=\"T_0efc7_row3_col1\" class=\"data row3 col1\" >2023-02-01T04:22:03.427Z</td>\n",
       "      <td id=\"T_0efc7_row3_col2\" class=\"data row3 col2\" >kristofer#1475</td>\n",
       "      <td id=\"T_0efc7_row3_col3\" class=\"data row3 col3\" >621f79cf95a79aa51435b300</td>\n",
       "      <td id=\"T_0efc7_row3_col4\" class=\"data row3 col4\" >0xa32aECda752cF4EF89956e83d60C04835d4FA867</td>\n",
       "      <td id=\"T_0efc7_row3_col5\" class=\"data row3 col5\" >innov8tor3#3988</td>\n",
       "      <td id=\"T_0efc7_row3_col6\" class=\"data row3 col6\" >621f79d195a79aa51435b94e</td>\n",
       "      <td id=\"T_0efc7_row3_col7\" class=\"data row3 col7\" >0xBCAD90F4a1ED4067d9bC33D4089FF18A82250253</td>\n",
       "      <td id=\"T_0efc7_row3_col8\" class=\"data row3 col8\" >for comprehensive answers to my questions about Praise development, and his development work elsewhere in Giveth, helping to bring Praise forward into the public domain, and helping plan and execute for it to be robust and Web 3 operable</td>\n",
       "      <td id=\"T_0efc7_row3_col9\" class=\"data row3 col9\" >DISCORD:810180621930070088:1067129652843401236</td>\n",
       "      <td id=\"T_0efc7_row3_col10\" class=\"data row3 col10\" >DISCORD:Token%20Engineering%20Commons:%F0%9F%90%9D%EF%BD%9Ccoordinators%20%2F%20Praise%20Twitter%20Bot</td>\n",
       "      <td id=\"T_0efc7_row3_col11\" class=\"data row3 col11\" >21</td>\n",
       "      <td id=\"T_0efc7_row3_col12\" class=\"data row3 col12\" >13</td>\n",
       "      <td id=\"T_0efc7_row3_col13\" class=\"data row3 col13\" >21</td>\n",
       "      <td id=\"T_0efc7_row3_col14\" class=\"data row3 col14\" >21</td>\n",
       "      <td id=\"T_0efc7_row3_col15\" class=\"data row3 col15\" >nan</td>\n",
       "      <td id=\"T_0efc7_row3_col16\" class=\"data row3 col16\" >nan</td>\n",
       "      <td id=\"T_0efc7_row3_col17\" class=\"data row3 col17\" >nan</td>\n",
       "      <td id=\"T_0efc7_row3_col18\" class=\"data row3 col18\" >nan</td>\n",
       "      <td id=\"T_0efc7_row3_col19\" class=\"data row3 col19\" >False</td>\n",
       "      <td id=\"T_0efc7_row3_col20\" class=\"data row3 col20\" >False</td>\n",
       "      <td id=\"T_0efc7_row3_col21\" class=\"data row3 col21\" >False</td>\n",
       "      <td id=\"T_0efc7_row3_col22\" class=\"data row3 col22\" >False</td>\n",
       "      <td id=\"T_0efc7_row3_col23\" class=\"data row3 col23\" >Mettodo#7010</td>\n",
       "      <td id=\"T_0efc7_row3_col24\" class=\"data row3 col24\" >0x7710E7e881333Fd3396Ca5966BeD6E72746b612D</td>\n",
       "      <td id=\"T_0efc7_row3_col25\" class=\"data row3 col25\" >divine_comedian#5493</td>\n",
       "      <td id=\"T_0efc7_row3_col26\" class=\"data row3 col26\" >0x320c338BCF70bAAaE26e96201C33B48105Bc62C2</td>\n",
       "      <td id=\"T_0efc7_row3_col27\" class=\"data row3 col27\" >PhilH#1102</td>\n",
       "      <td id=\"T_0efc7_row3_col28\" class=\"data row3 col28\" >0xAa01DeC5307CF17F20881A3286dcaA062578cea7</td>\n",
       "      <td id=\"T_0efc7_row3_col29\" class=\"data row3 col29\" >EFRA#7972</td>\n",
       "      <td id=\"T_0efc7_row3_col30\" class=\"data row3 col30\" >0x438cDDcc8E6f0E0E18CE33F6b5a8fFCFAb5A999c</td>\n",
       "      <td id=\"T_0efc7_row3_col31\" class=\"data row3 col31\" >19.000000</td>\n",
       "      <td id=\"T_0efc7_row3_col32\" class=\"data row3 col32\" >0.157025</td>\n",
       "      <td id=\"T_0efc7_row3_col33\" class=\"data row3 col33\" >3.771427</td>\n",
       "    </tr>\n",
       "    <tr>\n",
       "      <th id=\"T_0efc7_level0_row4\" class=\"row_heading level0 row4\" >4</th>\n",
       "      <td id=\"T_0efc7_row4_col0\" class=\"data row4 col0\" >63da2df386f591dd748e0519</td>\n",
       "      <td id=\"T_0efc7_row4_col1\" class=\"data row4 col1\" >2023-02-01T09:16:35.619Z</td>\n",
       "      <td id=\"T_0efc7_row4_col2\" class=\"data row4 col2\" >Jeremy&TheGospelOfChange#8201</td>\n",
       "      <td id=\"T_0efc7_row4_col3\" class=\"data row4 col3\" >6249475571e68891991c040d</td>\n",
       "      <td id=\"T_0efc7_row4_col4\" class=\"data row4 col4\" >0xCa63608615DE005339652C0ECA93C5836eB0C2BD</td>\n",
       "      <td id=\"T_0efc7_row4_col5\" class=\"data row4 col5\" >innov8tor3#3988</td>\n",
       "      <td id=\"T_0efc7_row4_col6\" class=\"data row4 col6\" >621f79d195a79aa51435b94e</td>\n",
       "      <td id=\"T_0efc7_row4_col7\" class=\"data row4 col7\" >0xBCAD90F4a1ED4067d9bC33D4089FF18A82250253</td>\n",
       "      <td id=\"T_0efc7_row4_col8\" class=\"data row4 col8\" >for considering the Trust document I've started, factors that influence how teams come together and perform in Web 3, https://docs.google.com/document/d/1OTHTFCbBCq6axDlp6qNXShch2e6DM1oLEcLmXzVLhx4/edit?usp=drivesdk , and commenting, looking towards making a publicly available document.</td>\n",
       "      <td id=\"T_0efc7_row4_col9\" class=\"data row4 col9\" >DISCORD:810180621930070088:810180622479917065</td>\n",
       "      <td id=\"T_0efc7_row4_col10\" class=\"data row4 col10\" >DISCORD:Token%20Engineering%20Commons:%F0%9F%95%8A%EF%BD%9Cgravity-talk</td>\n",
       "      <td id=\"T_0efc7_row4_col11\" class=\"data row4 col11\" >8</td>\n",
       "      <td id=\"T_0efc7_row4_col12\" class=\"data row4 col12\" >13</td>\n",
       "      <td id=\"T_0efc7_row4_col13\" class=\"data row4 col13\" >8</td>\n",
       "      <td id=\"T_0efc7_row4_col14\" class=\"data row4 col14\" >13</td>\n",
       "      <td id=\"T_0efc7_row4_col15\" class=\"data row4 col15\" >nan</td>\n",
       "      <td id=\"T_0efc7_row4_col16\" class=\"data row4 col16\" >nan</td>\n",
       "      <td id=\"T_0efc7_row4_col17\" class=\"data row4 col17\" >nan</td>\n",
       "      <td id=\"T_0efc7_row4_col18\" class=\"data row4 col18\" >nan</td>\n",
       "      <td id=\"T_0efc7_row4_col19\" class=\"data row4 col19\" >False</td>\n",
       "      <td id=\"T_0efc7_row4_col20\" class=\"data row4 col20\" >False</td>\n",
       "      <td id=\"T_0efc7_row4_col21\" class=\"data row4 col21\" >False</td>\n",
       "      <td id=\"T_0efc7_row4_col22\" class=\"data row4 col22\" >False</td>\n",
       "      <td id=\"T_0efc7_row4_col23\" class=\"data row4 col23\" >Mettodo#7010</td>\n",
       "      <td id=\"T_0efc7_row4_col24\" class=\"data row4 col24\" >0x7710E7e881333Fd3396Ca5966BeD6E72746b612D</td>\n",
       "      <td id=\"T_0efc7_row4_col25\" class=\"data row4 col25\" >divine_comedian#5493</td>\n",
       "      <td id=\"T_0efc7_row4_col26\" class=\"data row4 col26\" >0x320c338BCF70bAAaE26e96201C33B48105Bc62C2</td>\n",
       "      <td id=\"T_0efc7_row4_col27\" class=\"data row4 col27\" >PhilH#1102</td>\n",
       "      <td id=\"T_0efc7_row4_col28\" class=\"data row4 col28\" >0xAa01DeC5307CF17F20881A3286dcaA062578cea7</td>\n",
       "      <td id=\"T_0efc7_row4_col29\" class=\"data row4 col29\" >EFRA#7972</td>\n",
       "      <td id=\"T_0efc7_row4_col30\" class=\"data row4 col30\" >0x438cDDcc8E6f0E0E18CE33F6b5a8fFCFAb5A999c</td>\n",
       "      <td id=\"T_0efc7_row4_col31\" class=\"data row4 col31\" >10.500000</td>\n",
       "      <td id=\"T_0efc7_row4_col32\" class=\"data row4 col32\" >0.086777</td>\n",
       "      <td id=\"T_0efc7_row4_col33\" class=\"data row4 col33\" >2.084210</td>\n",
       "    </tr>\n",
       "    <tr>\n",
       "      <th id=\"T_0efc7_level0_row5\" class=\"row_heading level0 row5\" >5</th>\n",
       "      <td id=\"T_0efc7_row5_col0\" class=\"data row5 col0\" >63da2df486f591dd748e0520</td>\n",
       "      <td id=\"T_0efc7_row5_col1\" class=\"data row5 col1\" >2023-02-01T09:16:36.344Z</td>\n",
       "      <td id=\"T_0efc7_row5_col2\" class=\"data row5 col2\" >Juankbell#7458</td>\n",
       "      <td id=\"T_0efc7_row5_col3\" class=\"data row5 col3\" >621f79ce95a79aa51435b20b</td>\n",
       "      <td id=\"T_0efc7_row5_col4\" class=\"data row5 col4\" >0x7d547666209755FB833f9B37EebEa38eBF513Abb</td>\n",
       "      <td id=\"T_0efc7_row5_col5\" class=\"data row5 col5\" >innov8tor3#3988</td>\n",
       "      <td id=\"T_0efc7_row5_col6\" class=\"data row5 col6\" >621f79d195a79aa51435b94e</td>\n",
       "      <td id=\"T_0efc7_row5_col7\" class=\"data row5 col7\" >0xBCAD90F4a1ED4067d9bC33D4089FF18A82250253</td>\n",
       "      <td id=\"T_0efc7_row5_col8\" class=\"data row5 col8\" >for considering the Trust document I've started, factors that influence how teams come together and perform in Web 3, https://docs.google.com/document/d/1OTHTFCbBCq6axDlp6qNXShch2e6DM1oLEcLmXzVLhx4/edit?usp=drivesdk , and commenting, looking towards making a publicly available document.</td>\n",
       "      <td id=\"T_0efc7_row5_col9\" class=\"data row5 col9\" >DISCORD:810180621930070088:810180622479917065</td>\n",
       "      <td id=\"T_0efc7_row5_col10\" class=\"data row5 col10\" >DISCORD:Token%20Engineering%20Commons:%F0%9F%95%8A%EF%BD%9Cgravity-talk</td>\n",
       "      <td id=\"T_0efc7_row5_col11\" class=\"data row5 col11\" >8</td>\n",
       "      <td id=\"T_0efc7_row5_col12\" class=\"data row5 col12\" >13</td>\n",
       "      <td id=\"T_0efc7_row5_col13\" class=\"data row5 col13\" >8</td>\n",
       "      <td id=\"T_0efc7_row5_col14\" class=\"data row5 col14\" >13</td>\n",
       "      <td id=\"T_0efc7_row5_col15\" class=\"data row5 col15\" >nan</td>\n",
       "      <td id=\"T_0efc7_row5_col16\" class=\"data row5 col16\" >nan</td>\n",
       "      <td id=\"T_0efc7_row5_col17\" class=\"data row5 col17\" >nan</td>\n",
       "      <td id=\"T_0efc7_row5_col18\" class=\"data row5 col18\" >nan</td>\n",
       "      <td id=\"T_0efc7_row5_col19\" class=\"data row5 col19\" >False</td>\n",
       "      <td id=\"T_0efc7_row5_col20\" class=\"data row5 col20\" >False</td>\n",
       "      <td id=\"T_0efc7_row5_col21\" class=\"data row5 col21\" >False</td>\n",
       "      <td id=\"T_0efc7_row5_col22\" class=\"data row5 col22\" >False</td>\n",
       "      <td id=\"T_0efc7_row5_col23\" class=\"data row5 col23\" >Mettodo#7010</td>\n",
       "      <td id=\"T_0efc7_row5_col24\" class=\"data row5 col24\" >0x7710E7e881333Fd3396Ca5966BeD6E72746b612D</td>\n",
       "      <td id=\"T_0efc7_row5_col25\" class=\"data row5 col25\" >divine_comedian#5493</td>\n",
       "      <td id=\"T_0efc7_row5_col26\" class=\"data row5 col26\" >0x320c338BCF70bAAaE26e96201C33B48105Bc62C2</td>\n",
       "      <td id=\"T_0efc7_row5_col27\" class=\"data row5 col27\" >PhilH#1102</td>\n",
       "      <td id=\"T_0efc7_row5_col28\" class=\"data row5 col28\" >0xAa01DeC5307CF17F20881A3286dcaA062578cea7</td>\n",
       "      <td id=\"T_0efc7_row5_col29\" class=\"data row5 col29\" >EFRA#7972</td>\n",
       "      <td id=\"T_0efc7_row5_col30\" class=\"data row5 col30\" >0x438cDDcc8E6f0E0E18CE33F6b5a8fFCFAb5A999c</td>\n",
       "      <td id=\"T_0efc7_row5_col31\" class=\"data row5 col31\" >10.500000</td>\n",
       "      <td id=\"T_0efc7_row5_col32\" class=\"data row5 col32\" >0.086777</td>\n",
       "      <td id=\"T_0efc7_row5_col33\" class=\"data row5 col33\" >2.084210</td>\n",
       "    </tr>\n",
       "    <tr>\n",
       "      <th id=\"T_0efc7_level0_row6\" class=\"row_heading level0 row6\" >6</th>\n",
       "      <td id=\"T_0efc7_row6_col0\" class=\"data row6 col0\" >63da2df586f591dd748e0527</td>\n",
       "      <td id=\"T_0efc7_row6_col1\" class=\"data row6 col1\" >2023-02-01T09:16:37.155Z</td>\n",
       "      <td id=\"T_0efc7_row6_col2\" class=\"data row6 col2\" >BiancaGadelha#2667</td>\n",
       "      <td id=\"T_0efc7_row6_col3\" class=\"data row6 col3\" >621f79dc95a79aa51435dc5a</td>\n",
       "      <td id=\"T_0efc7_row6_col4\" class=\"data row6 col4\" >0x1375847014BA64517210cBFE185808232Cf45d4a</td>\n",
       "      <td id=\"T_0efc7_row6_col5\" class=\"data row6 col5\" >innov8tor3#3988</td>\n",
       "      <td id=\"T_0efc7_row6_col6\" class=\"data row6 col6\" >621f79d195a79aa51435b94e</td>\n",
       "      <td id=\"T_0efc7_row6_col7\" class=\"data row6 col7\" >0xBCAD90F4a1ED4067d9bC33D4089FF18A82250253</td>\n",
       "      <td id=\"T_0efc7_row6_col8\" class=\"data row6 col8\" >for considering the Trust document I've started, factors that influence how teams come together and perform in Web 3, https://docs.google.com/document/d/1OTHTFCbBCq6axDlp6qNXShch2e6DM1oLEcLmXzVLhx4/edit?usp=drivesdk , and commenting, looking towards making a publicly available document.</td>\n",
       "      <td id=\"T_0efc7_row6_col9\" class=\"data row6 col9\" >DISCORD:810180621930070088:810180622479917065</td>\n",
       "      <td id=\"T_0efc7_row6_col10\" class=\"data row6 col10\" >DISCORD:Token%20Engineering%20Commons:%F0%9F%95%8A%EF%BD%9Cgravity-talk</td>\n",
       "      <td id=\"T_0efc7_row6_col11\" class=\"data row6 col11\" >8</td>\n",
       "      <td id=\"T_0efc7_row6_col12\" class=\"data row6 col12\" >21</td>\n",
       "      <td id=\"T_0efc7_row6_col13\" class=\"data row6 col13\" >8</td>\n",
       "      <td id=\"T_0efc7_row6_col14\" class=\"data row6 col14\" >13</td>\n",
       "      <td id=\"T_0efc7_row6_col15\" class=\"data row6 col15\" >nan</td>\n",
       "      <td id=\"T_0efc7_row6_col16\" class=\"data row6 col16\" >nan</td>\n",
       "      <td id=\"T_0efc7_row6_col17\" class=\"data row6 col17\" >nan</td>\n",
       "      <td id=\"T_0efc7_row6_col18\" class=\"data row6 col18\" >nan</td>\n",
       "      <td id=\"T_0efc7_row6_col19\" class=\"data row6 col19\" >False</td>\n",
       "      <td id=\"T_0efc7_row6_col20\" class=\"data row6 col20\" >False</td>\n",
       "      <td id=\"T_0efc7_row6_col21\" class=\"data row6 col21\" >False</td>\n",
       "      <td id=\"T_0efc7_row6_col22\" class=\"data row6 col22\" >False</td>\n",
       "      <td id=\"T_0efc7_row6_col23\" class=\"data row6 col23\" >Mettodo#7010</td>\n",
       "      <td id=\"T_0efc7_row6_col24\" class=\"data row6 col24\" >0x7710E7e881333Fd3396Ca5966BeD6E72746b612D</td>\n",
       "      <td id=\"T_0efc7_row6_col25\" class=\"data row6 col25\" >divine_comedian#5493</td>\n",
       "      <td id=\"T_0efc7_row6_col26\" class=\"data row6 col26\" >0x320c338BCF70bAAaE26e96201C33B48105Bc62C2</td>\n",
       "      <td id=\"T_0efc7_row6_col27\" class=\"data row6 col27\" >PhilH#1102</td>\n",
       "      <td id=\"T_0efc7_row6_col28\" class=\"data row6 col28\" >0xAa01DeC5307CF17F20881A3286dcaA062578cea7</td>\n",
       "      <td id=\"T_0efc7_row6_col29\" class=\"data row6 col29\" >EFRA#7972</td>\n",
       "      <td id=\"T_0efc7_row6_col30\" class=\"data row6 col30\" >0x438cDDcc8E6f0E0E18CE33F6b5a8fFCFAb5A999c</td>\n",
       "      <td id=\"T_0efc7_row6_col31\" class=\"data row6 col31\" >12.500000</td>\n",
       "      <td id=\"T_0efc7_row6_col32\" class=\"data row6 col32\" >0.103306</td>\n",
       "      <td id=\"T_0efc7_row6_col33\" class=\"data row6 col33\" >2.481202</td>\n",
       "    </tr>\n",
       "    <tr>\n",
       "      <th id=\"T_0efc7_level0_row7\" class=\"row_heading level0 row7\" >7</th>\n",
       "      <td id=\"T_0efc7_row7_col0\" class=\"data row7 col0\" >63dd41fb86f591dd748e053f</td>\n",
       "      <td id=\"T_0efc7_row7_col1\" class=\"data row7 col1\" >2023-02-03T17:18:51.140Z</td>\n",
       "      <td id=\"T_0efc7_row7_col2\" class=\"data row7 col2\" >enti#1546</td>\n",
       "      <td id=\"T_0efc7_row7_col3\" class=\"data row7 col3\" >6220d93f95a79aa51436be5e</td>\n",
       "      <td id=\"T_0efc7_row7_col4\" class=\"data row7 col4\" >0x6897aBe0fD62B589260784B21F4ca3F78A0D8017</td>\n",
       "      <td id=\"T_0efc7_row7_col5\" class=\"data row7 col5\" >Griff (💜,💜)#8888</td>\n",
       "      <td id=\"T_0efc7_row7_col6\" class=\"data row7 col6\" >621f79ce95a79aa51435b223</td>\n",
       "      <td id=\"T_0efc7_row7_col7\" class=\"data row7 col7\" >0x839395e20bbB182fa440d08F850E6c7A8f6F0780</td>\n",
       "      <td id=\"T_0efc7_row7_col8\" class=\"data row7 col8\" >for putting together an overview of options beyond conviction voting for distributing funds for public goods projects in TE</td>\n",
       "      <td id=\"T_0efc7_row7_col9\" class=\"data row7 col9\" >DISCORD:810180621930070088:810180622966325289</td>\n",
       "      <td id=\"T_0efc7_row7_col10\" class=\"data row7 col10\" >DISCORD:Token%20Engineering%20Commons:%F0%9F%99%8C%EF%BD%9Ccoordination</td>\n",
       "      <td id=\"T_0efc7_row7_col11\" class=\"data row7 col11\" >21</td>\n",
       "      <td id=\"T_0efc7_row7_col12\" class=\"data row7 col12\" >34</td>\n",
       "      <td id=\"T_0efc7_row7_col13\" class=\"data row7 col13\" >13</td>\n",
       "      <td id=\"T_0efc7_row7_col14\" class=\"data row7 col14\" >21</td>\n",
       "      <td id=\"T_0efc7_row7_col15\" class=\"data row7 col15\" >nan</td>\n",
       "      <td id=\"T_0efc7_row7_col16\" class=\"data row7 col16\" >nan</td>\n",
       "      <td id=\"T_0efc7_row7_col17\" class=\"data row7 col17\" >nan</td>\n",
       "      <td id=\"T_0efc7_row7_col18\" class=\"data row7 col18\" >nan</td>\n",
       "      <td id=\"T_0efc7_row7_col19\" class=\"data row7 col19\" >False</td>\n",
       "      <td id=\"T_0efc7_row7_col20\" class=\"data row7 col20\" >False</td>\n",
       "      <td id=\"T_0efc7_row7_col21\" class=\"data row7 col21\" >False</td>\n",
       "      <td id=\"T_0efc7_row7_col22\" class=\"data row7 col22\" >False</td>\n",
       "      <td id=\"T_0efc7_row7_col23\" class=\"data row7 col23\" >Mettodo#7010</td>\n",
       "      <td id=\"T_0efc7_row7_col24\" class=\"data row7 col24\" >0x7710E7e881333Fd3396Ca5966BeD6E72746b612D</td>\n",
       "      <td id=\"T_0efc7_row7_col25\" class=\"data row7 col25\" >divine_comedian#5493</td>\n",
       "      <td id=\"T_0efc7_row7_col26\" class=\"data row7 col26\" >0x320c338BCF70bAAaE26e96201C33B48105Bc62C2</td>\n",
       "      <td id=\"T_0efc7_row7_col27\" class=\"data row7 col27\" >PhilH#1102</td>\n",
       "      <td id=\"T_0efc7_row7_col28\" class=\"data row7 col28\" >0xAa01DeC5307CF17F20881A3286dcaA062578cea7</td>\n",
       "      <td id=\"T_0efc7_row7_col29\" class=\"data row7 col29\" >EFRA#7972</td>\n",
       "      <td id=\"T_0efc7_row7_col30\" class=\"data row7 col30\" >0x438cDDcc8E6f0E0E18CE33F6b5a8fFCFAb5A999c</td>\n",
       "      <td id=\"T_0efc7_row7_col31\" class=\"data row7 col31\" >22.250000</td>\n",
       "      <td id=\"T_0efc7_row7_col32\" class=\"data row7 col32\" >0.183884</td>\n",
       "      <td id=\"T_0efc7_row7_col33\" class=\"data row7 col33\" >4.416540</td>\n",
       "    </tr>\n",
       "    <tr>\n",
       "      <th id=\"T_0efc7_level0_row8\" class=\"row_heading level0 row8\" >8</th>\n",
       "      <td id=\"T_0efc7_row8_col0\" class=\"data row8 col0\" >63dec34e86f591dd748e054e</td>\n",
       "      <td id=\"T_0efc7_row8_col1\" class=\"data row8 col1\" >2023-02-04T20:42:54.028Z</td>\n",
       "      <td id=\"T_0efc7_row8_col2\" class=\"data row8 col2\" >bear100#9085</td>\n",
       "      <td id=\"T_0efc7_row8_col3\" class=\"data row8 col3\" >623ccc0771e68891990eb3c6</td>\n",
       "      <td id=\"T_0efc7_row8_col4\" class=\"data row8 col4\" >0x47a5BA5BE900fC22AD31BEC4c1ff54Df8e67cd70</td>\n",
       "      <td id=\"T_0efc7_row8_col5\" class=\"data row8 col5\" >acidlazzer#5796</td>\n",
       "      <td id=\"T_0efc7_row8_col6\" class=\"data row8 col6\" >621f79d095a79aa51435b5c8</td>\n",
       "      <td id=\"T_0efc7_row8_col7\" class=\"data row8 col7\" >0x8aA27E90E139d5AB5704df69429341cbCb2d2464</td>\n",
       "      <td id=\"T_0efc7_row8_col8\" class=\"data row8 col8\" >for always resolving my doubts about administration and transparency</td>\n",
       "      <td id=\"T_0efc7_row8_col9\" class=\"data row8 col9\" >DISCORD:810180621930070088:810180622336262195</td>\n",
       "      <td id=\"T_0efc7_row8_col10\" class=\"data row8 col10\" >DISCORD:Token%20Engineering%20Commons:%F0%9F%99%8F%EF%BD%9Cpraise</td>\n",
       "      <td id=\"T_0efc7_row8_col11\" class=\"data row8 col11\" >13</td>\n",
       "      <td id=\"T_0efc7_row8_col12\" class=\"data row8 col12\" >13</td>\n",
       "      <td id=\"T_0efc7_row8_col13\" class=\"data row8 col13\" >5</td>\n",
       "      <td id=\"T_0efc7_row8_col14\" class=\"data row8 col14\" >8</td>\n",
       "      <td id=\"T_0efc7_row8_col15\" class=\"data row8 col15\" >nan</td>\n",
       "      <td id=\"T_0efc7_row8_col16\" class=\"data row8 col16\" >nan</td>\n",
       "      <td id=\"T_0efc7_row8_col17\" class=\"data row8 col17\" >nan</td>\n",
       "      <td id=\"T_0efc7_row8_col18\" class=\"data row8 col18\" >nan</td>\n",
       "      <td id=\"T_0efc7_row8_col19\" class=\"data row8 col19\" >False</td>\n",
       "      <td id=\"T_0efc7_row8_col20\" class=\"data row8 col20\" >False</td>\n",
       "      <td id=\"T_0efc7_row8_col21\" class=\"data row8 col21\" >False</td>\n",
       "      <td id=\"T_0efc7_row8_col22\" class=\"data row8 col22\" >False</td>\n",
       "      <td id=\"T_0efc7_row8_col23\" class=\"data row8 col23\" >Mettodo#7010</td>\n",
       "      <td id=\"T_0efc7_row8_col24\" class=\"data row8 col24\" >0x7710E7e881333Fd3396Ca5966BeD6E72746b612D</td>\n",
       "      <td id=\"T_0efc7_row8_col25\" class=\"data row8 col25\" >divine_comedian#5493</td>\n",
       "      <td id=\"T_0efc7_row8_col26\" class=\"data row8 col26\" >0x320c338BCF70bAAaE26e96201C33B48105Bc62C2</td>\n",
       "      <td id=\"T_0efc7_row8_col27\" class=\"data row8 col27\" >PhilH#1102</td>\n",
       "      <td id=\"T_0efc7_row8_col28\" class=\"data row8 col28\" >0xAa01DeC5307CF17F20881A3286dcaA062578cea7</td>\n",
       "      <td id=\"T_0efc7_row8_col29\" class=\"data row8 col29\" >EFRA#7972</td>\n",
       "      <td id=\"T_0efc7_row8_col30\" class=\"data row8 col30\" >0x438cDDcc8E6f0E0E18CE33F6b5a8fFCFAb5A999c</td>\n",
       "      <td id=\"T_0efc7_row8_col31\" class=\"data row8 col31\" >9.750000</td>\n",
       "      <td id=\"T_0efc7_row8_col32\" class=\"data row8 col32\" >0.080579</td>\n",
       "      <td id=\"T_0efc7_row8_col33\" class=\"data row8 col33\" >1.935338</td>\n",
       "    </tr>\n",
       "  </tbody>\n",
       "</table>\n"
      ],
      "text/plain": [
       "<pandas.io.formats.style.Styler at 0x7fc47c65faf0>"
      ]
     },
     "execution_count": 6,
     "metadata": {},
     "output_type": "execute_result"
    }
   ],
   "source": [
    "def calc_praise_rewards(praiseData, tokensToDistribute):\n",
    "\n",
    "    totalPraisePoints = praiseData['AVG SCORE'].sum()\n",
    "\n",
    "    praiseData['PERCENTAGE'] = praiseData['AVG SCORE']/totalPraisePoints\n",
    "    praiseData['TOKEN TO RECEIVE'] = praiseData['PERCENTAGE'] * tokensToDistribute\n",
    "\n",
    "    return praiseData\n",
    "\n",
    "praise_distribution = calc_praise_rewards(praise_data.copy(), NUMBER_OF_PRAISE_REWARD_TOKENS_TO_DISTRIBUTE)\n",
    "praise_distribution.style\n"
   ]
  },
  {
   "cell_type": "markdown",
   "id": "productive-trash",
   "metadata": {
    "papermill": {
     "duration": 0.007626,
     "end_time": "2023-02-21T15:33:07.133383",
     "exception": false,
     "start_time": "2023-02-21T15:33:07.125757",
     "status": "completed"
    },
    "tags": []
   },
   "source": [
    "### SourceCred\n",
    "For now Sourcecred does the distribution independently, but if this changed we would calculate the rewards in the same way."
   ]
  },
  {
   "cell_type": "markdown",
   "id": "tamil-boutique",
   "metadata": {
    "papermill": {
     "duration": 0.007132,
     "end_time": "2023-02-21T15:33:07.147538",
     "exception": false,
     "start_time": "2023-02-21T15:33:07.140406",
     "status": "completed"
    },
    "tags": []
   },
   "source": [
    "## Preparing and combining the Datasets\n",
    "\n",
    "Now that we have both distributions, we can combine them into one table.\n",
    "But before that, we need to prepare the data and clean it a bit. We also use the chance to generate a table which shows us how much praise each user received. We'll use it later in our analysis."
   ]
  },
  {
   "cell_type": "code",
   "execution_count": 7,
   "id": "molecular-indonesia",
   "metadata": {
    "execution": {
     "iopub.execute_input": "2023-02-21T15:33:07.162519Z",
     "iopub.status.busy": "2023-02-21T15:33:07.162415Z",
     "iopub.status.idle": "2023-02-21T15:33:07.173455Z",
     "shell.execute_reply": "2023-02-21T15:33:07.173171Z"
    },
    "jupyter": {
     "source_hidden": true
    },
    "papermill": {
     "duration": 0.019799,
     "end_time": "2023-02-21T15:33:07.174233",
     "exception": false,
     "start_time": "2023-02-21T15:33:07.154434",
     "status": "completed"
    },
    "scrolled": true,
    "tags": []
   },
   "outputs": [
    {
     "data": {
      "text/html": [
       "<style type=\"text/css\">\n",
       "</style>\n",
       "<table id=\"T_66621_\">\n",
       "  <thead>\n",
       "    <tr>\n",
       "      <th class=\"blank level0\" >&nbsp;</th>\n",
       "      <th class=\"col_heading level0 col0\" >USER IDENTITY</th>\n",
       "      <th class=\"col_heading level0 col1\" >USER ADDRESS</th>\n",
       "      <th class=\"col_heading level0 col2\" >PERCENTAGE</th>\n",
       "      <th class=\"col_heading level0 col3\" >TOKEN TO RECEIVE</th>\n",
       "    </tr>\n",
       "  </thead>\n",
       "  <tbody>\n",
       "    <tr>\n",
       "      <th id=\"T_66621_level0_row0\" class=\"row_heading level0 row0\" >0</th>\n",
       "      <td id=\"T_66621_row0_col0\" class=\"data row0 col0\" >innov8tor3#3988</td>\n",
       "      <td id=\"T_66621_row0_col1\" class=\"data row0 col1\" >0xBCAD90F4a1ED4067d9bC33D4089FF18A82250253</td>\n",
       "      <td id=\"T_66621_row0_col2\" class=\"data row0 col2\" >0.097107</td>\n",
       "      <td id=\"T_66621_row0_col3\" class=\"data row0 col3\" >2.332330</td>\n",
       "    </tr>\n",
       "    <tr>\n",
       "      <th id=\"T_66621_level0_row1\" class=\"row_heading level0 row1\" >1</th>\n",
       "      <td id=\"T_66621_row1_col0\" class=\"data row1 col0\" >durgadas#9280</td>\n",
       "      <td id=\"T_66621_row1_col1\" class=\"data row1 col1\" >0xfF6d6a7718A234A84f740480Dbb07f6c09cF1cD5</td>\n",
       "      <td id=\"T_66621_row1_col2\" class=\"data row1 col2\" >0.123967</td>\n",
       "      <td id=\"T_66621_row1_col3\" class=\"data row1 col3\" >2.977443</td>\n",
       "    </tr>\n",
       "    <tr>\n",
       "      <th id=\"T_66621_level0_row2\" class=\"row_heading level0 row2\" >2</th>\n",
       "      <td id=\"T_66621_row2_col0\" class=\"data row2 col0\" >BiancaGadelha#2667</td>\n",
       "      <td id=\"T_66621_row2_col1\" class=\"data row2 col1\" >0x1375847014BA64517210cBFE185808232Cf45d4a</td>\n",
       "      <td id=\"T_66621_row2_col2\" class=\"data row2 col2\" >0.080579</td>\n",
       "      <td id=\"T_66621_row2_col3\" class=\"data row2 col3\" >1.935338</td>\n",
       "    </tr>\n",
       "    <tr>\n",
       "      <th id=\"T_66621_level0_row3\" class=\"row_heading level0 row3\" >3</th>\n",
       "      <td id=\"T_66621_row3_col0\" class=\"data row3 col0\" >kristofer#1475</td>\n",
       "      <td id=\"T_66621_row3_col1\" class=\"data row3 col1\" >0xa32aECda752cF4EF89956e83d60C04835d4FA867</td>\n",
       "      <td id=\"T_66621_row3_col2\" class=\"data row3 col2\" >0.157025</td>\n",
       "      <td id=\"T_66621_row3_col3\" class=\"data row3 col3\" >3.771427</td>\n",
       "    </tr>\n",
       "    <tr>\n",
       "      <th id=\"T_66621_level0_row4\" class=\"row_heading level0 row4\" >4</th>\n",
       "      <td id=\"T_66621_row4_col0\" class=\"data row4 col0\" >Jeremy&TheGospelOfChange#8201</td>\n",
       "      <td id=\"T_66621_row4_col1\" class=\"data row4 col1\" >0xCa63608615DE005339652C0ECA93C5836eB0C2BD</td>\n",
       "      <td id=\"T_66621_row4_col2\" class=\"data row4 col2\" >0.086777</td>\n",
       "      <td id=\"T_66621_row4_col3\" class=\"data row4 col3\" >2.084210</td>\n",
       "    </tr>\n",
       "    <tr>\n",
       "      <th id=\"T_66621_level0_row5\" class=\"row_heading level0 row5\" >5</th>\n",
       "      <td id=\"T_66621_row5_col0\" class=\"data row5 col0\" >Juankbell#7458</td>\n",
       "      <td id=\"T_66621_row5_col1\" class=\"data row5 col1\" >0x7d547666209755FB833f9B37EebEa38eBF513Abb</td>\n",
       "      <td id=\"T_66621_row5_col2\" class=\"data row5 col2\" >0.086777</td>\n",
       "      <td id=\"T_66621_row5_col3\" class=\"data row5 col3\" >2.084210</td>\n",
       "    </tr>\n",
       "    <tr>\n",
       "      <th id=\"T_66621_level0_row6\" class=\"row_heading level0 row6\" >6</th>\n",
       "      <td id=\"T_66621_row6_col0\" class=\"data row6 col0\" >BiancaGadelha#2667</td>\n",
       "      <td id=\"T_66621_row6_col1\" class=\"data row6 col1\" >0x1375847014BA64517210cBFE185808232Cf45d4a</td>\n",
       "      <td id=\"T_66621_row6_col2\" class=\"data row6 col2\" >0.103306</td>\n",
       "      <td id=\"T_66621_row6_col3\" class=\"data row6 col3\" >2.481202</td>\n",
       "    </tr>\n",
       "    <tr>\n",
       "      <th id=\"T_66621_level0_row7\" class=\"row_heading level0 row7\" >7</th>\n",
       "      <td id=\"T_66621_row7_col0\" class=\"data row7 col0\" >enti#1546</td>\n",
       "      <td id=\"T_66621_row7_col1\" class=\"data row7 col1\" >0x6897aBe0fD62B589260784B21F4ca3F78A0D8017</td>\n",
       "      <td id=\"T_66621_row7_col2\" class=\"data row7 col2\" >0.183884</td>\n",
       "      <td id=\"T_66621_row7_col3\" class=\"data row7 col3\" >4.416540</td>\n",
       "    </tr>\n",
       "    <tr>\n",
       "      <th id=\"T_66621_level0_row8\" class=\"row_heading level0 row8\" >8</th>\n",
       "      <td id=\"T_66621_row8_col0\" class=\"data row8 col0\" >bear100#9085</td>\n",
       "      <td id=\"T_66621_row8_col1\" class=\"data row8 col1\" >0x47a5BA5BE900fC22AD31BEC4c1ff54Df8e67cd70</td>\n",
       "      <td id=\"T_66621_row8_col2\" class=\"data row8 col2\" >0.080579</td>\n",
       "      <td id=\"T_66621_row8_col3\" class=\"data row8 col3\" >1.935338</td>\n",
       "    </tr>\n",
       "  </tbody>\n",
       "</table>\n"
      ],
      "text/plain": [
       "<pandas.io.formats.style.Styler at 0x7fc47c6181f0>"
      ]
     },
     "execution_count": 7,
     "metadata": {},
     "output_type": "execute_result"
    }
   ],
   "source": [
    "\n",
    "#General Helper func. Puts all the \"processing we probably won't need to do later or do differently\" in one place\n",
    "#  -removes the '#' and following from discord names\n",
    "#  -Some renaming and dropping \n",
    "def prepare_praise(praise_data):\n",
    "\n",
    "    praise_data.rename(columns = {'TO USER ACCOUNT':'USER IDENTITY'}, inplace = True)\n",
    "    praise_data.rename(columns = {'TO ETH ADDRESS':'USER ADDRESS'}, inplace = True)\n",
    "    praise_data['USER ADDRESS'].fillna('MISSING USER ADDRESS', inplace=True)\n",
    "    \n",
    "    processed_praise = praise_data[['USER IDENTITY', 'USER ADDRESS', 'PERCENTAGE', 'TOKEN TO RECEIVE']]\n",
    "    praise_by_user = praise_data[['USER IDENTITY', 'USER ADDRESS', 'AVG SCORE', 'PERCENTAGE', 'TOKEN TO RECEIVE']].copy().groupby(['USER IDENTITY', 'USER ADDRESS']).agg('sum').reset_index()\n",
    "    \n",
    "    return processed_praise, praise_by_user\n",
    "\n",
    "\n",
    "processed_praise, praise_by_user = prepare_praise(praise_distribution.copy())\n",
    "processed_praise.style\n"
   ]
  },
  {
   "cell_type": "markdown",
   "id": "unknown-crime",
   "metadata": {
    "papermill": {
     "duration": 0.00737,
     "end_time": "2023-02-21T15:33:07.189305",
     "exception": false,
     "start_time": "2023-02-21T15:33:07.181935",
     "status": "completed"
    },
    "tags": []
   },
   "source": [
    "Let's also create a table which will let us focus on the quantifiers. It will show us what value each quantifier gave to each single praise item."
   ]
  },
  {
   "cell_type": "code",
   "execution_count": 8,
   "id": "statistical-premiere",
   "metadata": {
    "execution": {
     "iopub.execute_input": "2023-02-21T15:33:07.205238Z",
     "iopub.status.busy": "2023-02-21T15:33:07.204531Z",
     "iopub.status.idle": "2023-02-21T15:33:07.216636Z",
     "shell.execute_reply": "2023-02-21T15:33:07.216366Z"
    },
    "jupyter": {
     "source_hidden": true
    },
    "papermill": {
     "duration": 0.021155,
     "end_time": "2023-02-21T15:33:07.217461",
     "exception": false,
     "start_time": "2023-02-21T15:33:07.196306",
     "status": "completed"
    },
    "tags": []
   },
   "outputs": [
    {
     "data": {
      "text/html": [
       "<style type=\"text/css\">\n",
       "</style>\n",
       "<table id=\"T_bcb2d_\">\n",
       "  <thead>\n",
       "    <tr>\n",
       "      <th class=\"blank level0\" >&nbsp;</th>\n",
       "      <th class=\"col_heading level0 col0\" >QUANT_ID</th>\n",
       "      <th class=\"col_heading level0 col1\" >QUANT_ADDRESS</th>\n",
       "      <th class=\"col_heading level0 col2\" >PRAISE_ID</th>\n",
       "      <th class=\"col_heading level0 col3\" >QUANT_VALUE</th>\n",
       "    </tr>\n",
       "  </thead>\n",
       "  <tbody>\n",
       "    <tr>\n",
       "      <th id=\"T_bcb2d_level0_row0\" class=\"row_heading level0 row0\" >0</th>\n",
       "      <td id=\"T_bcb2d_row0_col0\" class=\"data row0 col0\" >EFRA#7972</td>\n",
       "      <td id=\"T_bcb2d_row0_col1\" class=\"data row0 col1\" >0x438cDDcc8E6f0E0E18CE33F6b5a8fFCFAb5A999c</td>\n",
       "      <td id=\"T_bcb2d_row0_col2\" class=\"data row0 col2\" >63d7dbe586f591dd748e04dd</td>\n",
       "      <td id=\"T_bcb2d_row0_col3\" class=\"data row0 col3\" >21</td>\n",
       "    </tr>\n",
       "    <tr>\n",
       "      <th id=\"T_bcb2d_level0_row1\" class=\"row_heading level0 row1\" >1</th>\n",
       "      <td id=\"T_bcb2d_row1_col0\" class=\"data row1 col0\" >EFRA#7972</td>\n",
       "      <td id=\"T_bcb2d_row1_col1\" class=\"data row1 col1\" >0x438cDDcc8E6f0E0E18CE33F6b5a8fFCFAb5A999c</td>\n",
       "      <td id=\"T_bcb2d_row1_col2\" class=\"data row1 col2\" >63d802e686f591dd748e04ec</td>\n",
       "      <td id=\"T_bcb2d_row1_col3\" class=\"data row1 col3\" >13</td>\n",
       "    </tr>\n",
       "    <tr>\n",
       "      <th id=\"T_bcb2d_level0_row2\" class=\"row_heading level0 row2\" >2</th>\n",
       "      <td id=\"T_bcb2d_row2_col0\" class=\"data row2 col0\" >EFRA#7972</td>\n",
       "      <td id=\"T_bcb2d_row2_col1\" class=\"data row2 col1\" >0x438cDDcc8E6f0E0E18CE33F6b5a8fFCFAb5A999c</td>\n",
       "      <td id=\"T_bcb2d_row2_col2\" class=\"data row2 col2\" >63d9e56986f591dd748e04fb</td>\n",
       "      <td id=\"T_bcb2d_row2_col3\" class=\"data row2 col3\" >8</td>\n",
       "    </tr>\n",
       "    <tr>\n",
       "      <th id=\"T_bcb2d_level0_row3\" class=\"row_heading level0 row3\" >3</th>\n",
       "      <td id=\"T_bcb2d_row3_col0\" class=\"data row3 col0\" >EFRA#7972</td>\n",
       "      <td id=\"T_bcb2d_row3_col1\" class=\"data row3 col1\" >0x438cDDcc8E6f0E0E18CE33F6b5a8fFCFAb5A999c</td>\n",
       "      <td id=\"T_bcb2d_row3_col2\" class=\"data row3 col2\" >63d9e8eb86f591dd748e050a</td>\n",
       "      <td id=\"T_bcb2d_row3_col3\" class=\"data row3 col3\" >21</td>\n",
       "    </tr>\n",
       "    <tr>\n",
       "      <th id=\"T_bcb2d_level0_row4\" class=\"row_heading level0 row4\" >4</th>\n",
       "      <td id=\"T_bcb2d_row4_col0\" class=\"data row4 col0\" >EFRA#7972</td>\n",
       "      <td id=\"T_bcb2d_row4_col1\" class=\"data row4 col1\" >0x438cDDcc8E6f0E0E18CE33F6b5a8fFCFAb5A999c</td>\n",
       "      <td id=\"T_bcb2d_row4_col2\" class=\"data row4 col2\" >63da2df386f591dd748e0519</td>\n",
       "      <td id=\"T_bcb2d_row4_col3\" class=\"data row4 col3\" >13</td>\n",
       "    </tr>\n",
       "    <tr>\n",
       "      <th id=\"T_bcb2d_level0_row5\" class=\"row_heading level0 row5\" >5</th>\n",
       "      <td id=\"T_bcb2d_row5_col0\" class=\"data row5 col0\" >EFRA#7972</td>\n",
       "      <td id=\"T_bcb2d_row5_col1\" class=\"data row5 col1\" >0x438cDDcc8E6f0E0E18CE33F6b5a8fFCFAb5A999c</td>\n",
       "      <td id=\"T_bcb2d_row5_col2\" class=\"data row5 col2\" >63da2df486f591dd748e0520</td>\n",
       "      <td id=\"T_bcb2d_row5_col3\" class=\"data row5 col3\" >13</td>\n",
       "    </tr>\n",
       "    <tr>\n",
       "      <th id=\"T_bcb2d_level0_row6\" class=\"row_heading level0 row6\" >6</th>\n",
       "      <td id=\"T_bcb2d_row6_col0\" class=\"data row6 col0\" >EFRA#7972</td>\n",
       "      <td id=\"T_bcb2d_row6_col1\" class=\"data row6 col1\" >0x438cDDcc8E6f0E0E18CE33F6b5a8fFCFAb5A999c</td>\n",
       "      <td id=\"T_bcb2d_row6_col2\" class=\"data row6 col2\" >63da2df586f591dd748e0527</td>\n",
       "      <td id=\"T_bcb2d_row6_col3\" class=\"data row6 col3\" >13</td>\n",
       "    </tr>\n",
       "    <tr>\n",
       "      <th id=\"T_bcb2d_level0_row7\" class=\"row_heading level0 row7\" >7</th>\n",
       "      <td id=\"T_bcb2d_row7_col0\" class=\"data row7 col0\" >EFRA#7972</td>\n",
       "      <td id=\"T_bcb2d_row7_col1\" class=\"data row7 col1\" >0x438cDDcc8E6f0E0E18CE33F6b5a8fFCFAb5A999c</td>\n",
       "      <td id=\"T_bcb2d_row7_col2\" class=\"data row7 col2\" >63dd41fb86f591dd748e053f</td>\n",
       "      <td id=\"T_bcb2d_row7_col3\" class=\"data row7 col3\" >21</td>\n",
       "    </tr>\n",
       "    <tr>\n",
       "      <th id=\"T_bcb2d_level0_row8\" class=\"row_heading level0 row8\" >8</th>\n",
       "      <td id=\"T_bcb2d_row8_col0\" class=\"data row8 col0\" >EFRA#7972</td>\n",
       "      <td id=\"T_bcb2d_row8_col1\" class=\"data row8 col1\" >0x438cDDcc8E6f0E0E18CE33F6b5a8fFCFAb5A999c</td>\n",
       "      <td id=\"T_bcb2d_row8_col2\" class=\"data row8 col2\" >63dec34e86f591dd748e054e</td>\n",
       "      <td id=\"T_bcb2d_row8_col3\" class=\"data row8 col3\" >8</td>\n",
       "    </tr>\n",
       "    <tr>\n",
       "      <th id=\"T_bcb2d_level0_row9\" class=\"row_heading level0 row9\" >9</th>\n",
       "      <td id=\"T_bcb2d_row9_col0\" class=\"data row9 col0\" >Mettodo#7010</td>\n",
       "      <td id=\"T_bcb2d_row9_col1\" class=\"data row9 col1\" >0x7710E7e881333Fd3396Ca5966BeD6E72746b612D</td>\n",
       "      <td id=\"T_bcb2d_row9_col2\" class=\"data row9 col2\" >63d7dbe586f591dd748e04dd</td>\n",
       "      <td id=\"T_bcb2d_row9_col3\" class=\"data row9 col3\" >8</td>\n",
       "    </tr>\n",
       "    <tr>\n",
       "      <th id=\"T_bcb2d_level0_row10\" class=\"row_heading level0 row10\" >10</th>\n",
       "      <td id=\"T_bcb2d_row10_col0\" class=\"data row10 col0\" >Mettodo#7010</td>\n",
       "      <td id=\"T_bcb2d_row10_col1\" class=\"data row10 col1\" >0x7710E7e881333Fd3396Ca5966BeD6E72746b612D</td>\n",
       "      <td id=\"T_bcb2d_row10_col2\" class=\"data row10 col2\" >63d802e686f591dd748e04ec</td>\n",
       "      <td id=\"T_bcb2d_row10_col3\" class=\"data row10 col3\" >13</td>\n",
       "    </tr>\n",
       "    <tr>\n",
       "      <th id=\"T_bcb2d_level0_row11\" class=\"row_heading level0 row11\" >11</th>\n",
       "      <td id=\"T_bcb2d_row11_col0\" class=\"data row11 col0\" >Mettodo#7010</td>\n",
       "      <td id=\"T_bcb2d_row11_col1\" class=\"data row11 col1\" >0x7710E7e881333Fd3396Ca5966BeD6E72746b612D</td>\n",
       "      <td id=\"T_bcb2d_row11_col2\" class=\"data row11 col2\" >63d9e56986f591dd748e04fb</td>\n",
       "      <td id=\"T_bcb2d_row11_col3\" class=\"data row11 col3\" >13</td>\n",
       "    </tr>\n",
       "    <tr>\n",
       "      <th id=\"T_bcb2d_level0_row12\" class=\"row_heading level0 row12\" >12</th>\n",
       "      <td id=\"T_bcb2d_row12_col0\" class=\"data row12 col0\" >Mettodo#7010</td>\n",
       "      <td id=\"T_bcb2d_row12_col1\" class=\"data row12 col1\" >0x7710E7e881333Fd3396Ca5966BeD6E72746b612D</td>\n",
       "      <td id=\"T_bcb2d_row12_col2\" class=\"data row12 col2\" >63d9e8eb86f591dd748e050a</td>\n",
       "      <td id=\"T_bcb2d_row12_col3\" class=\"data row12 col3\" >21</td>\n",
       "    </tr>\n",
       "    <tr>\n",
       "      <th id=\"T_bcb2d_level0_row13\" class=\"row_heading level0 row13\" >13</th>\n",
       "      <td id=\"T_bcb2d_row13_col0\" class=\"data row13 col0\" >Mettodo#7010</td>\n",
       "      <td id=\"T_bcb2d_row13_col1\" class=\"data row13 col1\" >0x7710E7e881333Fd3396Ca5966BeD6E72746b612D</td>\n",
       "      <td id=\"T_bcb2d_row13_col2\" class=\"data row13 col2\" >63da2df386f591dd748e0519</td>\n",
       "      <td id=\"T_bcb2d_row13_col3\" class=\"data row13 col3\" >8</td>\n",
       "    </tr>\n",
       "    <tr>\n",
       "      <th id=\"T_bcb2d_level0_row14\" class=\"row_heading level0 row14\" >14</th>\n",
       "      <td id=\"T_bcb2d_row14_col0\" class=\"data row14 col0\" >Mettodo#7010</td>\n",
       "      <td id=\"T_bcb2d_row14_col1\" class=\"data row14 col1\" >0x7710E7e881333Fd3396Ca5966BeD6E72746b612D</td>\n",
       "      <td id=\"T_bcb2d_row14_col2\" class=\"data row14 col2\" >63da2df486f591dd748e0520</td>\n",
       "      <td id=\"T_bcb2d_row14_col3\" class=\"data row14 col3\" >8</td>\n",
       "    </tr>\n",
       "    <tr>\n",
       "      <th id=\"T_bcb2d_level0_row15\" class=\"row_heading level0 row15\" >15</th>\n",
       "      <td id=\"T_bcb2d_row15_col0\" class=\"data row15 col0\" >Mettodo#7010</td>\n",
       "      <td id=\"T_bcb2d_row15_col1\" class=\"data row15 col1\" >0x7710E7e881333Fd3396Ca5966BeD6E72746b612D</td>\n",
       "      <td id=\"T_bcb2d_row15_col2\" class=\"data row15 col2\" >63da2df586f591dd748e0527</td>\n",
       "      <td id=\"T_bcb2d_row15_col3\" class=\"data row15 col3\" >8</td>\n",
       "    </tr>\n",
       "    <tr>\n",
       "      <th id=\"T_bcb2d_level0_row16\" class=\"row_heading level0 row16\" >16</th>\n",
       "      <td id=\"T_bcb2d_row16_col0\" class=\"data row16 col0\" >Mettodo#7010</td>\n",
       "      <td id=\"T_bcb2d_row16_col1\" class=\"data row16 col1\" >0x7710E7e881333Fd3396Ca5966BeD6E72746b612D</td>\n",
       "      <td id=\"T_bcb2d_row16_col2\" class=\"data row16 col2\" >63dd41fb86f591dd748e053f</td>\n",
       "      <td id=\"T_bcb2d_row16_col3\" class=\"data row16 col3\" >21</td>\n",
       "    </tr>\n",
       "    <tr>\n",
       "      <th id=\"T_bcb2d_level0_row17\" class=\"row_heading level0 row17\" >17</th>\n",
       "      <td id=\"T_bcb2d_row17_col0\" class=\"data row17 col0\" >Mettodo#7010</td>\n",
       "      <td id=\"T_bcb2d_row17_col1\" class=\"data row17 col1\" >0x7710E7e881333Fd3396Ca5966BeD6E72746b612D</td>\n",
       "      <td id=\"T_bcb2d_row17_col2\" class=\"data row17 col2\" >63dec34e86f591dd748e054e</td>\n",
       "      <td id=\"T_bcb2d_row17_col3\" class=\"data row17 col3\" >13</td>\n",
       "    </tr>\n",
       "    <tr>\n",
       "      <th id=\"T_bcb2d_level0_row18\" class=\"row_heading level0 row18\" >18</th>\n",
       "      <td id=\"T_bcb2d_row18_col0\" class=\"data row18 col0\" >PhilH#1102</td>\n",
       "      <td id=\"T_bcb2d_row18_col1\" class=\"data row18 col1\" >0xAa01DeC5307CF17F20881A3286dcaA062578cea7</td>\n",
       "      <td id=\"T_bcb2d_row18_col2\" class=\"data row18 col2\" >63d7dbe586f591dd748e04dd</td>\n",
       "      <td id=\"T_bcb2d_row18_col3\" class=\"data row18 col3\" >5</td>\n",
       "    </tr>\n",
       "    <tr>\n",
       "      <th id=\"T_bcb2d_level0_row19\" class=\"row_heading level0 row19\" >19</th>\n",
       "      <td id=\"T_bcb2d_row19_col0\" class=\"data row19 col0\" >PhilH#1102</td>\n",
       "      <td id=\"T_bcb2d_row19_col1\" class=\"data row19 col1\" >0xAa01DeC5307CF17F20881A3286dcaA062578cea7</td>\n",
       "      <td id=\"T_bcb2d_row19_col2\" class=\"data row19 col2\" >63d802e686f591dd748e04ec</td>\n",
       "      <td id=\"T_bcb2d_row19_col3\" class=\"data row19 col3\" >13</td>\n",
       "    </tr>\n",
       "    <tr>\n",
       "      <th id=\"T_bcb2d_level0_row20\" class=\"row_heading level0 row20\" >20</th>\n",
       "      <td id=\"T_bcb2d_row20_col0\" class=\"data row20 col0\" >PhilH#1102</td>\n",
       "      <td id=\"T_bcb2d_row20_col1\" class=\"data row20 col1\" >0xAa01DeC5307CF17F20881A3286dcaA062578cea7</td>\n",
       "      <td id=\"T_bcb2d_row20_col2\" class=\"data row20 col2\" >63d9e56986f591dd748e04fb</td>\n",
       "      <td id=\"T_bcb2d_row20_col3\" class=\"data row20 col3\" >5</td>\n",
       "    </tr>\n",
       "    <tr>\n",
       "      <th id=\"T_bcb2d_level0_row21\" class=\"row_heading level0 row21\" >21</th>\n",
       "      <td id=\"T_bcb2d_row21_col0\" class=\"data row21 col0\" >PhilH#1102</td>\n",
       "      <td id=\"T_bcb2d_row21_col1\" class=\"data row21 col1\" >0xAa01DeC5307CF17F20881A3286dcaA062578cea7</td>\n",
       "      <td id=\"T_bcb2d_row21_col2\" class=\"data row21 col2\" >63d9e8eb86f591dd748e050a</td>\n",
       "      <td id=\"T_bcb2d_row21_col3\" class=\"data row21 col3\" >21</td>\n",
       "    </tr>\n",
       "    <tr>\n",
       "      <th id=\"T_bcb2d_level0_row22\" class=\"row_heading level0 row22\" >22</th>\n",
       "      <td id=\"T_bcb2d_row22_col0\" class=\"data row22 col0\" >PhilH#1102</td>\n",
       "      <td id=\"T_bcb2d_row22_col1\" class=\"data row22 col1\" >0xAa01DeC5307CF17F20881A3286dcaA062578cea7</td>\n",
       "      <td id=\"T_bcb2d_row22_col2\" class=\"data row22 col2\" >63da2df386f591dd748e0519</td>\n",
       "      <td id=\"T_bcb2d_row22_col3\" class=\"data row22 col3\" >8</td>\n",
       "    </tr>\n",
       "    <tr>\n",
       "      <th id=\"T_bcb2d_level0_row23\" class=\"row_heading level0 row23\" >23</th>\n",
       "      <td id=\"T_bcb2d_row23_col0\" class=\"data row23 col0\" >PhilH#1102</td>\n",
       "      <td id=\"T_bcb2d_row23_col1\" class=\"data row23 col1\" >0xAa01DeC5307CF17F20881A3286dcaA062578cea7</td>\n",
       "      <td id=\"T_bcb2d_row23_col2\" class=\"data row23 col2\" >63da2df486f591dd748e0520</td>\n",
       "      <td id=\"T_bcb2d_row23_col3\" class=\"data row23 col3\" >8</td>\n",
       "    </tr>\n",
       "    <tr>\n",
       "      <th id=\"T_bcb2d_level0_row24\" class=\"row_heading level0 row24\" >24</th>\n",
       "      <td id=\"T_bcb2d_row24_col0\" class=\"data row24 col0\" >PhilH#1102</td>\n",
       "      <td id=\"T_bcb2d_row24_col1\" class=\"data row24 col1\" >0xAa01DeC5307CF17F20881A3286dcaA062578cea7</td>\n",
       "      <td id=\"T_bcb2d_row24_col2\" class=\"data row24 col2\" >63da2df586f591dd748e0527</td>\n",
       "      <td id=\"T_bcb2d_row24_col3\" class=\"data row24 col3\" >8</td>\n",
       "    </tr>\n",
       "    <tr>\n",
       "      <th id=\"T_bcb2d_level0_row25\" class=\"row_heading level0 row25\" >25</th>\n",
       "      <td id=\"T_bcb2d_row25_col0\" class=\"data row25 col0\" >PhilH#1102</td>\n",
       "      <td id=\"T_bcb2d_row25_col1\" class=\"data row25 col1\" >0xAa01DeC5307CF17F20881A3286dcaA062578cea7</td>\n",
       "      <td id=\"T_bcb2d_row25_col2\" class=\"data row25 col2\" >63dd41fb86f591dd748e053f</td>\n",
       "      <td id=\"T_bcb2d_row25_col3\" class=\"data row25 col3\" >13</td>\n",
       "    </tr>\n",
       "    <tr>\n",
       "      <th id=\"T_bcb2d_level0_row26\" class=\"row_heading level0 row26\" >26</th>\n",
       "      <td id=\"T_bcb2d_row26_col0\" class=\"data row26 col0\" >PhilH#1102</td>\n",
       "      <td id=\"T_bcb2d_row26_col1\" class=\"data row26 col1\" >0xAa01DeC5307CF17F20881A3286dcaA062578cea7</td>\n",
       "      <td id=\"T_bcb2d_row26_col2\" class=\"data row26 col2\" >63dec34e86f591dd748e054e</td>\n",
       "      <td id=\"T_bcb2d_row26_col3\" class=\"data row26 col3\" >5</td>\n",
       "    </tr>\n",
       "    <tr>\n",
       "      <th id=\"T_bcb2d_level0_row27\" class=\"row_heading level0 row27\" >27</th>\n",
       "      <td id=\"T_bcb2d_row27_col0\" class=\"data row27 col0\" >divine_comedian#5493</td>\n",
       "      <td id=\"T_bcb2d_row27_col1\" class=\"data row27 col1\" >0x320c338BCF70bAAaE26e96201C33B48105Bc62C2</td>\n",
       "      <td id=\"T_bcb2d_row27_col2\" class=\"data row27 col2\" >63d7dbe586f591dd748e04dd</td>\n",
       "      <td id=\"T_bcb2d_row27_col3\" class=\"data row27 col3\" >13</td>\n",
       "    </tr>\n",
       "    <tr>\n",
       "      <th id=\"T_bcb2d_level0_row28\" class=\"row_heading level0 row28\" >28</th>\n",
       "      <td id=\"T_bcb2d_row28_col0\" class=\"data row28 col0\" >divine_comedian#5493</td>\n",
       "      <td id=\"T_bcb2d_row28_col1\" class=\"data row28 col1\" >0x320c338BCF70bAAaE26e96201C33B48105Bc62C2</td>\n",
       "      <td id=\"T_bcb2d_row28_col2\" class=\"data row28 col2\" >63d802e686f591dd748e04ec</td>\n",
       "      <td id=\"T_bcb2d_row28_col3\" class=\"data row28 col3\" >21</td>\n",
       "    </tr>\n",
       "    <tr>\n",
       "      <th id=\"T_bcb2d_level0_row29\" class=\"row_heading level0 row29\" >29</th>\n",
       "      <td id=\"T_bcb2d_row29_col0\" class=\"data row29 col0\" >divine_comedian#5493</td>\n",
       "      <td id=\"T_bcb2d_row29_col1\" class=\"data row29 col1\" >0x320c338BCF70bAAaE26e96201C33B48105Bc62C2</td>\n",
       "      <td id=\"T_bcb2d_row29_col2\" class=\"data row29 col2\" >63d9e56986f591dd748e04fb</td>\n",
       "      <td id=\"T_bcb2d_row29_col3\" class=\"data row29 col3\" >13</td>\n",
       "    </tr>\n",
       "    <tr>\n",
       "      <th id=\"T_bcb2d_level0_row30\" class=\"row_heading level0 row30\" >30</th>\n",
       "      <td id=\"T_bcb2d_row30_col0\" class=\"data row30 col0\" >divine_comedian#5493</td>\n",
       "      <td id=\"T_bcb2d_row30_col1\" class=\"data row30 col1\" >0x320c338BCF70bAAaE26e96201C33B48105Bc62C2</td>\n",
       "      <td id=\"T_bcb2d_row30_col2\" class=\"data row30 col2\" >63d9e8eb86f591dd748e050a</td>\n",
       "      <td id=\"T_bcb2d_row30_col3\" class=\"data row30 col3\" >13</td>\n",
       "    </tr>\n",
       "    <tr>\n",
       "      <th id=\"T_bcb2d_level0_row31\" class=\"row_heading level0 row31\" >31</th>\n",
       "      <td id=\"T_bcb2d_row31_col0\" class=\"data row31 col0\" >divine_comedian#5493</td>\n",
       "      <td id=\"T_bcb2d_row31_col1\" class=\"data row31 col1\" >0x320c338BCF70bAAaE26e96201C33B48105Bc62C2</td>\n",
       "      <td id=\"T_bcb2d_row31_col2\" class=\"data row31 col2\" >63da2df386f591dd748e0519</td>\n",
       "      <td id=\"T_bcb2d_row31_col3\" class=\"data row31 col3\" >13</td>\n",
       "    </tr>\n",
       "    <tr>\n",
       "      <th id=\"T_bcb2d_level0_row32\" class=\"row_heading level0 row32\" >32</th>\n",
       "      <td id=\"T_bcb2d_row32_col0\" class=\"data row32 col0\" >divine_comedian#5493</td>\n",
       "      <td id=\"T_bcb2d_row32_col1\" class=\"data row32 col1\" >0x320c338BCF70bAAaE26e96201C33B48105Bc62C2</td>\n",
       "      <td id=\"T_bcb2d_row32_col2\" class=\"data row32 col2\" >63da2df486f591dd748e0520</td>\n",
       "      <td id=\"T_bcb2d_row32_col3\" class=\"data row32 col3\" >13</td>\n",
       "    </tr>\n",
       "    <tr>\n",
       "      <th id=\"T_bcb2d_level0_row33\" class=\"row_heading level0 row33\" >33</th>\n",
       "      <td id=\"T_bcb2d_row33_col0\" class=\"data row33 col0\" >divine_comedian#5493</td>\n",
       "      <td id=\"T_bcb2d_row33_col1\" class=\"data row33 col1\" >0x320c338BCF70bAAaE26e96201C33B48105Bc62C2</td>\n",
       "      <td id=\"T_bcb2d_row33_col2\" class=\"data row33 col2\" >63da2df586f591dd748e0527</td>\n",
       "      <td id=\"T_bcb2d_row33_col3\" class=\"data row33 col3\" >21</td>\n",
       "    </tr>\n",
       "    <tr>\n",
       "      <th id=\"T_bcb2d_level0_row34\" class=\"row_heading level0 row34\" >34</th>\n",
       "      <td id=\"T_bcb2d_row34_col0\" class=\"data row34 col0\" >divine_comedian#5493</td>\n",
       "      <td id=\"T_bcb2d_row34_col1\" class=\"data row34 col1\" >0x320c338BCF70bAAaE26e96201C33B48105Bc62C2</td>\n",
       "      <td id=\"T_bcb2d_row34_col2\" class=\"data row34 col2\" >63dd41fb86f591dd748e053f</td>\n",
       "      <td id=\"T_bcb2d_row34_col3\" class=\"data row34 col3\" >34</td>\n",
       "    </tr>\n",
       "    <tr>\n",
       "      <th id=\"T_bcb2d_level0_row35\" class=\"row_heading level0 row35\" >35</th>\n",
       "      <td id=\"T_bcb2d_row35_col0\" class=\"data row35 col0\" >divine_comedian#5493</td>\n",
       "      <td id=\"T_bcb2d_row35_col1\" class=\"data row35 col1\" >0x320c338BCF70bAAaE26e96201C33B48105Bc62C2</td>\n",
       "      <td id=\"T_bcb2d_row35_col2\" class=\"data row35 col2\" >63dec34e86f591dd748e054e</td>\n",
       "      <td id=\"T_bcb2d_row35_col3\" class=\"data row35 col3\" >13</td>\n",
       "    </tr>\n",
       "  </tbody>\n",
       "</table>\n"
      ],
      "text/plain": [
       "<pandas.io.formats.style.Styler at 0x7fc4b367b460>"
      ]
     },
     "execution_count": 8,
     "metadata": {},
     "output_type": "execute_result"
    }
   ],
   "source": [
    "\n",
    "def data_by_quantifier(praise_data):\n",
    "    quant_only = pd.DataFrame()\n",
    "    #praise_data.drop(['DATE', 'TO USER ACCOUNT', 'TO USER ACCOUNT ID', 'TO ETH ADDRESS', 'FROM USER ACCOUNT', 'FROM USER ACCOUNT ID', 'FROM ETH ADDRESS', 'REASON', 'SOURCE ID', 'SOURCE NAME', 'AVG SCORE'], axis=1, inplace=True)\n",
    "    num_of_quants = NUMBER_OF_QUANTIFIERS_PER_PRAISE\n",
    "    for i in range(num_of_quants):\n",
    "        q_name =  str( 'QUANTIFIER '+ str(i+1) +' USERNAME' )\n",
    "        q_addr =  str( 'QUANTIFIER '+ str(i+1) +' ETH ADDRESS')\n",
    "        q_value = str('SCORE '+str(i+1) )\n",
    "        q_duplicate = str('DUPLICATE ID '+str(i+1) )\n",
    "        \n",
    "        buf = praise_data[['ID', q_name , q_addr, q_value, q_duplicate]].copy()\n",
    "\n",
    "        #delete the duplicated rows\n",
    "        buf = buf.loc[buf[q_duplicate].isnull()] # only include the non-duplicated rows\n",
    "        buf = buf[['ID', q_name , q_addr, q_value]] # don't need the duplication info anymore\n",
    "        \n",
    "    \n",
    "        buf.rename(columns={q_name: 'QUANT_ID', q_addr: 'QUANT_ADDRESS', q_value: 'QUANT_VALUE', 'ID':'PRAISE_ID'}, inplace=True)\n",
    "\n",
    "        quant_only = quant_only.append(buf.copy(), ignore_index=True)\n",
    "\n",
    "    columnsTitles = ['QUANT_ID', 'QUANT_ADDRESS', 'PRAISE_ID', 'QUANT_VALUE']\n",
    "    quant_only.sort_values(['QUANT_ID', 'PRAISE_ID'], inplace=True)\n",
    "    quant_only =  quant_only.reindex(columns=columnsTitles).reset_index(drop=True)\n",
    "    return quant_only\n",
    "\n",
    "quantifier_rating_table = data_by_quantifier(praise_data.copy())\n",
    "quantifier_rating_table.style\n"
   ]
  },
  {
   "cell_type": "markdown",
   "id": "ae83cc4d",
   "metadata": {
    "papermill": {
     "duration": 0.007538,
     "end_time": "2023-02-21T15:33:07.232527",
     "exception": false,
     "start_time": "2023-02-21T15:33:07.224989",
     "status": "completed"
    },
    "tags": []
   },
   "source": [
    "Now, we will calculate the rewards for the Quantifiers and the Reward Board. This is fairly straightforward: we distribute the tokens allocated for quantification proportionally to the number of praises quantified, and give all rewardboard members an equal cut.\n"
   ]
  },
  {
   "cell_type": "markdown",
   "id": "5bfff6d3",
   "metadata": {
    "papermill": {
     "duration": 0.008077,
     "end_time": "2023-02-21T15:33:07.248620",
     "exception": false,
     "start_time": "2023-02-21T15:33:07.240543",
     "status": "completed"
    },
    "tags": []
   },
   "source": [
    "Before we distribute the rewards, we must remove the quantifiers who didn't show up for this round even though they were drafted"
   ]
  },
  {
   "cell_type": "code",
   "execution_count": 9,
   "id": "370e754e",
   "metadata": {
    "execution": {
     "iopub.execute_input": "2023-02-21T15:33:07.266022Z",
     "iopub.status.busy": "2023-02-21T15:33:07.265935Z",
     "iopub.status.idle": "2023-02-21T15:33:07.270783Z",
     "shell.execute_reply": "2023-02-21T15:33:07.270516Z"
    },
    "papermill": {
     "duration": 0.014736,
     "end_time": "2023-02-21T15:33:07.271593",
     "exception": false,
     "start_time": "2023-02-21T15:33:07.256857",
     "status": "completed"
    },
    "tags": []
   },
   "outputs": [
    {
     "data": {
      "text/plain": [
       "[]"
      ]
     },
     "execution_count": 9,
     "metadata": {},
     "output_type": "execute_result"
    }
   ],
   "source": [
    "# clear out the quantifiers who didn't give any rating (i.e. all scores are 0)\n",
    "quantifier_sum = quantifier_rating_table[['QUANT_ID','QUANT_VALUE']].groupby('QUANT_ID').sum()\n",
    "norating_quantifiers = quantifier_sum.loc[quantifier_sum['QUANT_VALUE']==0].index.tolist()\n",
    "norating_quantifiers"
   ]
  },
  {
   "cell_type": "code",
   "execution_count": 10,
   "id": "54c4677f",
   "metadata": {
    "execution": {
     "iopub.execute_input": "2023-02-21T15:33:07.288535Z",
     "iopub.status.busy": "2023-02-21T15:33:07.288426Z",
     "iopub.status.idle": "2023-02-21T15:33:07.295515Z",
     "shell.execute_reply": "2023-02-21T15:33:07.295263Z"
    },
    "jupyter": {
     "source_hidden": true
    },
    "papermill": {
     "duration": 0.016779,
     "end_time": "2023-02-21T15:33:07.296221",
     "exception": false,
     "start_time": "2023-02-21T15:33:07.279442",
     "status": "completed"
    },
    "tags": []
   },
   "outputs": [
    {
     "data": {
      "text/html": [
       "<style type=\"text/css\">\n",
       "</style>\n",
       "<table id=\"T_11f90_\">\n",
       "  <thead>\n",
       "    <tr>\n",
       "      <th class=\"blank level0\" >&nbsp;</th>\n",
       "      <th class=\"col_heading level0 col0\" >QUANT_ID</th>\n",
       "      <th class=\"col_heading level0 col1\" >QUANT_ADDRESS</th>\n",
       "      <th class=\"col_heading level0 col2\" >NUMBER_OF_PRAISES</th>\n",
       "      <th class=\"col_heading level0 col3\" >TOKEN TO RECEIVE</th>\n",
       "    </tr>\n",
       "  </thead>\n",
       "  <tbody>\n",
       "    <tr>\n",
       "      <th id=\"T_11f90_level0_row0\" class=\"row_heading level0 row0\" >0</th>\n",
       "      <td id=\"T_11f90_row0_col0\" class=\"data row0 col0\" >EFRA#7972</td>\n",
       "      <td id=\"T_11f90_row0_col1\" class=\"data row0 col1\" >0x438cDDcc8E6f0E0E18CE33F6b5a8fFCFAb5A999c</td>\n",
       "      <td id=\"T_11f90_row0_col2\" class=\"data row0 col2\" >9</td>\n",
       "      <td id=\"T_11f90_row0_col3\" class=\"data row0 col3\" >0.467017</td>\n",
       "    </tr>\n",
       "    <tr>\n",
       "      <th id=\"T_11f90_level0_row1\" class=\"row_heading level0 row1\" >1</th>\n",
       "      <td id=\"T_11f90_row1_col0\" class=\"data row1 col0\" >Mettodo#7010</td>\n",
       "      <td id=\"T_11f90_row1_col1\" class=\"data row1 col1\" >0x7710E7e881333Fd3396Ca5966BeD6E72746b612D</td>\n",
       "      <td id=\"T_11f90_row1_col2\" class=\"data row1 col2\" >9</td>\n",
       "      <td id=\"T_11f90_row1_col3\" class=\"data row1 col3\" >0.467017</td>\n",
       "    </tr>\n",
       "    <tr>\n",
       "      <th id=\"T_11f90_level0_row2\" class=\"row_heading level0 row2\" >2</th>\n",
       "      <td id=\"T_11f90_row2_col0\" class=\"data row2 col0\" >PhilH#1102</td>\n",
       "      <td id=\"T_11f90_row2_col1\" class=\"data row2 col1\" >0xAa01DeC5307CF17F20881A3286dcaA062578cea7</td>\n",
       "      <td id=\"T_11f90_row2_col2\" class=\"data row2 col2\" >9</td>\n",
       "      <td id=\"T_11f90_row2_col3\" class=\"data row2 col3\" >0.467017</td>\n",
       "    </tr>\n",
       "    <tr>\n",
       "      <th id=\"T_11f90_level0_row3\" class=\"row_heading level0 row3\" >3</th>\n",
       "      <td id=\"T_11f90_row3_col0\" class=\"data row3 col0\" >divine_comedian#5493</td>\n",
       "      <td id=\"T_11f90_row3_col1\" class=\"data row3 col1\" >0x320c338BCF70bAAaE26e96201C33B48105Bc62C2</td>\n",
       "      <td id=\"T_11f90_row3_col2\" class=\"data row3 col2\" >9</td>\n",
       "      <td id=\"T_11f90_row3_col3\" class=\"data row3 col3\" >0.467017</td>\n",
       "    </tr>\n",
       "  </tbody>\n",
       "</table>\n"
      ],
      "text/plain": [
       "<pandas.io.formats.style.Styler at 0x7fc4d84941c0>"
      ]
     },
     "execution_count": 10,
     "metadata": {},
     "output_type": "execute_result"
    }
   ],
   "source": [
    "\n",
    "\n",
    "quantifier_rewards = pd.DataFrame(quantifier_rating_table[['QUANT_ID','QUANT_ADDRESS']].value_counts().reset_index().copy())\n",
    "\n",
    "quantifier_rewards = quantifier_rewards[~quantifier_rewards['QUANT_ID'].isin(norating_quantifiers)]\n",
    "\n",
    "quantifier_rewards = quantifier_rewards.rename(columns={ quantifier_rewards.columns[2]: \"NUMBER_OF_PRAISES\" }).reset_index(drop=True)\n",
    "\n",
    "\n",
    "\n",
    "\n",
    "total_praise_quantified = quantifier_rewards['NUMBER_OF_PRAISES'].sum()\n",
    "quantifier_rewards['TOKEN TO RECEIVE'] = quantifier_rewards['NUMBER_OF_PRAISES'] / total_praise_quantified  * NUMBER_OF_REWARD_TOKENS_FOR_QUANTIFIERS\n",
    "\n",
    "\n",
    "    \n",
    "quantifier_rewards.style"
   ]
  },
  {
   "cell_type": "code",
   "execution_count": 11,
   "id": "06b7e71e",
   "metadata": {
    "execution": {
     "iopub.execute_input": "2023-02-21T15:33:07.313972Z",
     "iopub.status.busy": "2023-02-21T15:33:07.313886Z",
     "iopub.status.idle": "2023-02-21T15:33:07.317653Z",
     "shell.execute_reply": "2023-02-21T15:33:07.317242Z"
    },
    "jupyter": {
     "source_hidden": true
    },
    "papermill": {
     "duration": 0.013866,
     "end_time": "2023-02-21T15:33:07.318498",
     "exception": false,
     "start_time": "2023-02-21T15:33:07.304632",
     "status": "completed"
    },
    "tags": []
   },
   "outputs": [
    {
     "data": {
      "text/html": [
       "<style type=\"text/css\">\n",
       "</style>\n",
       "<table id=\"T_d0c9a_\">\n",
       "  <thead>\n",
       "    <tr>\n",
       "      <th class=\"blank level0\" >&nbsp;</th>\n",
       "      <th class=\"col_heading level0 col0\" >ID</th>\n",
       "      <th class=\"col_heading level0 col1\" >TOKEN TO RECEIVE</th>\n",
       "    </tr>\n",
       "  </thead>\n",
       "  <tbody>\n",
       "    <tr>\n",
       "      <th id=\"T_d0c9a_level0_row0\" class=\"row_heading level0 row0\" >0</th>\n",
       "      <td id=\"T_d0c9a_row0_col0\" class=\"data row0 col0\" >0x1409a9ef3450D5d50aAd004f417436e772FbF8fC</td>\n",
       "      <td id=\"T_d0c9a_row0_col1\" class=\"data row0 col1\" >0.266867</td>\n",
       "    </tr>\n",
       "    <tr>\n",
       "      <th id=\"T_d0c9a_level0_row1\" class=\"row_heading level0 row1\" >1</th>\n",
       "      <td id=\"T_d0c9a_row1_col0\" class=\"data row1 col0\" >0x3F20a6fE04b3A4b37bBBBea826ae23be56Baed74</td>\n",
       "      <td id=\"T_d0c9a_row1_col1\" class=\"data row1 col1\" >0.266867</td>\n",
       "    </tr>\n",
       "    <tr>\n",
       "      <th id=\"T_d0c9a_level0_row2\" class=\"row_heading level0 row2\" >2</th>\n",
       "      <td id=\"T_d0c9a_row2_col0\" class=\"data row2 col0\" >0x0bf920dfe6d36829ab5b0e153857d4ca689e46fb</td>\n",
       "      <td id=\"T_d0c9a_row2_col1\" class=\"data row2 col1\" >0.266867</td>\n",
       "    </tr>\n",
       "  </tbody>\n",
       "</table>\n"
      ],
      "text/plain": [
       "<pandas.io.formats.style.Styler at 0x7fc4b3925fd0>"
      ]
     },
     "execution_count": 11,
     "metadata": {},
     "output_type": "execute_result"
    }
   ],
   "source": [
    "rewardboard_rewards = pd.DataFrame(rewardboard_addresses)\n",
    "rewardboard_rewards['TOKEN TO RECEIVE'] = NUMBER_OF_REWARD_TOKENS_FOR_REWARD_BOARD / len(rewardboard_rewards.index)\n",
    "rewardboard_rewards.style"
   ]
  },
  {
   "cell_type": "markdown",
   "id": "93b78fa3",
   "metadata": {
    "papermill": {
     "duration": 0.008963,
     "end_time": "2023-02-21T15:33:07.335776",
     "exception": false,
     "start_time": "2023-02-21T15:33:07.326813",
     "status": "completed"
    },
    "tags": []
   },
   "source": [
    "Now we can merge them all into one table and save it, ready for distribution!"
   ]
  },
  {
   "cell_type": "code",
   "execution_count": 12,
   "id": "6871efe3",
   "metadata": {
    "execution": {
     "iopub.execute_input": "2023-02-21T15:33:07.353553Z",
     "iopub.status.busy": "2023-02-21T15:33:07.353407Z",
     "iopub.status.idle": "2023-02-21T15:33:07.368661Z",
     "shell.execute_reply": "2023-02-21T15:33:07.368381Z"
    },
    "jupyter": {
     "source_hidden": true
    },
    "papermill": {
     "duration": 0.025167,
     "end_time": "2023-02-21T15:33:07.369538",
     "exception": false,
     "start_time": "2023-02-21T15:33:07.344371",
     "status": "completed"
    },
    "scrolled": true,
    "tags": []
   },
   "outputs": [
    {
     "data": {
      "text/html": [
       "<style type=\"text/css\">\n",
       "</style>\n",
       "<table id=\"T_f15a6_\">\n",
       "  <thead>\n",
       "    <tr>\n",
       "      <th class=\"blank level0\" >&nbsp;</th>\n",
       "      <th class=\"col_heading level0 col0\" >USER IDENTITY</th>\n",
       "      <th class=\"col_heading level0 col1\" >USER ADDRESS</th>\n",
       "      <th class=\"col_heading level0 col2\" >PRAISE_REWARD</th>\n",
       "      <th class=\"col_heading level0 col3\" >QUANT_REWARD</th>\n",
       "      <th class=\"col_heading level0 col4\" >NR_OF_PRAISES_QUANTIFIED</th>\n",
       "      <th class=\"col_heading level0 col5\" >REWARDBOARD_REWARD</th>\n",
       "      <th class=\"col_heading level0 col6\" >TOTAL TO RECEIVE</th>\n",
       "    </tr>\n",
       "  </thead>\n",
       "  <tbody>\n",
       "    <tr>\n",
       "      <th id=\"T_f15a6_level0_row0\" class=\"row_heading level0 row0\" >0</th>\n",
       "      <td id=\"T_f15a6_row0_col0\" class=\"data row0 col0\" >BiancaGadelha#2667</td>\n",
       "      <td id=\"T_f15a6_row0_col1\" class=\"data row0 col1\" >0x1375847014ba64517210cbfe185808232cf45d4a</td>\n",
       "      <td id=\"T_f15a6_row0_col2\" class=\"data row0 col2\" >4.416540</td>\n",
       "      <td id=\"T_f15a6_row0_col3\" class=\"data row0 col3\" >0.000000</td>\n",
       "      <td id=\"T_f15a6_row0_col4\" class=\"data row0 col4\" >0.000000</td>\n",
       "      <td id=\"T_f15a6_row0_col5\" class=\"data row0 col5\" >0.000000</td>\n",
       "      <td id=\"T_f15a6_row0_col6\" class=\"data row0 col6\" >4.416540</td>\n",
       "    </tr>\n",
       "    <tr>\n",
       "      <th id=\"T_f15a6_level0_row1\" class=\"row_heading level0 row1\" >1</th>\n",
       "      <td id=\"T_f15a6_row1_col0\" class=\"data row1 col0\" >enti#1546</td>\n",
       "      <td id=\"T_f15a6_row1_col1\" class=\"data row1 col1\" >0x6897abe0fd62b589260784b21f4ca3f78a0d8017</td>\n",
       "      <td id=\"T_f15a6_row1_col2\" class=\"data row1 col2\" >4.416540</td>\n",
       "      <td id=\"T_f15a6_row1_col3\" class=\"data row1 col3\" >0.000000</td>\n",
       "      <td id=\"T_f15a6_row1_col4\" class=\"data row1 col4\" >0.000000</td>\n",
       "      <td id=\"T_f15a6_row1_col5\" class=\"data row1 col5\" >0.000000</td>\n",
       "      <td id=\"T_f15a6_row1_col6\" class=\"data row1 col6\" >4.416540</td>\n",
       "    </tr>\n",
       "    <tr>\n",
       "      <th id=\"T_f15a6_level0_row2\" class=\"row_heading level0 row2\" >2</th>\n",
       "      <td id=\"T_f15a6_row2_col0\" class=\"data row2 col0\" >kristofer#1475</td>\n",
       "      <td id=\"T_f15a6_row2_col1\" class=\"data row2 col1\" >0xa32aecda752cf4ef89956e83d60c04835d4fa867</td>\n",
       "      <td id=\"T_f15a6_row2_col2\" class=\"data row2 col2\" >3.771427</td>\n",
       "      <td id=\"T_f15a6_row2_col3\" class=\"data row2 col3\" >0.000000</td>\n",
       "      <td id=\"T_f15a6_row2_col4\" class=\"data row2 col4\" >0.000000</td>\n",
       "      <td id=\"T_f15a6_row2_col5\" class=\"data row2 col5\" >0.000000</td>\n",
       "      <td id=\"T_f15a6_row2_col6\" class=\"data row2 col6\" >3.771427</td>\n",
       "    </tr>\n",
       "    <tr>\n",
       "      <th id=\"T_f15a6_level0_row3\" class=\"row_heading level0 row3\" >3</th>\n",
       "      <td id=\"T_f15a6_row3_col0\" class=\"data row3 col0\" >durgadas#9280</td>\n",
       "      <td id=\"T_f15a6_row3_col1\" class=\"data row3 col1\" >0xff6d6a7718a234a84f740480dbb07f6c09cf1cd5</td>\n",
       "      <td id=\"T_f15a6_row3_col2\" class=\"data row3 col2\" >2.977443</td>\n",
       "      <td id=\"T_f15a6_row3_col3\" class=\"data row3 col3\" >0.000000</td>\n",
       "      <td id=\"T_f15a6_row3_col4\" class=\"data row3 col4\" >0.000000</td>\n",
       "      <td id=\"T_f15a6_row3_col5\" class=\"data row3 col5\" >0.000000</td>\n",
       "      <td id=\"T_f15a6_row3_col6\" class=\"data row3 col6\" >2.977443</td>\n",
       "    </tr>\n",
       "    <tr>\n",
       "      <th id=\"T_f15a6_level0_row4\" class=\"row_heading level0 row4\" >4</th>\n",
       "      <td id=\"T_f15a6_row4_col0\" class=\"data row4 col0\" >innov8tor3#3988</td>\n",
       "      <td id=\"T_f15a6_row4_col1\" class=\"data row4 col1\" >0xbcad90f4a1ed4067d9bc33d4089ff18a82250253</td>\n",
       "      <td id=\"T_f15a6_row4_col2\" class=\"data row4 col2\" >2.332330</td>\n",
       "      <td id=\"T_f15a6_row4_col3\" class=\"data row4 col3\" >0.000000</td>\n",
       "      <td id=\"T_f15a6_row4_col4\" class=\"data row4 col4\" >0.000000</td>\n",
       "      <td id=\"T_f15a6_row4_col5\" class=\"data row4 col5\" >0.000000</td>\n",
       "      <td id=\"T_f15a6_row4_col6\" class=\"data row4 col6\" >2.332330</td>\n",
       "    </tr>\n",
       "    <tr>\n",
       "      <th id=\"T_f15a6_level0_row5\" class=\"row_heading level0 row5\" >5</th>\n",
       "      <td id=\"T_f15a6_row5_col0\" class=\"data row5 col0\" >Jeremy&TheGospelOfChange#8201</td>\n",
       "      <td id=\"T_f15a6_row5_col1\" class=\"data row5 col1\" >0xca63608615de005339652c0eca93c5836eb0c2bd</td>\n",
       "      <td id=\"T_f15a6_row5_col2\" class=\"data row5 col2\" >2.084210</td>\n",
       "      <td id=\"T_f15a6_row5_col3\" class=\"data row5 col3\" >0.000000</td>\n",
       "      <td id=\"T_f15a6_row5_col4\" class=\"data row5 col4\" >0.000000</td>\n",
       "      <td id=\"T_f15a6_row5_col5\" class=\"data row5 col5\" >0.000000</td>\n",
       "      <td id=\"T_f15a6_row5_col6\" class=\"data row5 col6\" >2.084210</td>\n",
       "    </tr>\n",
       "    <tr>\n",
       "      <th id=\"T_f15a6_level0_row6\" class=\"row_heading level0 row6\" >6</th>\n",
       "      <td id=\"T_f15a6_row6_col0\" class=\"data row6 col0\" >Juankbell#7458</td>\n",
       "      <td id=\"T_f15a6_row6_col1\" class=\"data row6 col1\" >0x7d547666209755fb833f9b37eebea38ebf513abb</td>\n",
       "      <td id=\"T_f15a6_row6_col2\" class=\"data row6 col2\" >2.084210</td>\n",
       "      <td id=\"T_f15a6_row6_col3\" class=\"data row6 col3\" >0.000000</td>\n",
       "      <td id=\"T_f15a6_row6_col4\" class=\"data row6 col4\" >0.000000</td>\n",
       "      <td id=\"T_f15a6_row6_col5\" class=\"data row6 col5\" >0.000000</td>\n",
       "      <td id=\"T_f15a6_row6_col6\" class=\"data row6 col6\" >2.084210</td>\n",
       "    </tr>\n",
       "    <tr>\n",
       "      <th id=\"T_f15a6_level0_row7\" class=\"row_heading level0 row7\" >7</th>\n",
       "      <td id=\"T_f15a6_row7_col0\" class=\"data row7 col0\" >bear100#9085</td>\n",
       "      <td id=\"T_f15a6_row7_col1\" class=\"data row7 col1\" >0x47a5ba5be900fc22ad31bec4c1ff54df8e67cd70</td>\n",
       "      <td id=\"T_f15a6_row7_col2\" class=\"data row7 col2\" >1.935338</td>\n",
       "      <td id=\"T_f15a6_row7_col3\" class=\"data row7 col3\" >0.000000</td>\n",
       "      <td id=\"T_f15a6_row7_col4\" class=\"data row7 col4\" >0.000000</td>\n",
       "      <td id=\"T_f15a6_row7_col5\" class=\"data row7 col5\" >0.000000</td>\n",
       "      <td id=\"T_f15a6_row7_col6\" class=\"data row7 col6\" >1.935338</td>\n",
       "    </tr>\n",
       "    <tr>\n",
       "      <th id=\"T_f15a6_level0_row8\" class=\"row_heading level0 row8\" >8</th>\n",
       "      <td id=\"T_f15a6_row8_col0\" class=\"data row8 col0\" >EFRA#7972</td>\n",
       "      <td id=\"T_f15a6_row8_col1\" class=\"data row8 col1\" >0x438cddcc8e6f0e0e18ce33f6b5a8ffcfab5a999c</td>\n",
       "      <td id=\"T_f15a6_row8_col2\" class=\"data row8 col2\" >0.000000</td>\n",
       "      <td id=\"T_f15a6_row8_col3\" class=\"data row8 col3\" >0.467017</td>\n",
       "      <td id=\"T_f15a6_row8_col4\" class=\"data row8 col4\" >9.000000</td>\n",
       "      <td id=\"T_f15a6_row8_col5\" class=\"data row8 col5\" >0.000000</td>\n",
       "      <td id=\"T_f15a6_row8_col6\" class=\"data row8 col6\" >0.467017</td>\n",
       "    </tr>\n",
       "    <tr>\n",
       "      <th id=\"T_f15a6_level0_row9\" class=\"row_heading level0 row9\" >9</th>\n",
       "      <td id=\"T_f15a6_row9_col0\" class=\"data row9 col0\" >Mettodo#7010</td>\n",
       "      <td id=\"T_f15a6_row9_col1\" class=\"data row9 col1\" >0x7710e7e881333fd3396ca5966bed6e72746b612d</td>\n",
       "      <td id=\"T_f15a6_row9_col2\" class=\"data row9 col2\" >0.000000</td>\n",
       "      <td id=\"T_f15a6_row9_col3\" class=\"data row9 col3\" >0.467017</td>\n",
       "      <td id=\"T_f15a6_row9_col4\" class=\"data row9 col4\" >9.000000</td>\n",
       "      <td id=\"T_f15a6_row9_col5\" class=\"data row9 col5\" >0.000000</td>\n",
       "      <td id=\"T_f15a6_row9_col6\" class=\"data row9 col6\" >0.467017</td>\n",
       "    </tr>\n",
       "    <tr>\n",
       "      <th id=\"T_f15a6_level0_row10\" class=\"row_heading level0 row10\" >10</th>\n",
       "      <td id=\"T_f15a6_row10_col0\" class=\"data row10 col0\" >PhilH#1102</td>\n",
       "      <td id=\"T_f15a6_row10_col1\" class=\"data row10 col1\" >0xaa01dec5307cf17f20881a3286dcaa062578cea7</td>\n",
       "      <td id=\"T_f15a6_row10_col2\" class=\"data row10 col2\" >0.000000</td>\n",
       "      <td id=\"T_f15a6_row10_col3\" class=\"data row10 col3\" >0.467017</td>\n",
       "      <td id=\"T_f15a6_row10_col4\" class=\"data row10 col4\" >9.000000</td>\n",
       "      <td id=\"T_f15a6_row10_col5\" class=\"data row10 col5\" >0.000000</td>\n",
       "      <td id=\"T_f15a6_row10_col6\" class=\"data row10 col6\" >0.467017</td>\n",
       "    </tr>\n",
       "    <tr>\n",
       "      <th id=\"T_f15a6_level0_row11\" class=\"row_heading level0 row11\" >11</th>\n",
       "      <td id=\"T_f15a6_row11_col0\" class=\"data row11 col0\" >divine_comedian#5493</td>\n",
       "      <td id=\"T_f15a6_row11_col1\" class=\"data row11 col1\" >0x320c338bcf70baaae26e96201c33b48105bc62c2</td>\n",
       "      <td id=\"T_f15a6_row11_col2\" class=\"data row11 col2\" >0.000000</td>\n",
       "      <td id=\"T_f15a6_row11_col3\" class=\"data row11 col3\" >0.467017</td>\n",
       "      <td id=\"T_f15a6_row11_col4\" class=\"data row11 col4\" >9.000000</td>\n",
       "      <td id=\"T_f15a6_row11_col5\" class=\"data row11 col5\" >0.000000</td>\n",
       "      <td id=\"T_f15a6_row11_col6\" class=\"data row11 col6\" >0.467017</td>\n",
       "    </tr>\n",
       "    <tr>\n",
       "      <th id=\"T_f15a6_level0_row12\" class=\"row_heading level0 row12\" >12</th>\n",
       "      <td id=\"T_f15a6_row12_col0\" class=\"data row12 col0\" >missing username</td>\n",
       "      <td id=\"T_f15a6_row12_col1\" class=\"data row12 col1\" >0x1409a9ef3450d5d50aad004f417436e772fbf8fc</td>\n",
       "      <td id=\"T_f15a6_row12_col2\" class=\"data row12 col2\" >0.000000</td>\n",
       "      <td id=\"T_f15a6_row12_col3\" class=\"data row12 col3\" >0.000000</td>\n",
       "      <td id=\"T_f15a6_row12_col4\" class=\"data row12 col4\" >0.000000</td>\n",
       "      <td id=\"T_f15a6_row12_col5\" class=\"data row12 col5\" >0.266867</td>\n",
       "      <td id=\"T_f15a6_row12_col6\" class=\"data row12 col6\" >0.266867</td>\n",
       "    </tr>\n",
       "    <tr>\n",
       "      <th id=\"T_f15a6_level0_row13\" class=\"row_heading level0 row13\" >13</th>\n",
       "      <td id=\"T_f15a6_row13_col0\" class=\"data row13 col0\" >missing username</td>\n",
       "      <td id=\"T_f15a6_row13_col1\" class=\"data row13 col1\" >0x3f20a6fe04b3a4b37bbbbea826ae23be56baed74</td>\n",
       "      <td id=\"T_f15a6_row13_col2\" class=\"data row13 col2\" >0.000000</td>\n",
       "      <td id=\"T_f15a6_row13_col3\" class=\"data row13 col3\" >0.000000</td>\n",
       "      <td id=\"T_f15a6_row13_col4\" class=\"data row13 col4\" >0.000000</td>\n",
       "      <td id=\"T_f15a6_row13_col5\" class=\"data row13 col5\" >0.266867</td>\n",
       "      <td id=\"T_f15a6_row13_col6\" class=\"data row13 col6\" >0.266867</td>\n",
       "    </tr>\n",
       "    <tr>\n",
       "      <th id=\"T_f15a6_level0_row14\" class=\"row_heading level0 row14\" >14</th>\n",
       "      <td id=\"T_f15a6_row14_col0\" class=\"data row14 col0\" >missing username</td>\n",
       "      <td id=\"T_f15a6_row14_col1\" class=\"data row14 col1\" >0x0bf920dfe6d36829ab5b0e153857d4ca689e46fb</td>\n",
       "      <td id=\"T_f15a6_row14_col2\" class=\"data row14 col2\" >0.000000</td>\n",
       "      <td id=\"T_f15a6_row14_col3\" class=\"data row14 col3\" >0.000000</td>\n",
       "      <td id=\"T_f15a6_row14_col4\" class=\"data row14 col4\" >0.000000</td>\n",
       "      <td id=\"T_f15a6_row14_col5\" class=\"data row14 col5\" >0.266867</td>\n",
       "      <td id=\"T_f15a6_row14_col6\" class=\"data row14 col6\" >0.266867</td>\n",
       "    </tr>\n",
       "  </tbody>\n",
       "</table>\n"
      ],
      "text/plain": [
       "<pandas.io.formats.style.Styler at 0x7fc4d84a4190>"
      ]
     },
     "execution_count": 12,
     "metadata": {},
     "output_type": "execute_result"
    }
   ],
   "source": [
    "#def prepare_total_data_chart(praise_rewards, sourcecred_rewards, quantifier_rewards, rewardboard_rewards):\n",
    "def prepare_total_data_chart(praise_rewards, quantifier_rewards, rewardboard_rewards):\n",
    "    \n",
    "    praise_rewards = praise_rewards.copy()[['USER IDENTITY', 'USER ADDRESS', 'TOKEN TO RECEIVE']].rename(columns = {'TOKEN TO RECEIVE':'PRAISE_REWARD'})\n",
    "    praise_rewards['USER ADDRESS'] = praise_rewards['USER ADDRESS'].str.lower()\n",
    "    \n",
    "    quantifier_rewards.rename(columns = {'QUANT_ADDRESS':'USER ADDRESS', 'QUANT_ID': 'USER IDENTITY', 'NUMBER_OF_PRAISES': 'NR_OF_PRAISES_QUANTIFIED', 'TOKEN TO RECEIVE':'QUANT_REWARD'}, inplace = True)\n",
    "    quantifier_rewards['USER ADDRESS'] = quantifier_rewards['USER ADDRESS'].str.lower()\n",
    "    \n",
    "    rewardboard_rewards.rename(columns = {'ID':'USER ADDRESS', 'TOKEN TO RECEIVE': 'REWARDBOARD_REWARD'}, inplace = True)\n",
    "    rewardboard_rewards['USER ADDRESS'] = rewardboard_rewards['USER ADDRESS'].str.lower()\n",
    "    \n",
    "    \n",
    "    final_allocations = pd.merge(rewardboard_rewards, quantifier_rewards , on=['USER ADDRESS','USER ADDRESS'], how='outer')\n",
    "    final_allocations = pd.merge(final_allocations, praise_rewards, left_on=['USER ADDRESS'], right_on=['USER ADDRESS'], how='outer')\n",
    "    \n",
    "    #now we can merge the IDs, replacing any missing values\n",
    "    final_allocations['USER IDENTITY_x']= final_allocations['USER IDENTITY_x'].combine_first(final_allocations['USER IDENTITY_y'])\n",
    "    final_allocations.rename(columns = {'USER IDENTITY_x': 'USER IDENTITY'},  inplace = True)\n",
    "    final_allocations.drop('USER IDENTITY_y', axis=1, inplace=True)\n",
    "    \n",
    "    \n",
    "    final_allocations['USER IDENTITY'].fillna('missing username', inplace = True)\n",
    "    final_allocations.fillna(0, inplace = True)\n",
    "    final_allocations['TOTAL TO RECEIVE'] = final_allocations['PRAISE_REWARD'] + final_allocations['QUANT_REWARD'] + final_allocations['REWARDBOARD_REWARD']\n",
    "   \n",
    "    \n",
    "    final_allocations = final_allocations.sort_values(by= 'TOTAL TO RECEIVE', ascending  = False).reset_index(drop=True)\n",
    "    \n",
    "    #put the columns into the desired order\n",
    "    final_allocations = final_allocations[['USER IDENTITY', 'USER ADDRESS', 'PRAISE_REWARD', 'QUANT_REWARD','NR_OF_PRAISES_QUANTIFIED', 'REWARDBOARD_REWARD', 'TOTAL TO RECEIVE']]\n",
    "    \n",
    "    \n",
    "    return final_allocations\n",
    "\n",
    "\n",
    "final_token_allocations = prepare_total_data_chart(praise_by_user.copy(), quantifier_rewards.copy(), rewardboard_rewards.copy())\n",
    "final_token_allocations.style\n"
   ]
  },
  {
   "cell_type": "markdown",
   "id": "0c4534ac",
   "metadata": {
    "papermill": {
     "duration": 0.008363,
     "end_time": "2023-02-21T15:33:07.386258",
     "exception": false,
     "start_time": "2023-02-21T15:33:07.377895",
     "status": "completed"
    },
    "tags": []
   },
   "source": [
    "### \"Glue\" relevant DataFrames to send to analysis"
   ]
  },
  {
   "cell_type": "code",
   "execution_count": 13,
   "id": "8bb65ff9",
   "metadata": {
    "execution": {
     "iopub.execute_input": "2023-02-21T15:33:07.404678Z",
     "iopub.status.busy": "2023-02-21T15:33:07.404527Z",
     "iopub.status.idle": "2023-02-21T15:33:07.448392Z",
     "shell.execute_reply": "2023-02-21T15:33:07.448104Z"
    },
    "papermill": {
     "duration": 0.054402,
     "end_time": "2023-02-21T15:33:07.449274",
     "exception": false,
     "start_time": "2023-02-21T15:33:07.394872",
     "status": "completed"
    },
    "tags": []
   },
   "outputs": [
    {
     "data": {
      "application/scrapbook.scrap.pandas+json": {
       "data": "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",
       "encoder": "pandas",
       "name": "final_token_allocations",
       "version": 1
      }
     },
     "metadata": {
      "scrapbook": {
       "data": true,
       "display": false,
       "name": "final_token_allocations"
      }
     },
     "output_type": "display_data"
    },
    {
     "data": {
      "application/scrapbook.scrap.pandas+json": {
       "data": "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",
       "encoder": "pandas",
       "name": "rewardboard_rewards",
       "version": 1
      }
     },
     "metadata": {
      "scrapbook": {
       "data": true,
       "display": false,
       "name": "rewardboard_rewards"
      }
     },
     "output_type": "display_data"
    },
    {
     "data": {
      "application/scrapbook.scrap.pandas+json": {
       "data": "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",
       "encoder": "pandas",
       "name": "quantifier_rewards",
       "version": 1
      }
     },
     "metadata": {
      "scrapbook": {
       "data": true,
       "display": false,
       "name": "quantifier_rewards"
      }
     },
     "output_type": "display_data"
    },
    {
     "data": {
      "application/scrapbook.scrap.pandas+json": {
       "data": "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",
       "encoder": "pandas",
       "name": "quantifier_rating_table",
       "version": 1
      }
     },
     "metadata": {
      "scrapbook": {
       "data": true,
       "display": false,
       "name": "quantifier_rating_table"
      }
     },
     "output_type": "display_data"
    },
    {
     "data": {
      "application/scrapbook.scrap.pandas+json": {
       "data": "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",
       "encoder": "pandas",
       "name": "processed_praise",
       "version": 1
      }
     },
     "metadata": {
      "scrapbook": {
       "data": true,
       "display": false,
       "name": "processed_praise"
      }
     },
     "output_type": "display_data"
    },
    {
     "data": {
      "application/scrapbook.scrap.pandas+json": {
       "data": "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",
       "encoder": "pandas",
       "name": "praise_by_user",
       "version": 1
      }
     },
     "metadata": {
      "scrapbook": {
       "data": true,
       "display": false,
       "name": "praise_by_user"
      }
     },
     "output_type": "display_data"
    },
    {
     "data": {
      "application/scrapbook.scrap.pandas+json": {
       "data": "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",
       "encoder": "pandas",
       "name": "praise_distribution",
       "version": 1
      }
     },
     "metadata": {
      "scrapbook": {
       "data": true,
       "display": false,
       "name": "praise_distribution"
      }
     },
     "output_type": "display_data"
    },
    {
     "data": {
      "application/scrapbook.scrap.json+json": {
       "data": 4,
       "encoder": "json",
       "name": "quantifiers_per_praise",
       "version": 1
      }
     },
     "metadata": {
      "scrapbook": {
       "data": true,
       "display": false,
       "name": "quantifiers_per_praise"
      }
     },
     "output_type": "display_data"
    },
    {
     "data": {
      "application/scrapbook.scrap.text+json": {
       "data": "round-28",
       "encoder": "text",
       "name": "distribution_name",
       "version": 1
      }
     },
     "metadata": {
      "scrapbook": {
       "data": true,
       "display": false,
       "name": "distribution_name"
      }
     },
     "output_type": "display_data"
    },
    {
     "data": {
      "application/scrapbook.scrap.json+json": {
       "data": 26.68670886075949,
       "encoder": "json",
       "name": "total_tokens_allocated",
       "version": 1
      }
     },
     "metadata": {
      "scrapbook": {
       "data": true,
       "display": false,
       "name": "total_tokens_allocated"
      }
     },
     "output_type": "display_data"
    },
    {
     "data": {
      "application/scrapbook.scrap.json+json": {
       "data": 0.1,
       "encoder": "json",
       "name": "praise_quantify_duplicate_praise_valuation",
       "version": 1
      }
     },
     "metadata": {
      "scrapbook": {
       "data": true,
       "display": false,
       "name": "praise_quantify_duplicate_praise_valuation"
      }
     },
     "output_type": "display_data"
    },
    {
     "data": {
      "application/scrapbook.scrap.json+json": {
       "data": false,
       "encoder": "json",
       "name": "pseudonyms_used",
       "version": 1
      }
     },
     "metadata": {
      "scrapbook": {
       "data": true,
       "display": false,
       "name": "pseudonyms_used"
      }
     },
     "output_type": "display_data"
    }
   ],
   "source": [
    "sb.glue(\"final_token_allocations\", final_token_allocations, 'pandas')\n",
    "sb.glue(\"rewardboard_rewards\", rewardboard_rewards, 'pandas')\n",
    "sb.glue(\"quantifier_rewards\", quantifier_rewards, 'pandas')\n",
    "sb.glue(\"quantifier_rating_table\", quantifier_rating_table, 'pandas')\n",
    "\n",
    "sb.glue(\"processed_praise\", processed_praise, 'pandas')\n",
    "sb.glue(\"praise_by_user\", praise_by_user, 'pandas')\n",
    "\n",
    "\n",
    "sb.glue(\"praise_distribution\", praise_distribution, 'pandas')\n",
    "sb.glue(\"quantifiers_per_praise\", quantification_settings[\"number_of_quantifiers_per_praise_receiver\"])\n",
    "sb.glue(\"distribution_name\", distribution_name)\n",
    "sb.glue(\"total_tokens_allocated\", total_tokens_allocated)\n",
    "sb.glue(\"praise_quantify_duplicate_praise_valuation\", quantification_settings['praise_quantify_duplicate_praise_valuation'])\n",
    "sb.glue(\"pseudonyms_used\", quantification_settings['praise_quantify_receiver_pseudonyms'])"
   ]
  },
  {
   "cell_type": "markdown",
   "id": "a2c3bbca",
   "metadata": {
    "papermill": {
     "duration": 0.011008,
     "end_time": "2023-02-21T15:33:07.471264",
     "exception": false,
     "start_time": "2023-02-21T15:33:07.460256",
     "status": "completed"
    },
    "tags": []
   },
   "source": [
    "### Save the distribution files"
   ]
  },
  {
   "cell_type": "code",
   "execution_count": 14,
   "id": "a59fd3a9",
   "metadata": {
    "execution": {
     "iopub.execute_input": "2023-02-21T15:33:07.494982Z",
     "iopub.status.busy": "2023-02-21T15:33:07.494877Z",
     "iopub.status.idle": "2023-02-21T15:33:07.499071Z",
     "shell.execute_reply": "2023-02-21T15:33:07.498695Z"
    },
    "papermill": {
     "duration": 0.017247,
     "end_time": "2023-02-21T15:33:07.500009",
     "exception": false,
     "start_time": "2023-02-21T15:33:07.482762",
     "status": "completed"
    },
    "tags": []
   },
   "outputs": [],
   "source": [
    "final_allocation_csv = final_token_allocations.to_csv(index=False)\n",
    "with open('final_praise_token_allocation.csv', 'w') as f:\n",
    "    f.write(final_allocation_csv)"
   ]
  },
  {
   "cell_type": "code",
   "execution_count": 15,
   "id": "9811af2f",
   "metadata": {
    "execution": {
     "iopub.execute_input": "2023-02-21T15:33:07.523093Z",
     "iopub.status.busy": "2023-02-21T15:33:07.522861Z",
     "iopub.status.idle": "2023-02-21T15:33:07.527438Z",
     "shell.execute_reply": "2023-02-21T15:33:07.527145Z"
    },
    "papermill": {
     "duration": 0.017717,
     "end_time": "2023-02-21T15:33:07.528266",
     "exception": false,
     "start_time": "2023-02-21T15:33:07.510549",
     "status": "completed"
    },
    "tags": []
   },
   "outputs": [],
   "source": [
    "#create \"transactions\" dist\n",
    "final_alloc_aragon = final_token_allocations[['USER ADDRESS', 'TOTAL TO RECEIVE']].copy()\n",
    "final_alloc_aragon['TOKEN SYMBOL'] = payout_token['token_name']\n",
    "final_alloc_aragon = final_alloc_aragon[final_alloc_aragon['USER ADDRESS'] != \"missing user address\"]\n",
    "final_alloc_aragon = final_alloc_aragon.to_csv(sep=',', index=False, header=False)\n",
    "with open('praise_aragon_distribution.csv', 'w') as f:\n",
    "    f.write(final_alloc_aragon)"
   ]
  },
  {
   "cell_type": "code",
   "execution_count": 16,
   "id": "79d6252d",
   "metadata": {
    "execution": {
     "iopub.execute_input": "2023-02-21T15:33:07.551915Z",
     "iopub.status.busy": "2023-02-21T15:33:07.551711Z",
     "iopub.status.idle": "2023-02-21T15:33:07.554857Z",
     "shell.execute_reply": "2023-02-21T15:33:07.554574Z"
    },
    "papermill": {
     "duration": 0.016845,
     "end_time": "2023-02-21T15:33:07.555774",
     "exception": false,
     "start_time": "2023-02-21T15:33:07.538929",
     "status": "completed"
    },
    "tags": []
   },
   "outputs": [],
   "source": [
    "praise_reward_export = praise_distribution.to_csv(index=False)\n",
    "with open('extended_praise_data.csv', 'w') as f:\n",
    "    f.write(praise_reward_export)"
   ]
  }
 ],
 "metadata": {
  "celltoolbar": "Tags",
  "hide_input": false,
  "kernelspec": {
   "display_name": "Python 3.10.5 64-bit",
   "language": "python",
   "name": "python3"
  },
  "language_info": {
   "codemirror_mode": {
    "name": "ipython",
    "version": 3
   },
   "file_extension": ".py",
   "mimetype": "text/x-python",
   "name": "python",
   "nbconvert_exporter": "python",
   "pygments_lexer": "ipython3",
   "version": "3.9.1"
  },
  "papermill": {
   "default_parameters": {},
   "duration": 5.545884,
   "end_time": "2023-02-21T15:33:10.605652",
   "environment_variables": {},
   "exception": null,
   "input_path": "./distribution_tools/praise/praiseDistribution.ipynb",
   "output_path": "/data/round-28/distribution_results/executed_notebooks/output_praiseDistribution.ipynb",
   "parameters": {
    "cross_period_settings": {
     "cross_period_step_size": 2,
     "cross_period_week_num": 52
    },
    "distribution_name": "round-28",
    "input_files": {
     "cross_period_root": "/data",
     "praise_data": "/data/round-28/praise.csv",
     "rewardboard_list": "/data/round-28/rewardboard.csv"
    },
    "payout_token": {
     "token_address": "0x5dF8339c5E282ee48c0c7cE8A7d01a73D38B3B27",
     "token_name": "TEC"
    },
    "quantification_settings": {
     "number_of_quantifiers_per_praise_receiver": 4,
     "praise_quantify_allowed_values": [
      0,
      1,
      3,
      5,
      8,
      13,
      21,
      34,
      55,
      89,
      144
     ],
     "praise_quantify_duplicate_praise_valuation": 0.1,
     "praise_quantify_receiver_pseudonyms": false
    },
    "results_output_folder": "distribution_results",
    "token_reward_percentages": {
     "ceiling_cutoff": 632,
     "contributor_rewards": 0.9,
     "quantifier_rewards": 0.07,
     "rewardboard_rewards": 0.03
    },
    "total_tokens_allocated": "1874"
   },
   "start_time": "2023-02-21T15:33:05.059768",
   "version": "2.3.4"
  },
  "toc": {
   "base_numbering": 1,
   "nav_menu": {},
   "number_sections": true,
   "sideBar": true,
   "skip_h1_title": false,
   "title_cell": "Table of Contents",
   "title_sidebar": "Contents",
   "toc_cell": false,
   "toc_position": {},
   "toc_section_display": true,
   "toc_window_display": true
  },
  "vscode": {
   "interpreter": {
    "hash": "aee8b7b246df8f9039afb4144a1f6fd8d2ca17a180786b69acc140d282b71a49"
   }
  }
 },
 "nbformat": 4,
 "nbformat_minor": 5
}