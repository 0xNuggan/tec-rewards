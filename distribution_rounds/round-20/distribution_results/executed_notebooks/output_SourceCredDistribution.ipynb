{
 "cells": [
  {
   "cell_type": "code",
   "execution_count": 1,
   "id": "10dc3c7c",
   "metadata": {
    "execution": {
     "iopub.execute_input": "2022-10-31T17:04:32.119982Z",
     "iopub.status.busy": "2022-10-31T17:04:32.119852Z",
     "iopub.status.idle": "2022-10-31T17:04:32.128167Z",
     "shell.execute_reply": "2022-10-31T17:04:32.127287Z"
    },
    "papermill": {
     "duration": 0.029896,
     "end_time": "2022-10-31T17:04:32.130952",
     "exception": false,
     "start_time": "2022-10-31T17:04:32.101056",
     "status": "completed"
    },
    "tags": [
     "parameters"
    ]
   },
   "outputs": [],
   "source": [
    "params = {\n",
    "    \"input_files\": {\n",
    "        \"sourcecred_data\": \"sourcecred.csv\"\n",
    "    },\n",
    "    \"total_tokens_allocated\": 1000,\n",
    "      \"payout_token\": {\n",
    "        \"token_name\": \"wxDAI\",\n",
    "        \"token_address\": \"0xe91D153E0b41518A2Ce8Dd3D7944Fa863463a97d\"\n",
    "      },\n",
    "\n",
    "}"
   ]
  },
  {
   "cell_type": "code",
   "execution_count": 2,
   "id": "3d49863f",
   "metadata": {
    "execution": {
     "iopub.execute_input": "2022-10-31T17:04:32.143606Z",
     "iopub.status.busy": "2022-10-31T17:04:32.143482Z",
     "iopub.status.idle": "2022-10-31T17:04:32.147997Z",
     "shell.execute_reply": "2022-10-31T17:04:32.146703Z"
    },
    "papermill": {
     "duration": 0.012245,
     "end_time": "2022-10-31T17:04:32.150689",
     "exception": false,
     "start_time": "2022-10-31T17:04:32.138444",
     "status": "completed"
    },
    "tags": [
     "injected-parameters"
    ]
   },
   "outputs": [],
   "source": [
    "# Parameters\n",
    "input_files = {\n",
    "    \"sourcecred_data\": \"/home/mitch/github/tec-rewards/distribution_rounds/round-20/sourcecred.csv\"\n",
    "}\n",
    "payout_token = {\n",
    "    \"token_name\": \"TEC\",\n",
    "    \"token_address\": \"0x5dF8339c5E282ee48c0c7cE8A7d01a73D38B3B27\",\n",
    "}\n",
    "total_tokens_allocated = \"1279.7\"\n",
    "distribution_name = \"round-20\"\n",
    "results_output_folder = \"distribution_results\"\n"
   ]
  },
  {
   "cell_type": "code",
   "execution_count": 3,
   "id": "24dfeb3f",
   "metadata": {
    "execution": {
     "iopub.execute_input": "2022-10-31T17:04:32.158209Z",
     "iopub.status.busy": "2022-10-31T17:04:32.157675Z",
     "iopub.status.idle": "2022-10-31T17:04:32.437523Z",
     "shell.execute_reply": "2022-10-31T17:04:32.437058Z"
    },
    "papermill": {
     "duration": 0.283911,
     "end_time": "2022-10-31T17:04:32.438695",
     "exception": false,
     "start_time": "2022-10-31T17:04:32.154784",
     "status": "completed"
    },
    "tags": []
   },
   "outputs": [],
   "source": [
    "import os\n",
    "import sys\n",
    "\n",
    "import math\n",
    "import pandas as pd \n",
    "import numpy as np \n",
    "\n",
    "import scrapbook as sb"
   ]
  },
  {
   "cell_type": "code",
   "execution_count": 4,
   "id": "d40fa112",
   "metadata": {
    "execution": {
     "iopub.execute_input": "2022-10-31T17:04:32.450143Z",
     "iopub.status.busy": "2022-10-31T17:04:32.449986Z",
     "iopub.status.idle": "2022-10-31T17:04:32.454078Z",
     "shell.execute_reply": "2022-10-31T17:04:32.453852Z"
    },
    "papermill": {
     "duration": 0.014074,
     "end_time": "2022-10-31T17:04:32.454972",
     "exception": false,
     "start_time": "2022-10-31T17:04:32.440898",
     "status": "completed"
    },
    "tags": []
   },
   "outputs": [],
   "source": [
    "SOURCECRED_DATA_PATH = input_files[\"sourcecred_data\"]\n",
    "NUMBER_OF_SOURCECRED_REWARD_TOKENS_TO_DISTRIBUTE = float(total_tokens_allocated)\n",
    "\n",
    "sourcecred_data = pd.read_csv(SOURCECRED_DATA_PATH)\n",
    "totalGrainPoints = sourcecred_data['vested_amount'].sum()\n",
    "\n"
   ]
  },
  {
   "cell_type": "code",
   "execution_count": 5,
   "id": "cab3c117",
   "metadata": {
    "execution": {
     "iopub.execute_input": "2022-10-31T17:04:32.463803Z",
     "iopub.status.busy": "2022-10-31T17:04:32.463696Z",
     "iopub.status.idle": "2022-10-31T17:04:32.465333Z",
     "shell.execute_reply": "2022-10-31T17:04:32.465106Z"
    },
    "papermill": {
     "duration": 0.007161,
     "end_time": "2022-10-31T17:04:32.466138",
     "exception": false,
     "start_time": "2022-10-31T17:04:32.458977",
     "status": "completed"
    },
    "tags": []
   },
   "outputs": [],
   "source": [
    "#Since we ended up using sourcecred differently, this notebook does basically nothing\n",
    "\n",
    "#luckily, grain already adds up to 100\n",
    "#sourcecred_data['PERCENTAGE'] = sourcecred_data['totalGrainPaid']/totalGrainPoints\n",
    "#sourcecred_data['TOKEN TO RECEIVE'] = sourcecred_data['PERCENTAGE'] * NUMBER_OF_SOURCECRED_REWARD_TOKENS_TO_DISTRIBUTE\n"
   ]
  },
  {
   "cell_type": "code",
   "execution_count": 6,
   "id": "14b93129",
   "metadata": {
    "execution": {
     "iopub.execute_input": "2022-10-31T17:04:32.471286Z",
     "iopub.status.busy": "2022-10-31T17:04:32.471210Z",
     "iopub.status.idle": "2022-10-31T17:04:32.475053Z",
     "shell.execute_reply": "2022-10-31T17:04:32.474791Z"
    },
    "papermill": {
     "duration": 0.007378,
     "end_time": "2022-10-31T17:04:32.475869",
     "exception": false,
     "start_time": "2022-10-31T17:04:32.468491",
     "status": "completed"
    },
    "tags": []
   },
   "outputs": [],
   "source": [
    "final_alloc = sourcecred_data[['name', 'address', 'vested_amount']].copy()\n",
    "final_alloc = final_alloc.to_csv(sep=',', index=False, header=False)\n",
    "with open('sourcecred_allocation.csv', 'w') as f:\n",
    "    f.write(final_alloc)"
   ]
  }
 ],
 "metadata": {
  "celltoolbar": "Tags",
  "kernelspec": {
   "display_name": "Python 3 (ipykernel)",
   "language": "python",
   "name": "python3"
  },
  "language_info": {
   "codemirror_mode": {
    "name": "ipython",
    "version": 3
   },
   "file_extension": ".py",
   "mimetype": "text/x-python",
   "name": "python",
   "nbconvert_exporter": "python",
   "pygments_lexer": "ipython3",
   "version": "3.9.13"
  },
  "papermill": {
   "default_parameters": {},
   "duration": 1.10346,
   "end_time": "2022-10-31T17:04:32.593395",
   "environment_variables": {},
   "exception": null,
   "input_path": "./distribution_tools/sourcecred/SourceCredDistribution.ipynb",
   "output_path": "../tec-rewards/distribution_rounds/round-20/distribution_results/executed_notebooks/output_SourceCredDistribution.ipynb",
   "parameters": {
    "distribution_name": "round-20",
    "input_files": {
     "sourcecred_data": "/home/mitch/github/tec-rewards/distribution_rounds/round-20/sourcecred.csv"
    },
    "payout_token": {
     "token_address": "0x5dF8339c5E282ee48c0c7cE8A7d01a73D38B3B27",
     "token_name": "TEC"
    },
    "results_output_folder": "distribution_results",
    "total_tokens_allocated": "1279.7"
   },
   "start_time": "2022-10-31T17:04:31.489935",
   "version": "2.3.4"
  }
 },
 "nbformat": 4,
 "nbformat_minor": 5
}