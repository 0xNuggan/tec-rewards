{
 "cells": [
  {
   "cell_type": "code",
   "execution_count": 1,
   "id": "448cc226",
   "metadata": {
    "execution": {
     "iopub.execute_input": "2023-02-06T21:31:28.953677Z",
     "iopub.status.busy": "2023-02-06T21:31:28.953517Z",
     "iopub.status.idle": "2023-02-06T21:31:28.960428Z",
     "shell.execute_reply": "2023-02-06T21:31:28.959901Z"
    },
    "papermill": {
     "duration": 0.026962,
     "end_time": "2023-02-06T21:31:28.961733",
     "exception": false,
     "start_time": "2023-02-06T21:31:28.934771",
     "status": "completed"
    },
    "tags": [
     "parameters"
    ]
   },
   "outputs": [],
   "source": [
    "params = {\n",
    "    \"input_files\": {\n",
    "        \"praise_data\": \"./praise.csv\",\n",
    "        \"rewardboard_list\": \"./rewardboard.csv\"\n",
    "      },\n",
    "      \"total_tokens_allocated\": 1000,\n",
    "      \"payout_token\": {\n",
    "        \"token_name\": \"wxDAI\",\n",
    "        \"token_address\": \"0xe91D153E0b41518A2Ce8Dd3D7944Fa863463a97d\"\n",
    "      },\n",
    "      \"token_reward_percentages\": {\n",
    "        \"contributor_rewards\": 0.871067,\n",
    "        \"quantifier_rewards\": 0.090324,\n",
    "        \"rewardboard_rewards\": 0.038608,\n",
    "        \"_comment\": \"These percentages are tweaked so a regular praise+sourcecred allocation amounts to 7% of total rewards to quantfiers and 3% to the rewardboard.\"\n",
    "      },\n",
    "      \"quantification_settings\": {\n",
    "        \"number_of_quantifiers_per_praise_receiver\": 4,\n",
    "        \"praise_quantify_allowed_values\": [\n",
    "          0, 1, 3, 5, 8, 13, 21, 34, 55, 89, 144\n",
    "        ],\n",
    "        \"praise_quantify_receiver_prseudonyms\": False,\n",
    "        \"praise_quantify_duplicate_praise_valuation\": 0.1\n",
    "      }\n",
    "}"
   ]
  },
  {
   "cell_type": "code",
   "execution_count": 2,
   "id": "270e48ec",
   "metadata": {
    "execution": {
     "iopub.execute_input": "2023-02-06T21:31:28.983322Z",
     "iopub.status.busy": "2023-02-06T21:31:28.983199Z",
     "iopub.status.idle": "2023-02-06T21:31:28.986966Z",
     "shell.execute_reply": "2023-02-06T21:31:28.986475Z"
    },
    "papermill": {
     "duration": 0.015487,
     "end_time": "2023-02-06T21:31:28.987970",
     "exception": false,
     "start_time": "2023-02-06T21:31:28.972483",
     "status": "completed"
    },
    "tags": [
     "injected-parameters"
    ]
   },
   "outputs": [],
   "source": [
    "# Parameters\n",
    "input_files = {\n",
    "    \"praise_data\": \"/data/round-27/praise.csv\",\n",
    "    \"rewardboard_list\": \"/data/round-27/rewardboard.csv\",\n",
    "    \"cross_period_root\": \"/data\",\n",
    "}\n",
    "payout_token = {\n",
    "    \"token_name\": \"TEC\",\n",
    "    \"token_address\": \"0x5dF8339c5E282ee48c0c7cE8A7d01a73D38B3B27\",\n",
    "}\n",
    "token_reward_percentages = {\n",
    "    \"contributor_rewards\": 0.9,\n",
    "    \"quantifier_rewards\": 0.07,\n",
    "    \"rewardboard_rewards\": 0.03,\n",
    "    \"ceiling_cutoff\": 632,\n",
    "}\n",
    "quantification_settings = {\n",
    "    \"number_of_quantifiers_per_praise_receiver\": 4,\n",
    "    \"praise_quantify_allowed_values\": [0, 1, 3, 5, 8, 13, 21, 34, 55, 89, 144],\n",
    "    \"praise_quantify_receiver_pseudonyms\": False,\n",
    "    \"praise_quantify_duplicate_praise_valuation\": 0.1,\n",
    "}\n",
    "cross_period_settings = {\"cross_period_week_num\": 52, \"cross_period_step_size\": 2}\n",
    "total_tokens_allocated = \"1874\"\n",
    "distribution_name = \"round-27\"\n",
    "results_output_folder = \"distribution_results\"\n"
   ]
  },
  {
   "cell_type": "code",
   "execution_count": 3,
   "id": "careful-unemployment",
   "metadata": {
    "execution": {
     "iopub.execute_input": "2023-02-06T21:31:29.008369Z",
     "iopub.status.busy": "2023-02-06T21:31:29.008250Z",
     "iopub.status.idle": "2023-02-06T21:31:29.308302Z",
     "shell.execute_reply": "2023-02-06T21:31:29.307769Z"
    },
    "papermill": {
     "duration": 0.311773,
     "end_time": "2023-02-06T21:31:29.309496",
     "exception": false,
     "start_time": "2023-02-06T21:31:28.997723",
     "status": "completed"
    },
    "scrolled": true,
    "tags": [
     "hide_input"
    ]
   },
   "outputs": [],
   "source": [
    "\n",
    "import os\n",
    "import sys\n",
    "\n",
    "import math\n",
    "import pandas as pd \n",
    "import numpy as np \n",
    "\n",
    "import scrapbook as sb\n"
   ]
  },
  {
   "cell_type": "code",
   "execution_count": 4,
   "id": "1a698c34",
   "metadata": {
    "execution": {
     "iopub.execute_input": "2023-02-06T21:31:29.329695Z",
     "iopub.status.busy": "2023-02-06T21:31:29.329492Z",
     "iopub.status.idle": "2023-02-06T21:31:29.338286Z",
     "shell.execute_reply": "2023-02-06T21:31:29.337996Z"
    },
    "papermill": {
     "duration": 0.020122,
     "end_time": "2023-02-06T21:31:29.339464",
     "exception": false,
     "start_time": "2023-02-06T21:31:29.319342",
     "status": "completed"
    },
    "tags": []
   },
   "outputs": [],
   "source": [
    "PRAISE_DATA_PATH = input_files[\"praise_data\"]\n",
    "REWARD_BOARD_ADDRESSES_PATH = input_files[\"rewardboard_list\"]\n",
    "\n",
    "praise_data = pd.read_csv(PRAISE_DATA_PATH)\n",
    "praise_data.columns = praise_data.columns.str.upper()\n",
    "\n",
    "rewardboard_addresses = pd.read_csv(REWARD_BOARD_ADDRESSES_PATH)"
   ]
  },
  {
   "cell_type": "code",
   "execution_count": 5,
   "id": "nominated-monday",
   "metadata": {
    "execution": {
     "iopub.execute_input": "2023-02-06T21:31:29.359645Z",
     "iopub.status.busy": "2023-02-06T21:31:29.359504Z",
     "iopub.status.idle": "2023-02-06T21:31:29.363243Z",
     "shell.execute_reply": "2023-02-06T21:31:29.362833Z"
    },
    "jupyter": {
     "source_hidden": true
    },
    "papermill": {
     "duration": 0.015142,
     "end_time": "2023-02-06T21:31:29.364289",
     "exception": false,
     "start_time": "2023-02-06T21:31:29.349147",
     "status": "completed"
    },
    "tags": []
   },
   "outputs": [],
   "source": [
    "try:\n",
    "    CUTOFF_VALUE = token_reward_percentages[\"ceiling_cutoff\"]\n",
    "except:\n",
    "    #always distribute total amount of allocated tokens\n",
    "    CUTOFF_VALUE = 1 \n",
    "\n",
    "#if the amount of praise is below the cutoff, adapt number of distributed tokens\n",
    "if(len(praise_data.index) < CUTOFF_VALUE):\n",
    "        total_tokens_allocated = len(praise_data.index) / CUTOFF_VALUE * float(total_tokens_allocated)\n",
    "\n",
    "\n",
    "\n",
    "NUMBER_OF_PRAISE_REWARD_TOKENS_TO_DISTRIBUTE = math.trunc( float(total_tokens_allocated) * token_reward_percentages[\"contributor_rewards\"]*1000000) / 1000000\n",
    "NUMBER_OF_REWARD_TOKENS_FOR_QUANTIFIERS = math.trunc(  float(total_tokens_allocated) * token_reward_percentages[\"quantifier_rewards\"]*1000000) / 1000000\n",
    "NUMBER_OF_REWARD_TOKENS_FOR_REWARD_BOARD = math.trunc(  float(total_tokens_allocated) * token_reward_percentages[\"rewardboard_rewards\"]*1000000) / 1000000\n",
    "NUMBER_OF_QUANTIFIERS_PER_PRAISE = quantification_settings[\"number_of_quantifiers_per_praise_receiver\"]\n",
    "\n",
    "\n",
    "\n"
   ]
  },
  {
   "cell_type": "markdown",
   "id": "rising-organizer",
   "metadata": {
    "papermill": {
     "duration": 0.009683,
     "end_time": "2023-02-06T21:31:29.383852",
     "exception": false,
     "start_time": "2023-02-06T21:31:29.374169",
     "status": "completed"
    },
    "tags": []
   },
   "source": [
    "## Reward allocation\n",
    "\n",
    "### Praise\n",
    "\n",
    "This method allocates the praise rewards in a very straightforward way: It adds the value of all dished praised together, and then assigns to each user their % of the total."
   ]
  },
  {
   "cell_type": "code",
   "execution_count": 6,
   "id": "instructional-rotation",
   "metadata": {
    "execution": {
     "iopub.execute_input": "2023-02-06T21:31:29.403753Z",
     "iopub.status.busy": "2023-02-06T21:31:29.403635Z",
     "iopub.status.idle": "2023-02-06T21:31:30.177710Z",
     "shell.execute_reply": "2023-02-06T21:31:30.177228Z"
    },
    "jupyter": {
     "source_hidden": true
    },
    "papermill": {
     "duration": 0.78629,
     "end_time": "2023-02-06T21:31:30.179597",
     "exception": false,
     "start_time": "2023-02-06T21:31:29.393307",
     "status": "completed"
    },
    "scrolled": true,
    "tags": []
   },
   "outputs": [
    {
     "data": {
      "text/html": [
       "<style type=\"text/css\">\n",
       "</style>\n",
       "<table id=\"T_162aa_\">\n",
       "  <thead>\n",
       "    <tr>\n",
       "      <th class=\"blank level0\" >&nbsp;</th>\n",
       "      <th class=\"col_heading level0 col0\" >ID</th>\n",
       "      <th class=\"col_heading level0 col1\" >DATE</th>\n",
       "      <th class=\"col_heading level0 col2\" >TO USER ACCOUNT</th>\n",
       "      <th class=\"col_heading level0 col3\" >TO USER ACCOUNT ID</th>\n",
       "      <th class=\"col_heading level0 col4\" >TO ETH ADDRESS</th>\n",
       "      <th class=\"col_heading level0 col5\" >FROM USER ACCOUNT</th>\n",
       "      <th class=\"col_heading level0 col6\" >FROM USER ACCOUNT ID</th>\n",
       "      <th class=\"col_heading level0 col7\" >FROM ETH ADDRESS</th>\n",
       "      <th class=\"col_heading level0 col8\" >REASON</th>\n",
       "      <th class=\"col_heading level0 col9\" >SOURCE ID</th>\n",
       "      <th class=\"col_heading level0 col10\" >SOURCE NAME</th>\n",
       "      <th class=\"col_heading level0 col11\" >SCORE 1</th>\n",
       "      <th class=\"col_heading level0 col12\" >SCORE 2</th>\n",
       "      <th class=\"col_heading level0 col13\" >SCORE 3</th>\n",
       "      <th class=\"col_heading level0 col14\" >SCORE 4</th>\n",
       "      <th class=\"col_heading level0 col15\" >DUPLICATE ID 1</th>\n",
       "      <th class=\"col_heading level0 col16\" >DUPLICATE ID 2</th>\n",
       "      <th class=\"col_heading level0 col17\" >DUPLICATE ID 3</th>\n",
       "      <th class=\"col_heading level0 col18\" >DUPLICATE ID 4</th>\n",
       "      <th class=\"col_heading level0 col19\" >DISMISSED 1</th>\n",
       "      <th class=\"col_heading level0 col20\" >DISMISSED 2</th>\n",
       "      <th class=\"col_heading level0 col21\" >DISMISSED 3</th>\n",
       "      <th class=\"col_heading level0 col22\" >DISMISSED 4</th>\n",
       "      <th class=\"col_heading level0 col23\" >QUANTIFIER 1 USERNAME</th>\n",
       "      <th class=\"col_heading level0 col24\" >QUANTIFIER 1 ETH ADDRESS</th>\n",
       "      <th class=\"col_heading level0 col25\" >QUANTIFIER 2 USERNAME</th>\n",
       "      <th class=\"col_heading level0 col26\" >QUANTIFIER 2 ETH ADDRESS</th>\n",
       "      <th class=\"col_heading level0 col27\" >QUANTIFIER 3 USERNAME</th>\n",
       "      <th class=\"col_heading level0 col28\" >QUANTIFIER 3 ETH ADDRESS</th>\n",
       "      <th class=\"col_heading level0 col29\" >QUANTIFIER 4 USERNAME</th>\n",
       "      <th class=\"col_heading level0 col30\" >QUANTIFIER 4 ETH ADDRESS</th>\n",
       "      <th class=\"col_heading level0 col31\" >AVG SCORE</th>\n",
       "      <th class=\"col_heading level0 col32\" >PERCENTAGE</th>\n",
       "      <th class=\"col_heading level0 col33\" >TOKEN TO RECEIVE</th>\n",
       "    </tr>\n",
       "  </thead>\n",
       "  <tbody>\n",
       "    <tr>\n",
       "      <th id=\"T_162aa_level0_row0\" class=\"row_heading level0 row0\" >0</th>\n",
       "      <td id=\"T_162aa_row0_col0\" class=\"data row0 col0\" >63c599324287630828df07e7</td>\n",
       "      <td id=\"T_162aa_row0_col1\" class=\"data row0 col1\" >2023-01-16T18:36:34.502Z</td>\n",
       "      <td id=\"T_162aa_row0_col2\" class=\"data row0 col2\" >acidlazzer#5796</td>\n",
       "      <td id=\"T_162aa_row0_col3\" class=\"data row0 col3\" >621f79d095a79aa51435b5c8</td>\n",
       "      <td id=\"T_162aa_row0_col4\" class=\"data row0 col4\" >0x8aA27E90E139d5AB5704df69429341cbCb2d2464</td>\n",
       "      <td id=\"T_162aa_row0_col5\" class=\"data row0 col5\" >enti#1546</td>\n",
       "      <td id=\"T_162aa_row0_col6\" class=\"data row0 col6\" >6220d93f95a79aa51436be5e</td>\n",
       "      <td id=\"T_162aa_row0_col7\" class=\"data row0 col7\" >0x6897aBe0fD62B589260784B21F4ca3F78A0D8017</td>\n",
       "      <td id=\"T_162aa_row0_col8\" class=\"data row0 col8\" >for designing TEC traits for Public Nouns, loving them!</td>\n",
       "      <td id=\"T_162aa_row0_col9\" class=\"data row0 col9\" >DISCORD:810180621930070088:810180622336262195</td>\n",
       "      <td id=\"T_162aa_row0_col10\" class=\"data row0 col10\" >DISCORD:Token%20Engineering%20Commons:%F0%9F%99%8F%EF%BD%9Cpraise</td>\n",
       "      <td id=\"T_162aa_row0_col11\" class=\"data row0 col11\" >13</td>\n",
       "      <td id=\"T_162aa_row0_col12\" class=\"data row0 col12\" >21</td>\n",
       "      <td id=\"T_162aa_row0_col13\" class=\"data row0 col13\" >21</td>\n",
       "      <td id=\"T_162aa_row0_col14\" class=\"data row0 col14\" >55</td>\n",
       "      <td id=\"T_162aa_row0_col15\" class=\"data row0 col15\" >nan</td>\n",
       "      <td id=\"T_162aa_row0_col16\" class=\"data row0 col16\" >nan</td>\n",
       "      <td id=\"T_162aa_row0_col17\" class=\"data row0 col17\" >nan</td>\n",
       "      <td id=\"T_162aa_row0_col18\" class=\"data row0 col18\" >nan</td>\n",
       "      <td id=\"T_162aa_row0_col19\" class=\"data row0 col19\" >False</td>\n",
       "      <td id=\"T_162aa_row0_col20\" class=\"data row0 col20\" >False</td>\n",
       "      <td id=\"T_162aa_row0_col21\" class=\"data row0 col21\" >False</td>\n",
       "      <td id=\"T_162aa_row0_col22\" class=\"data row0 col22\" >False</td>\n",
       "      <td id=\"T_162aa_row0_col23\" class=\"data row0 col23\" >EFRA#7972</td>\n",
       "      <td id=\"T_162aa_row0_col24\" class=\"data row0 col24\" >0x438cDDcc8E6f0E0E18CE33F6b5a8fFCFAb5A999c</td>\n",
       "      <td id=\"T_162aa_row0_col25\" class=\"data row0 col25\" >Maxwe11#7157</td>\n",
       "      <td id=\"T_162aa_row0_col26\" class=\"data row0 col26\" >0x3F20a6fE04b3A4b37bBBBea826ae23be56Baed74</td>\n",
       "      <td id=\"T_162aa_row0_col27\" class=\"data row0 col27\" >miguelb#5176</td>\n",
       "      <td id=\"T_162aa_row0_col28\" class=\"data row0 col28\" >0x7311b7bf2f004b8070efAf4A130348EEB18EF369</td>\n",
       "      <td id=\"T_162aa_row0_col29\" class=\"data row0 col29\" >divine_comedian#5493</td>\n",
       "      <td id=\"T_162aa_row0_col30\" class=\"data row0 col30\" >0x320c338BCF70bAAaE26e96201C33B48105Bc62C2</td>\n",
       "      <td id=\"T_162aa_row0_col31\" class=\"data row0 col31\" >27.500000</td>\n",
       "      <td id=\"T_162aa_row0_col32\" class=\"data row0 col32\" >0.119487</td>\n",
       "      <td id=\"T_162aa_row0_col33\" class=\"data row0 col33\" >2.869850</td>\n",
       "    </tr>\n",
       "    <tr>\n",
       "      <th id=\"T_162aa_level0_row1\" class=\"row_heading level0 row1\" >1</th>\n",
       "      <td id=\"T_162aa_row1_col0\" class=\"data row1 col0\" >63c5aae54287630828df07f6</td>\n",
       "      <td id=\"T_162aa_row1_col1\" class=\"data row1 col1\" >2023-01-16T19:52:05.897Z</td>\n",
       "      <td id=\"T_162aa_row1_col2\" class=\"data row1 col2\" >r-x-x#8344</td>\n",
       "      <td id=\"T_162aa_row1_col3\" class=\"data row1 col3\" >62719c82d6f46f43ffe0ce96</td>\n",
       "      <td id=\"T_162aa_row1_col4\" class=\"data row1 col4\" >0x1409a9ef3450D5d50aAd004f417436e772FbF8fC</td>\n",
       "      <td id=\"T_162aa_row1_col5\" class=\"data row1 col5\" >GideonRo#3175</td>\n",
       "      <td id=\"T_162aa_row1_col6\" class=\"data row1 col6\" >621f79d595a79aa51435c5ff</td>\n",
       "      <td id=\"T_162aa_row1_col7\" class=\"data row1 col7\" >0xB08F0ca73E8A59a1b7970e22B8ed2F9142c3fA53</td>\n",
       "      <td id=\"T_162aa_row1_col8\" class=\"data row1 col8\" >for securing admin access to the TEC's account on LinkedIn and doing a little cleanup there.</td>\n",
       "      <td id=\"T_162aa_row1_col9\" class=\"data row1 col9\" >DISCORD:810180621930070088:1055952664892022925</td>\n",
       "      <td id=\"T_162aa_row1_col10\" class=\"data row1 col10\" >DISCORD:Token%20Engineering%20Commons:%F0%9F%90%9D%EF%BD%9Ccoordinators%20%2F%20Praise!%20-%20Coordination</td>\n",
       "      <td id=\"T_162aa_row1_col11\" class=\"data row1 col11\" >13</td>\n",
       "      <td id=\"T_162aa_row1_col12\" class=\"data row1 col12\" >13</td>\n",
       "      <td id=\"T_162aa_row1_col13\" class=\"data row1 col13\" >13</td>\n",
       "      <td id=\"T_162aa_row1_col14\" class=\"data row1 col14\" >55</td>\n",
       "      <td id=\"T_162aa_row1_col15\" class=\"data row1 col15\" >nan</td>\n",
       "      <td id=\"T_162aa_row1_col16\" class=\"data row1 col16\" >nan</td>\n",
       "      <td id=\"T_162aa_row1_col17\" class=\"data row1 col17\" >nan</td>\n",
       "      <td id=\"T_162aa_row1_col18\" class=\"data row1 col18\" >nan</td>\n",
       "      <td id=\"T_162aa_row1_col19\" class=\"data row1 col19\" >False</td>\n",
       "      <td id=\"T_162aa_row1_col20\" class=\"data row1 col20\" >False</td>\n",
       "      <td id=\"T_162aa_row1_col21\" class=\"data row1 col21\" >False</td>\n",
       "      <td id=\"T_162aa_row1_col22\" class=\"data row1 col22\" >False</td>\n",
       "      <td id=\"T_162aa_row1_col23\" class=\"data row1 col23\" >EFRA#7972</td>\n",
       "      <td id=\"T_162aa_row1_col24\" class=\"data row1 col24\" >0x438cDDcc8E6f0E0E18CE33F6b5a8fFCFAb5A999c</td>\n",
       "      <td id=\"T_162aa_row1_col25\" class=\"data row1 col25\" >Maxwe11#7157</td>\n",
       "      <td id=\"T_162aa_row1_col26\" class=\"data row1 col26\" >0x3F20a6fE04b3A4b37bBBBea826ae23be56Baed74</td>\n",
       "      <td id=\"T_162aa_row1_col27\" class=\"data row1 col27\" >miguelb#5176</td>\n",
       "      <td id=\"T_162aa_row1_col28\" class=\"data row1 col28\" >0x7311b7bf2f004b8070efAf4A130348EEB18EF369</td>\n",
       "      <td id=\"T_162aa_row1_col29\" class=\"data row1 col29\" >divine_comedian#5493</td>\n",
       "      <td id=\"T_162aa_row1_col30\" class=\"data row1 col30\" >0x320c338BCF70bAAaE26e96201C33B48105Bc62C2</td>\n",
       "      <td id=\"T_162aa_row1_col31\" class=\"data row1 col31\" >23.500000</td>\n",
       "      <td id=\"T_162aa_row1_col32\" class=\"data row1 col32\" >0.102107</td>\n",
       "      <td id=\"T_162aa_row1_col33\" class=\"data row1 col33\" >2.452417</td>\n",
       "    </tr>\n",
       "    <tr>\n",
       "      <th id=\"T_162aa_level0_row2\" class=\"row_heading level0 row2\" >2</th>\n",
       "      <td id=\"T_162aa_row2_col0\" class=\"data row2 col0\" >63c5ad904287630828df0805</td>\n",
       "      <td id=\"T_162aa_row2_col1\" class=\"data row2 col1\" >2023-01-16T20:03:28.823Z</td>\n",
       "      <td id=\"T_162aa_row2_col2\" class=\"data row2 col2\" >r-x-x#8344</td>\n",
       "      <td id=\"T_162aa_row2_col3\" class=\"data row2 col3\" >62719c82d6f46f43ffe0ce96</td>\n",
       "      <td id=\"T_162aa_row2_col4\" class=\"data row2 col4\" >0x1409a9ef3450D5d50aAd004f417436e772FbF8fC</td>\n",
       "      <td id=\"T_162aa_row2_col5\" class=\"data row2 col5\" >GideonRo#3175</td>\n",
       "      <td id=\"T_162aa_row2_col6\" class=\"data row2 col6\" >621f79d595a79aa51435c5ff</td>\n",
       "      <td id=\"T_162aa_row2_col7\" class=\"data row2 col7\" >0xB08F0ca73E8A59a1b7970e22B8ed2F9142c3fA53</td>\n",
       "      <td id=\"T_162aa_row2_col8\" class=\"data row2 col8\" >for doing a massive amount of work to move our Dune dashboard over to the latest version fo Dune. This entailed rewriting of a large number of queries. He also did a nice refactoring of the UI to make our analytics much easier to understand. Quantifiers: this was a lot of work. Please quantify accordingly.</td>\n",
       "      <td id=\"T_162aa_row2_col9\" class=\"data row2 col9\" >DISCORD:810180621930070088:810180622336262195</td>\n",
       "      <td id=\"T_162aa_row2_col10\" class=\"data row2 col10\" >DISCORD:Token%20Engineering%20Commons:%F0%9F%99%8F%EF%BD%9Cpraise</td>\n",
       "      <td id=\"T_162aa_row2_col11\" class=\"data row2 col11\" >13</td>\n",
       "      <td id=\"T_162aa_row2_col12\" class=\"data row2 col12\" >144</td>\n",
       "      <td id=\"T_162aa_row2_col13\" class=\"data row2 col13\" >13</td>\n",
       "      <td id=\"T_162aa_row2_col14\" class=\"data row2 col14\" >144</td>\n",
       "      <td id=\"T_162aa_row2_col15\" class=\"data row2 col15\" >nan</td>\n",
       "      <td id=\"T_162aa_row2_col16\" class=\"data row2 col16\" >nan</td>\n",
       "      <td id=\"T_162aa_row2_col17\" class=\"data row2 col17\" >nan</td>\n",
       "      <td id=\"T_162aa_row2_col18\" class=\"data row2 col18\" >nan</td>\n",
       "      <td id=\"T_162aa_row2_col19\" class=\"data row2 col19\" >False</td>\n",
       "      <td id=\"T_162aa_row2_col20\" class=\"data row2 col20\" >False</td>\n",
       "      <td id=\"T_162aa_row2_col21\" class=\"data row2 col21\" >False</td>\n",
       "      <td id=\"T_162aa_row2_col22\" class=\"data row2 col22\" >False</td>\n",
       "      <td id=\"T_162aa_row2_col23\" class=\"data row2 col23\" >EFRA#7972</td>\n",
       "      <td id=\"T_162aa_row2_col24\" class=\"data row2 col24\" >0x438cDDcc8E6f0E0E18CE33F6b5a8fFCFAb5A999c</td>\n",
       "      <td id=\"T_162aa_row2_col25\" class=\"data row2 col25\" >Maxwe11#7157</td>\n",
       "      <td id=\"T_162aa_row2_col26\" class=\"data row2 col26\" >0x3F20a6fE04b3A4b37bBBBea826ae23be56Baed74</td>\n",
       "      <td id=\"T_162aa_row2_col27\" class=\"data row2 col27\" >miguelb#5176</td>\n",
       "      <td id=\"T_162aa_row2_col28\" class=\"data row2 col28\" >0x7311b7bf2f004b8070efAf4A130348EEB18EF369</td>\n",
       "      <td id=\"T_162aa_row2_col29\" class=\"data row2 col29\" >divine_comedian#5493</td>\n",
       "      <td id=\"T_162aa_row2_col30\" class=\"data row2 col30\" >0x320c338BCF70bAAaE26e96201C33B48105Bc62C2</td>\n",
       "      <td id=\"T_162aa_row2_col31\" class=\"data row2 col31\" >78.500000</td>\n",
       "      <td id=\"T_162aa_row2_col32\" class=\"data row2 col32\" >0.341082</td>\n",
       "      <td id=\"T_162aa_row2_col33\" class=\"data row2 col33\" >8.192118</td>\n",
       "    </tr>\n",
       "    <tr>\n",
       "      <th id=\"T_162aa_level0_row3\" class=\"row_heading level0 row3\" >3</th>\n",
       "      <td id=\"T_162aa_row3_col0\" class=\"data row3 col0\" >63c5b0144287630828df0814</td>\n",
       "      <td id=\"T_162aa_row3_col1\" class=\"data row3 col1\" >2023-01-16T20:14:12.951Z</td>\n",
       "      <td id=\"T_162aa_row3_col2\" class=\"data row3 col2\" >acidlazzer#5796</td>\n",
       "      <td id=\"T_162aa_row3_col3\" class=\"data row3 col3\" >621f79d095a79aa51435b5c8</td>\n",
       "      <td id=\"T_162aa_row3_col4\" class=\"data row3 col4\" >0x8aA27E90E139d5AB5704df69429341cbCb2d2464</td>\n",
       "      <td id=\"T_162aa_row3_col5\" class=\"data row3 col5\" >divine_comedian#5493</td>\n",
       "      <td id=\"T_162aa_row3_col6\" class=\"data row3 col6\" >621f79cf95a79aa51435b4cc</td>\n",
       "      <td id=\"T_162aa_row3_col7\" class=\"data row3 col7\" >0x320c338BCF70bAAaE26e96201C33B48105Bc62C2</td>\n",
       "      <td id=\"T_162aa_row3_col8\" class=\"data row3 col8\" >for designing this really cool quantifier robot themed Noun avatar!</td>\n",
       "      <td id=\"T_162aa_row3_col9\" class=\"data row3 col9\" >DISCORD:810180621930070088:810180622336262195</td>\n",
       "      <td id=\"T_162aa_row3_col10\" class=\"data row3 col10\" >DISCORD:Token%20Engineering%20Commons:%F0%9F%99%8F%EF%BD%9Cpraise</td>\n",
       "      <td id=\"T_162aa_row3_col11\" class=\"data row3 col11\" >8</td>\n",
       "      <td id=\"T_162aa_row3_col12\" class=\"data row3 col12\" >0</td>\n",
       "      <td id=\"T_162aa_row3_col13\" class=\"data row3 col13\" >34</td>\n",
       "      <td id=\"T_162aa_row3_col14\" class=\"data row3 col14\" >0</td>\n",
       "      <td id=\"T_162aa_row3_col15\" class=\"data row3 col15\" >nan</td>\n",
       "      <td id=\"T_162aa_row3_col16\" class=\"data row3 col16\" >63c599324287630828df07e7</td>\n",
       "      <td id=\"T_162aa_row3_col17\" class=\"data row3 col17\" >nan</td>\n",
       "      <td id=\"T_162aa_row3_col18\" class=\"data row3 col18\" >63c599324287630828df07e7</td>\n",
       "      <td id=\"T_162aa_row3_col19\" class=\"data row3 col19\" >False</td>\n",
       "      <td id=\"T_162aa_row3_col20\" class=\"data row3 col20\" >False</td>\n",
       "      <td id=\"T_162aa_row3_col21\" class=\"data row3 col21\" >False</td>\n",
       "      <td id=\"T_162aa_row3_col22\" class=\"data row3 col22\" >False</td>\n",
       "      <td id=\"T_162aa_row3_col23\" class=\"data row3 col23\" >EFRA#7972</td>\n",
       "      <td id=\"T_162aa_row3_col24\" class=\"data row3 col24\" >0x438cDDcc8E6f0E0E18CE33F6b5a8fFCFAb5A999c</td>\n",
       "      <td id=\"T_162aa_row3_col25\" class=\"data row3 col25\" >Maxwe11#7157</td>\n",
       "      <td id=\"T_162aa_row3_col26\" class=\"data row3 col26\" >0x3F20a6fE04b3A4b37bBBBea826ae23be56Baed74</td>\n",
       "      <td id=\"T_162aa_row3_col27\" class=\"data row3 col27\" >miguelb#5176</td>\n",
       "      <td id=\"T_162aa_row3_col28\" class=\"data row3 col28\" >0x7311b7bf2f004b8070efAf4A130348EEB18EF369</td>\n",
       "      <td id=\"T_162aa_row3_col29\" class=\"data row3 col29\" >divine_comedian#5493</td>\n",
       "      <td id=\"T_162aa_row3_col30\" class=\"data row3 col30\" >0x320c338BCF70bAAaE26e96201C33B48105Bc62C2</td>\n",
       "      <td id=\"T_162aa_row3_col31\" class=\"data row3 col31\" >12.400000</td>\n",
       "      <td id=\"T_162aa_row3_col32\" class=\"data row3 col32\" >0.053878</td>\n",
       "      <td id=\"T_162aa_row3_col33\" class=\"data row3 col33\" >1.294042</td>\n",
       "    </tr>\n",
       "    <tr>\n",
       "      <th id=\"T_162aa_level0_row4\" class=\"row_heading level0 row4\" >4</th>\n",
       "      <td id=\"T_162aa_row4_col0\" class=\"data row4 col0\" >63c5b0664287630828df0823</td>\n",
       "      <td id=\"T_162aa_row4_col1\" class=\"data row4 col1\" >2023-01-16T20:15:34.578Z</td>\n",
       "      <td id=\"T_162aa_row4_col2\" class=\"data row4 col2\" >enti#1546</td>\n",
       "      <td id=\"T_162aa_row4_col3\" class=\"data row4 col3\" >6220d93f95a79aa51436be5e</td>\n",
       "      <td id=\"T_162aa_row4_col4\" class=\"data row4 col4\" >0x6897aBe0fD62B589260784B21F4ca3F78A0D8017</td>\n",
       "      <td id=\"T_162aa_row4_col5\" class=\"data row4 col5\" >divine_comedian#5493</td>\n",
       "      <td id=\"T_162aa_row4_col6\" class=\"data row4 col6\" >621f79cf95a79aa51435b4cc</td>\n",
       "      <td id=\"T_162aa_row4_col7\" class=\"data row4 col7\" >0x320c338BCF70bAAaE26e96201C33B48105Bc62C2</td>\n",
       "      <td id=\"T_162aa_row4_col8\" class=\"data row4 col8\" >for doing an amazing job leading the TEA Latam study group! I hear nothing but high praise from my latam circle about his consistency and quality. Thanks so much for your great work, passing the praise along :)</td>\n",
       "      <td id=\"T_162aa_row4_col9\" class=\"data row4 col9\" >DISCORD:810180621930070088:810180622336262195</td>\n",
       "      <td id=\"T_162aa_row4_col10\" class=\"data row4 col10\" >DISCORD:Token%20Engineering%20Commons:%F0%9F%99%8F%EF%BD%9Cpraise</td>\n",
       "      <td id=\"T_162aa_row4_col11\" class=\"data row4 col11\" >21</td>\n",
       "      <td id=\"T_162aa_row4_col12\" class=\"data row4 col12\" >21</td>\n",
       "      <td id=\"T_162aa_row4_col13\" class=\"data row4 col13\" >13</td>\n",
       "      <td id=\"T_162aa_row4_col14\" class=\"data row4 col14\" >34</td>\n",
       "      <td id=\"T_162aa_row4_col15\" class=\"data row4 col15\" >nan</td>\n",
       "      <td id=\"T_162aa_row4_col16\" class=\"data row4 col16\" >nan</td>\n",
       "      <td id=\"T_162aa_row4_col17\" class=\"data row4 col17\" >nan</td>\n",
       "      <td id=\"T_162aa_row4_col18\" class=\"data row4 col18\" >nan</td>\n",
       "      <td id=\"T_162aa_row4_col19\" class=\"data row4 col19\" >False</td>\n",
       "      <td id=\"T_162aa_row4_col20\" class=\"data row4 col20\" >False</td>\n",
       "      <td id=\"T_162aa_row4_col21\" class=\"data row4 col21\" >False</td>\n",
       "      <td id=\"T_162aa_row4_col22\" class=\"data row4 col22\" >False</td>\n",
       "      <td id=\"T_162aa_row4_col23\" class=\"data row4 col23\" >EFRA#7972</td>\n",
       "      <td id=\"T_162aa_row4_col24\" class=\"data row4 col24\" >0x438cDDcc8E6f0E0E18CE33F6b5a8fFCFAb5A999c</td>\n",
       "      <td id=\"T_162aa_row4_col25\" class=\"data row4 col25\" >Maxwe11#7157</td>\n",
       "      <td id=\"T_162aa_row4_col26\" class=\"data row4 col26\" >0x3F20a6fE04b3A4b37bBBBea826ae23be56Baed74</td>\n",
       "      <td id=\"T_162aa_row4_col27\" class=\"data row4 col27\" >miguelb#5176</td>\n",
       "      <td id=\"T_162aa_row4_col28\" class=\"data row4 col28\" >0x7311b7bf2f004b8070efAf4A130348EEB18EF369</td>\n",
       "      <td id=\"T_162aa_row4_col29\" class=\"data row4 col29\" >divine_comedian#5493</td>\n",
       "      <td id=\"T_162aa_row4_col30\" class=\"data row4 col30\" >0x320c338BCF70bAAaE26e96201C33B48105Bc62C2</td>\n",
       "      <td id=\"T_162aa_row4_col31\" class=\"data row4 col31\" >22.250000</td>\n",
       "      <td id=\"T_162aa_row4_col32\" class=\"data row4 col32\" >0.096676</td>\n",
       "      <td id=\"T_162aa_row4_col33\" class=\"data row4 col33\" >2.321970</td>\n",
       "    </tr>\n",
       "    <tr>\n",
       "      <th id=\"T_162aa_level0_row5\" class=\"row_heading level0 row5\" >5</th>\n",
       "      <td id=\"T_162aa_row5_col0\" class=\"data row5 col0\" >63cf764c86f591dd748e04a9</td>\n",
       "      <td id=\"T_162aa_row5_col1\" class=\"data row5 col1\" >2023-01-24T06:10:20.596Z</td>\n",
       "      <td id=\"T_162aa_row5_col2\" class=\"data row5 col2\" >Marathonmind#3078</td>\n",
       "      <td id=\"T_162aa_row5_col3\" class=\"data row5 col3\" >63b5e810ef905c1d9bee86a0</td>\n",
       "      <td id=\"T_162aa_row5_col4\" class=\"data row5 col4\" >0x721bA19c32051Fd8e851a74958C52936516c7fDC</td>\n",
       "      <td id=\"T_162aa_row5_col5\" class=\"data row5 col5\" >acidlazzer#5796</td>\n",
       "      <td id=\"T_162aa_row5_col6\" class=\"data row5 col6\" >621f79d095a79aa51435b5c8</td>\n",
       "      <td id=\"T_162aa_row5_col7\" class=\"data row5 col7\" >0x8aA27E90E139d5AB5704df69429341cbCb2d2464</td>\n",
       "      <td id=\"T_162aa_row5_col8\" class=\"data row5 col8\" >for the nice work and commitment making the curation service threads for twitter!</td>\n",
       "      <td id=\"T_162aa_row5_col9\" class=\"data row5 col9\" >DISCORD:810180621930070088:810180622336262195</td>\n",
       "      <td id=\"T_162aa_row5_col10\" class=\"data row5 col10\" >DISCORD:Token%20Engineering%20Commons:%F0%9F%99%8F%EF%BD%9Cpraise</td>\n",
       "      <td id=\"T_162aa_row5_col11\" class=\"data row5 col11\" >13</td>\n",
       "      <td id=\"T_162aa_row5_col12\" class=\"data row5 col12\" >13</td>\n",
       "      <td id=\"T_162aa_row5_col13\" class=\"data row5 col13\" >13</td>\n",
       "      <td id=\"T_162aa_row5_col14\" class=\"data row5 col14\" >21</td>\n",
       "      <td id=\"T_162aa_row5_col15\" class=\"data row5 col15\" >nan</td>\n",
       "      <td id=\"T_162aa_row5_col16\" class=\"data row5 col16\" >nan</td>\n",
       "      <td id=\"T_162aa_row5_col17\" class=\"data row5 col17\" >nan</td>\n",
       "      <td id=\"T_162aa_row5_col18\" class=\"data row5 col18\" >nan</td>\n",
       "      <td id=\"T_162aa_row5_col19\" class=\"data row5 col19\" >False</td>\n",
       "      <td id=\"T_162aa_row5_col20\" class=\"data row5 col20\" >False</td>\n",
       "      <td id=\"T_162aa_row5_col21\" class=\"data row5 col21\" >False</td>\n",
       "      <td id=\"T_162aa_row5_col22\" class=\"data row5 col22\" >False</td>\n",
       "      <td id=\"T_162aa_row5_col23\" class=\"data row5 col23\" >EFRA#7972</td>\n",
       "      <td id=\"T_162aa_row5_col24\" class=\"data row5 col24\" >0x438cDDcc8E6f0E0E18CE33F6b5a8fFCFAb5A999c</td>\n",
       "      <td id=\"T_162aa_row5_col25\" class=\"data row5 col25\" >Maxwe11#7157</td>\n",
       "      <td id=\"T_162aa_row5_col26\" class=\"data row5 col26\" >0x3F20a6fE04b3A4b37bBBBea826ae23be56Baed74</td>\n",
       "      <td id=\"T_162aa_row5_col27\" class=\"data row5 col27\" >miguelb#5176</td>\n",
       "      <td id=\"T_162aa_row5_col28\" class=\"data row5 col28\" >0x7311b7bf2f004b8070efAf4A130348EEB18EF369</td>\n",
       "      <td id=\"T_162aa_row5_col29\" class=\"data row5 col29\" >divine_comedian#5493</td>\n",
       "      <td id=\"T_162aa_row5_col30\" class=\"data row5 col30\" >0x320c338BCF70bAAaE26e96201C33B48105Bc62C2</td>\n",
       "      <td id=\"T_162aa_row5_col31\" class=\"data row5 col31\" >15.000000</td>\n",
       "      <td id=\"T_162aa_row5_col32\" class=\"data row5 col32\" >0.065175</td>\n",
       "      <td id=\"T_162aa_row5_col33\" class=\"data row5 col33\" >1.565373</td>\n",
       "    </tr>\n",
       "    <tr>\n",
       "      <th id=\"T_162aa_level0_row6\" class=\"row_heading level0 row6\" >6</th>\n",
       "      <td id=\"T_162aa_row6_col0\" class=\"data row6 col0\" >63d3977586f591dd748e04b8</td>\n",
       "      <td id=\"T_162aa_row6_col1\" class=\"data row6 col1\" >2023-01-27T09:20:53.415Z</td>\n",
       "      <td id=\"T_162aa_row6_col2\" class=\"data row6 col2\" >BiancaGadelha#2667</td>\n",
       "      <td id=\"T_162aa_row6_col3\" class=\"data row6 col3\" >621f79dc95a79aa51435dc5a</td>\n",
       "      <td id=\"T_162aa_row6_col4\" class=\"data row6 col4\" >0x1375847014BA64517210cBFE185808232Cf45d4a</td>\n",
       "      <td id=\"T_162aa_row6_col5\" class=\"data row6 col5\" >innov8tor3#3988</td>\n",
       "      <td id=\"T_162aa_row6_col6\" class=\"data row6 col6\" >621f79d195a79aa51435b94e</td>\n",
       "      <td id=\"T_162aa_row6_col7\" class=\"data row6 col7\" >0xBCAD90F4a1ED4067d9bC33D4089FF18A82250253</td>\n",
       "      <td id=\"T_162aa_row6_col8\" class=\"data row6 col8\" >for always listening, always being supportive, always willing to offer suggestions, and for practical suggestions that have targeted meaning and value. She's a great example to many in Discord and DAOs in general. Gravity and Gravitons have a lot to offer in such settings.</td>\n",
       "      <td id=\"T_162aa_row6_col9\" class=\"data row6 col9\" >DISCORD:810180621930070088:810180622479917065</td>\n",
       "      <td id=\"T_162aa_row6_col10\" class=\"data row6 col10\" >DISCORD:Token%20Engineering%20Commons:%F0%9F%95%8A%EF%BD%9Cgravity-talk</td>\n",
       "      <td id=\"T_162aa_row6_col11\" class=\"data row6 col11\" >34</td>\n",
       "      <td id=\"T_162aa_row6_col12\" class=\"data row6 col12\" >13</td>\n",
       "      <td id=\"T_162aa_row6_col13\" class=\"data row6 col13\" >8</td>\n",
       "      <td id=\"T_162aa_row6_col14\" class=\"data row6 col14\" >13</td>\n",
       "      <td id=\"T_162aa_row6_col15\" class=\"data row6 col15\" >nan</td>\n",
       "      <td id=\"T_162aa_row6_col16\" class=\"data row6 col16\" >nan</td>\n",
       "      <td id=\"T_162aa_row6_col17\" class=\"data row6 col17\" >nan</td>\n",
       "      <td id=\"T_162aa_row6_col18\" class=\"data row6 col18\" >nan</td>\n",
       "      <td id=\"T_162aa_row6_col19\" class=\"data row6 col19\" >False</td>\n",
       "      <td id=\"T_162aa_row6_col20\" class=\"data row6 col20\" >False</td>\n",
       "      <td id=\"T_162aa_row6_col21\" class=\"data row6 col21\" >False</td>\n",
       "      <td id=\"T_162aa_row6_col22\" class=\"data row6 col22\" >False</td>\n",
       "      <td id=\"T_162aa_row6_col23\" class=\"data row6 col23\" >EFRA#7972</td>\n",
       "      <td id=\"T_162aa_row6_col24\" class=\"data row6 col24\" >0x438cDDcc8E6f0E0E18CE33F6b5a8fFCFAb5A999c</td>\n",
       "      <td id=\"T_162aa_row6_col25\" class=\"data row6 col25\" >Maxwe11#7157</td>\n",
       "      <td id=\"T_162aa_row6_col26\" class=\"data row6 col26\" >0x3F20a6fE04b3A4b37bBBBea826ae23be56Baed74</td>\n",
       "      <td id=\"T_162aa_row6_col27\" class=\"data row6 col27\" >miguelb#5176</td>\n",
       "      <td id=\"T_162aa_row6_col28\" class=\"data row6 col28\" >0x7311b7bf2f004b8070efAf4A130348EEB18EF369</td>\n",
       "      <td id=\"T_162aa_row6_col29\" class=\"data row6 col29\" >divine_comedian#5493</td>\n",
       "      <td id=\"T_162aa_row6_col30\" class=\"data row6 col30\" >0x320c338BCF70bAAaE26e96201C33B48105Bc62C2</td>\n",
       "      <td id=\"T_162aa_row6_col31\" class=\"data row6 col31\" >17.000000</td>\n",
       "      <td id=\"T_162aa_row6_col32\" class=\"data row6 col32\" >0.073865</td>\n",
       "      <td id=\"T_162aa_row6_col33\" class=\"data row6 col33\" >1.774089</td>\n",
       "    </tr>\n",
       "    <tr>\n",
       "      <th id=\"T_162aa_level0_row7\" class=\"row_heading level0 row7\" >7</th>\n",
       "      <td id=\"T_162aa_row7_col0\" class=\"data row7 col0\" >63d63df986f591dd748e04c7</td>\n",
       "      <td id=\"T_162aa_row7_col1\" class=\"data row7 col1\" >2023-01-29T09:35:53.617Z</td>\n",
       "      <td id=\"T_162aa_row7_col2\" class=\"data row7 col2\" >GideonRo#3175</td>\n",
       "      <td id=\"T_162aa_row7_col3\" class=\"data row7 col3\" >621f79d595a79aa51435c5ff</td>\n",
       "      <td id=\"T_162aa_row7_col4\" class=\"data row7 col4\" >0xB08F0ca73E8A59a1b7970e22B8ed2F9142c3fA53</td>\n",
       "      <td id=\"T_162aa_row7_col5\" class=\"data row7 col5\" >innov8tor3#3988</td>\n",
       "      <td id=\"T_162aa_row7_col6\" class=\"data row7 col6\" >621f79d195a79aa51435b94e</td>\n",
       "      <td id=\"T_162aa_row7_col7\" class=\"data row7 col7\" >0xBCAD90F4a1ED4067d9bC33D4089FF18A82250253</td>\n",
       "      <td id=\"T_162aa_row7_col8\" class=\"data row7 col8\" >for stepping up into support roles for folk enquiring in the #💬｜general channel, because it's such an important first step for folks arriving and seeking direction and knowledge. Thank you.</td>\n",
       "      <td id=\"T_162aa_row7_col9\" class=\"data row7 col9\" >DISCORD:810180621930070088:810180622165213218</td>\n",
       "      <td id=\"T_162aa_row7_col10\" class=\"data row7 col10\" >DISCORD:Token%20Engineering%20Commons:%F0%9F%92%AC%EF%BD%9Cgeneral</td>\n",
       "      <td id=\"T_162aa_row7_col11\" class=\"data row7 col11\" >13</td>\n",
       "      <td id=\"T_162aa_row7_col12\" class=\"data row7 col12\" >13</td>\n",
       "      <td id=\"T_162aa_row7_col13\" class=\"data row7 col13\" >8</td>\n",
       "      <td id=\"T_162aa_row7_col14\" class=\"data row7 col14\" >34</td>\n",
       "      <td id=\"T_162aa_row7_col15\" class=\"data row7 col15\" >nan</td>\n",
       "      <td id=\"T_162aa_row7_col16\" class=\"data row7 col16\" >nan</td>\n",
       "      <td id=\"T_162aa_row7_col17\" class=\"data row7 col17\" >nan</td>\n",
       "      <td id=\"T_162aa_row7_col18\" class=\"data row7 col18\" >nan</td>\n",
       "      <td id=\"T_162aa_row7_col19\" class=\"data row7 col19\" >False</td>\n",
       "      <td id=\"T_162aa_row7_col20\" class=\"data row7 col20\" >False</td>\n",
       "      <td id=\"T_162aa_row7_col21\" class=\"data row7 col21\" >False</td>\n",
       "      <td id=\"T_162aa_row7_col22\" class=\"data row7 col22\" >False</td>\n",
       "      <td id=\"T_162aa_row7_col23\" class=\"data row7 col23\" >EFRA#7972</td>\n",
       "      <td id=\"T_162aa_row7_col24\" class=\"data row7 col24\" >0x438cDDcc8E6f0E0E18CE33F6b5a8fFCFAb5A999c</td>\n",
       "      <td id=\"T_162aa_row7_col25\" class=\"data row7 col25\" >Maxwe11#7157</td>\n",
       "      <td id=\"T_162aa_row7_col26\" class=\"data row7 col26\" >0x3F20a6fE04b3A4b37bBBBea826ae23be56Baed74</td>\n",
       "      <td id=\"T_162aa_row7_col27\" class=\"data row7 col27\" >miguelb#5176</td>\n",
       "      <td id=\"T_162aa_row7_col28\" class=\"data row7 col28\" >0x7311b7bf2f004b8070efAf4A130348EEB18EF369</td>\n",
       "      <td id=\"T_162aa_row7_col29\" class=\"data row7 col29\" >divine_comedian#5493</td>\n",
       "      <td id=\"T_162aa_row7_col30\" class=\"data row7 col30\" >0x320c338BCF70bAAaE26e96201C33B48105Bc62C2</td>\n",
       "      <td id=\"T_162aa_row7_col31\" class=\"data row7 col31\" >17.000000</td>\n",
       "      <td id=\"T_162aa_row7_col32\" class=\"data row7 col32\" >0.073865</td>\n",
       "      <td id=\"T_162aa_row7_col33\" class=\"data row7 col33\" >1.774089</td>\n",
       "    </tr>\n",
       "    <tr>\n",
       "      <th id=\"T_162aa_level0_row8\" class=\"row_heading level0 row8\" >8</th>\n",
       "      <td id=\"T_162aa_row8_col0\" class=\"data row8 col0\" >63d63dfa86f591dd748e04ce</td>\n",
       "      <td id=\"T_162aa_row8_col1\" class=\"data row8 col1\" >2023-01-29T09:35:54.233Z</td>\n",
       "      <td id=\"T_162aa_row8_col2\" class=\"data row8 col2\" >natesuits#4789</td>\n",
       "      <td id=\"T_162aa_row8_col3\" class=\"data row8 col3\" >621f79cf95a79aa51435b2f7</td>\n",
       "      <td id=\"T_162aa_row8_col4\" class=\"data row8 col4\" >0x66dF5A7715C5D4AfbBFA52435c66aa20733be0d1</td>\n",
       "      <td id=\"T_162aa_row8_col5\" class=\"data row8 col5\" >innov8tor3#3988</td>\n",
       "      <td id=\"T_162aa_row8_col6\" class=\"data row8 col6\" >621f79d195a79aa51435b94e</td>\n",
       "      <td id=\"T_162aa_row8_col7\" class=\"data row8 col7\" >0xBCAD90F4a1ED4067d9bC33D4089FF18A82250253</td>\n",
       "      <td id=\"T_162aa_row8_col8\" class=\"data row8 col8\" >for stepping up into support roles for folk enquiring in the #💬｜general channel, because it's such an important first step for folks arriving and seeking direction and knowledge. Thank you.</td>\n",
       "      <td id=\"T_162aa_row8_col9\" class=\"data row8 col9\" >DISCORD:810180621930070088:810180622165213218</td>\n",
       "      <td id=\"T_162aa_row8_col10\" class=\"data row8 col10\" >DISCORD:Token%20Engineering%20Commons:%F0%9F%92%AC%EF%BD%9Cgeneral</td>\n",
       "      <td id=\"T_162aa_row8_col11\" class=\"data row8 col11\" >13</td>\n",
       "      <td id=\"T_162aa_row8_col12\" class=\"data row8 col12\" >13</td>\n",
       "      <td id=\"T_162aa_row8_col13\" class=\"data row8 col13\" >8</td>\n",
       "      <td id=\"T_162aa_row8_col14\" class=\"data row8 col14\" >34</td>\n",
       "      <td id=\"T_162aa_row8_col15\" class=\"data row8 col15\" >nan</td>\n",
       "      <td id=\"T_162aa_row8_col16\" class=\"data row8 col16\" >nan</td>\n",
       "      <td id=\"T_162aa_row8_col17\" class=\"data row8 col17\" >nan</td>\n",
       "      <td id=\"T_162aa_row8_col18\" class=\"data row8 col18\" >nan</td>\n",
       "      <td id=\"T_162aa_row8_col19\" class=\"data row8 col19\" >False</td>\n",
       "      <td id=\"T_162aa_row8_col20\" class=\"data row8 col20\" >False</td>\n",
       "      <td id=\"T_162aa_row8_col21\" class=\"data row8 col21\" >False</td>\n",
       "      <td id=\"T_162aa_row8_col22\" class=\"data row8 col22\" >False</td>\n",
       "      <td id=\"T_162aa_row8_col23\" class=\"data row8 col23\" >EFRA#7972</td>\n",
       "      <td id=\"T_162aa_row8_col24\" class=\"data row8 col24\" >0x438cDDcc8E6f0E0E18CE33F6b5a8fFCFAb5A999c</td>\n",
       "      <td id=\"T_162aa_row8_col25\" class=\"data row8 col25\" >Maxwe11#7157</td>\n",
       "      <td id=\"T_162aa_row8_col26\" class=\"data row8 col26\" >0x3F20a6fE04b3A4b37bBBBea826ae23be56Baed74</td>\n",
       "      <td id=\"T_162aa_row8_col27\" class=\"data row8 col27\" >miguelb#5176</td>\n",
       "      <td id=\"T_162aa_row8_col28\" class=\"data row8 col28\" >0x7311b7bf2f004b8070efAf4A130348EEB18EF369</td>\n",
       "      <td id=\"T_162aa_row8_col29\" class=\"data row8 col29\" >divine_comedian#5493</td>\n",
       "      <td id=\"T_162aa_row8_col30\" class=\"data row8 col30\" >0x320c338BCF70bAAaE26e96201C33B48105Bc62C2</td>\n",
       "      <td id=\"T_162aa_row8_col31\" class=\"data row8 col31\" >17.000000</td>\n",
       "      <td id=\"T_162aa_row8_col32\" class=\"data row8 col32\" >0.073865</td>\n",
       "      <td id=\"T_162aa_row8_col33\" class=\"data row8 col33\" >1.774089</td>\n",
       "    </tr>\n",
       "  </tbody>\n",
       "</table>\n"
      ],
      "text/plain": [
       "<pandas.io.formats.style.Styler at 0x7f8d20ce1610>"
      ]
     },
     "execution_count": 6,
     "metadata": {},
     "output_type": "execute_result"
    }
   ],
   "source": [
    "def calc_praise_rewards(praiseData, tokensToDistribute):\n",
    "\n",
    "    totalPraisePoints = praiseData['AVG SCORE'].sum()\n",
    "\n",
    "    praiseData['PERCENTAGE'] = praiseData['AVG SCORE']/totalPraisePoints\n",
    "    praiseData['TOKEN TO RECEIVE'] = praiseData['PERCENTAGE'] * tokensToDistribute\n",
    "\n",
    "    return praiseData\n",
    "\n",
    "praise_distribution = calc_praise_rewards(praise_data.copy(), NUMBER_OF_PRAISE_REWARD_TOKENS_TO_DISTRIBUTE)\n",
    "praise_distribution.style\n"
   ]
  },
  {
   "cell_type": "markdown",
   "id": "productive-trash",
   "metadata": {
    "papermill": {
     "duration": 0.010071,
     "end_time": "2023-02-06T21:31:30.203647",
     "exception": false,
     "start_time": "2023-02-06T21:31:30.193576",
     "status": "completed"
    },
    "tags": []
   },
   "source": [
    "### SourceCred\n",
    "For now Sourcecred does the distribution independently, but if this changed we would calculate the rewards in the same way."
   ]
  },
  {
   "cell_type": "markdown",
   "id": "tamil-boutique",
   "metadata": {
    "papermill": {
     "duration": 0.010187,
     "end_time": "2023-02-06T21:31:30.223912",
     "exception": false,
     "start_time": "2023-02-06T21:31:30.213725",
     "status": "completed"
    },
    "tags": []
   },
   "source": [
    "## Preparing and combining the Datasets\n",
    "\n",
    "Now that we have both distributions, we can combine them into one table.\n",
    "But before that, we need to prepare the data and clean it a bit. We also use the chance to generate a table which shows us how much praise each user received. We'll use it later in our analysis."
   ]
  },
  {
   "cell_type": "code",
   "execution_count": 7,
   "id": "molecular-indonesia",
   "metadata": {
    "execution": {
     "iopub.execute_input": "2023-02-06T21:31:30.245825Z",
     "iopub.status.busy": "2023-02-06T21:31:30.245710Z",
     "iopub.status.idle": "2023-02-06T21:31:30.258606Z",
     "shell.execute_reply": "2023-02-06T21:31:30.258128Z"
    },
    "jupyter": {
     "source_hidden": true
    },
    "papermill": {
     "duration": 0.025128,
     "end_time": "2023-02-06T21:31:30.259593",
     "exception": false,
     "start_time": "2023-02-06T21:31:30.234465",
     "status": "completed"
    },
    "scrolled": true,
    "tags": []
   },
   "outputs": [
    {
     "data": {
      "text/html": [
       "<style type=\"text/css\">\n",
       "</style>\n",
       "<table id=\"T_1a418_\">\n",
       "  <thead>\n",
       "    <tr>\n",
       "      <th class=\"blank level0\" >&nbsp;</th>\n",
       "      <th class=\"col_heading level0 col0\" >USER IDENTITY</th>\n",
       "      <th class=\"col_heading level0 col1\" >USER ADDRESS</th>\n",
       "      <th class=\"col_heading level0 col2\" >PERCENTAGE</th>\n",
       "      <th class=\"col_heading level0 col3\" >TOKEN TO RECEIVE</th>\n",
       "    </tr>\n",
       "  </thead>\n",
       "  <tbody>\n",
       "    <tr>\n",
       "      <th id=\"T_1a418_level0_row0\" class=\"row_heading level0 row0\" >0</th>\n",
       "      <td id=\"T_1a418_row0_col0\" class=\"data row0 col0\" >acidlazzer#5796</td>\n",
       "      <td id=\"T_1a418_row0_col1\" class=\"data row0 col1\" >0x8aA27E90E139d5AB5704df69429341cbCb2d2464</td>\n",
       "      <td id=\"T_1a418_row0_col2\" class=\"data row0 col2\" >0.119487</td>\n",
       "      <td id=\"T_1a418_row0_col3\" class=\"data row0 col3\" >2.869850</td>\n",
       "    </tr>\n",
       "    <tr>\n",
       "      <th id=\"T_1a418_level0_row1\" class=\"row_heading level0 row1\" >1</th>\n",
       "      <td id=\"T_1a418_row1_col0\" class=\"data row1 col0\" >r-x-x#8344</td>\n",
       "      <td id=\"T_1a418_row1_col1\" class=\"data row1 col1\" >0x1409a9ef3450D5d50aAd004f417436e772FbF8fC</td>\n",
       "      <td id=\"T_1a418_row1_col2\" class=\"data row1 col2\" >0.102107</td>\n",
       "      <td id=\"T_1a418_row1_col3\" class=\"data row1 col3\" >2.452417</td>\n",
       "    </tr>\n",
       "    <tr>\n",
       "      <th id=\"T_1a418_level0_row2\" class=\"row_heading level0 row2\" >2</th>\n",
       "      <td id=\"T_1a418_row2_col0\" class=\"data row2 col0\" >r-x-x#8344</td>\n",
       "      <td id=\"T_1a418_row2_col1\" class=\"data row2 col1\" >0x1409a9ef3450D5d50aAd004f417436e772FbF8fC</td>\n",
       "      <td id=\"T_1a418_row2_col2\" class=\"data row2 col2\" >0.341082</td>\n",
       "      <td id=\"T_1a418_row2_col3\" class=\"data row2 col3\" >8.192118</td>\n",
       "    </tr>\n",
       "    <tr>\n",
       "      <th id=\"T_1a418_level0_row3\" class=\"row_heading level0 row3\" >3</th>\n",
       "      <td id=\"T_1a418_row3_col0\" class=\"data row3 col0\" >acidlazzer#5796</td>\n",
       "      <td id=\"T_1a418_row3_col1\" class=\"data row3 col1\" >0x8aA27E90E139d5AB5704df69429341cbCb2d2464</td>\n",
       "      <td id=\"T_1a418_row3_col2\" class=\"data row3 col2\" >0.053878</td>\n",
       "      <td id=\"T_1a418_row3_col3\" class=\"data row3 col3\" >1.294042</td>\n",
       "    </tr>\n",
       "    <tr>\n",
       "      <th id=\"T_1a418_level0_row4\" class=\"row_heading level0 row4\" >4</th>\n",
       "      <td id=\"T_1a418_row4_col0\" class=\"data row4 col0\" >enti#1546</td>\n",
       "      <td id=\"T_1a418_row4_col1\" class=\"data row4 col1\" >0x6897aBe0fD62B589260784B21F4ca3F78A0D8017</td>\n",
       "      <td id=\"T_1a418_row4_col2\" class=\"data row4 col2\" >0.096676</td>\n",
       "      <td id=\"T_1a418_row4_col3\" class=\"data row4 col3\" >2.321970</td>\n",
       "    </tr>\n",
       "    <tr>\n",
       "      <th id=\"T_1a418_level0_row5\" class=\"row_heading level0 row5\" >5</th>\n",
       "      <td id=\"T_1a418_row5_col0\" class=\"data row5 col0\" >Marathonmind#3078</td>\n",
       "      <td id=\"T_1a418_row5_col1\" class=\"data row5 col1\" >0x721bA19c32051Fd8e851a74958C52936516c7fDC</td>\n",
       "      <td id=\"T_1a418_row5_col2\" class=\"data row5 col2\" >0.065175</td>\n",
       "      <td id=\"T_1a418_row5_col3\" class=\"data row5 col3\" >1.565373</td>\n",
       "    </tr>\n",
       "    <tr>\n",
       "      <th id=\"T_1a418_level0_row6\" class=\"row_heading level0 row6\" >6</th>\n",
       "      <td id=\"T_1a418_row6_col0\" class=\"data row6 col0\" >BiancaGadelha#2667</td>\n",
       "      <td id=\"T_1a418_row6_col1\" class=\"data row6 col1\" >0x1375847014BA64517210cBFE185808232Cf45d4a</td>\n",
       "      <td id=\"T_1a418_row6_col2\" class=\"data row6 col2\" >0.073865</td>\n",
       "      <td id=\"T_1a418_row6_col3\" class=\"data row6 col3\" >1.774089</td>\n",
       "    </tr>\n",
       "    <tr>\n",
       "      <th id=\"T_1a418_level0_row7\" class=\"row_heading level0 row7\" >7</th>\n",
       "      <td id=\"T_1a418_row7_col0\" class=\"data row7 col0\" >GideonRo#3175</td>\n",
       "      <td id=\"T_1a418_row7_col1\" class=\"data row7 col1\" >0xB08F0ca73E8A59a1b7970e22B8ed2F9142c3fA53</td>\n",
       "      <td id=\"T_1a418_row7_col2\" class=\"data row7 col2\" >0.073865</td>\n",
       "      <td id=\"T_1a418_row7_col3\" class=\"data row7 col3\" >1.774089</td>\n",
       "    </tr>\n",
       "    <tr>\n",
       "      <th id=\"T_1a418_level0_row8\" class=\"row_heading level0 row8\" >8</th>\n",
       "      <td id=\"T_1a418_row8_col0\" class=\"data row8 col0\" >natesuits#4789</td>\n",
       "      <td id=\"T_1a418_row8_col1\" class=\"data row8 col1\" >0x66dF5A7715C5D4AfbBFA52435c66aa20733be0d1</td>\n",
       "      <td id=\"T_1a418_row8_col2\" class=\"data row8 col2\" >0.073865</td>\n",
       "      <td id=\"T_1a418_row8_col3\" class=\"data row8 col3\" >1.774089</td>\n",
       "    </tr>\n",
       "  </tbody>\n",
       "</table>\n"
      ],
      "text/plain": [
       "<pandas.io.formats.style.Styler at 0x7f8d5b67e640>"
      ]
     },
     "execution_count": 7,
     "metadata": {},
     "output_type": "execute_result"
    }
   ],
   "source": [
    "\n",
    "#General Helper func. Puts all the \"processing we probably won't need to do later or do differently\" in one place\n",
    "#  -removes the '#' and following from discord names\n",
    "#  -Some renaming and dropping \n",
    "def prepare_praise(praise_data):\n",
    "\n",
    "    praise_data.rename(columns = {'TO USER ACCOUNT':'USER IDENTITY'}, inplace = True)\n",
    "    praise_data.rename(columns = {'TO ETH ADDRESS':'USER ADDRESS'}, inplace = True)\n",
    "    praise_data['USER ADDRESS'].fillna('MISSING USER ADDRESS', inplace=True)\n",
    "    \n",
    "    processed_praise = praise_data[['USER IDENTITY', 'USER ADDRESS', 'PERCENTAGE', 'TOKEN TO RECEIVE']]\n",
    "    praise_by_user = praise_data[['USER IDENTITY', 'USER ADDRESS', 'AVG SCORE', 'PERCENTAGE', 'TOKEN TO RECEIVE']].copy().groupby(['USER IDENTITY', 'USER ADDRESS']).agg('sum').reset_index()\n",
    "    \n",
    "    return processed_praise, praise_by_user\n",
    "\n",
    "\n",
    "processed_praise, praise_by_user = prepare_praise(praise_distribution.copy())\n",
    "processed_praise.style\n"
   ]
  },
  {
   "cell_type": "markdown",
   "id": "unknown-crime",
   "metadata": {
    "papermill": {
     "duration": 0.01041,
     "end_time": "2023-02-06T21:31:30.280643",
     "exception": false,
     "start_time": "2023-02-06T21:31:30.270233",
     "status": "completed"
    },
    "tags": []
   },
   "source": [
    "Let's also create a table which will let us focus on the quantifiers. It will show us what value each quantifier gave to each single praise item."
   ]
  },
  {
   "cell_type": "code",
   "execution_count": 8,
   "id": "statistical-premiere",
   "metadata": {
    "execution": {
     "iopub.execute_input": "2023-02-06T21:31:30.301090Z",
     "iopub.status.busy": "2023-02-06T21:31:30.301007Z",
     "iopub.status.idle": "2023-02-06T21:31:30.315696Z",
     "shell.execute_reply": "2023-02-06T21:31:30.315444Z"
    },
    "jupyter": {
     "source_hidden": true
    },
    "papermill": {
     "duration": 0.026159,
     "end_time": "2023-02-06T21:31:30.316711",
     "exception": false,
     "start_time": "2023-02-06T21:31:30.290552",
     "status": "completed"
    },
    "tags": []
   },
   "outputs": [
    {
     "data": {
      "text/html": [
       "<style type=\"text/css\">\n",
       "</style>\n",
       "<table id=\"T_511b7_\">\n",
       "  <thead>\n",
       "    <tr>\n",
       "      <th class=\"blank level0\" >&nbsp;</th>\n",
       "      <th class=\"col_heading level0 col0\" >QUANT_ID</th>\n",
       "      <th class=\"col_heading level0 col1\" >QUANT_ADDRESS</th>\n",
       "      <th class=\"col_heading level0 col2\" >PRAISE_ID</th>\n",
       "      <th class=\"col_heading level0 col3\" >QUANT_VALUE</th>\n",
       "    </tr>\n",
       "  </thead>\n",
       "  <tbody>\n",
       "    <tr>\n",
       "      <th id=\"T_511b7_level0_row0\" class=\"row_heading level0 row0\" >0</th>\n",
       "      <td id=\"T_511b7_row0_col0\" class=\"data row0 col0\" >EFRA#7972</td>\n",
       "      <td id=\"T_511b7_row0_col1\" class=\"data row0 col1\" >0x438cDDcc8E6f0E0E18CE33F6b5a8fFCFAb5A999c</td>\n",
       "      <td id=\"T_511b7_row0_col2\" class=\"data row0 col2\" >63c599324287630828df07e7</td>\n",
       "      <td id=\"T_511b7_row0_col3\" class=\"data row0 col3\" >13</td>\n",
       "    </tr>\n",
       "    <tr>\n",
       "      <th id=\"T_511b7_level0_row1\" class=\"row_heading level0 row1\" >1</th>\n",
       "      <td id=\"T_511b7_row1_col0\" class=\"data row1 col0\" >EFRA#7972</td>\n",
       "      <td id=\"T_511b7_row1_col1\" class=\"data row1 col1\" >0x438cDDcc8E6f0E0E18CE33F6b5a8fFCFAb5A999c</td>\n",
       "      <td id=\"T_511b7_row1_col2\" class=\"data row1 col2\" >63c5aae54287630828df07f6</td>\n",
       "      <td id=\"T_511b7_row1_col3\" class=\"data row1 col3\" >13</td>\n",
       "    </tr>\n",
       "    <tr>\n",
       "      <th id=\"T_511b7_level0_row2\" class=\"row_heading level0 row2\" >2</th>\n",
       "      <td id=\"T_511b7_row2_col0\" class=\"data row2 col0\" >EFRA#7972</td>\n",
       "      <td id=\"T_511b7_row2_col1\" class=\"data row2 col1\" >0x438cDDcc8E6f0E0E18CE33F6b5a8fFCFAb5A999c</td>\n",
       "      <td id=\"T_511b7_row2_col2\" class=\"data row2 col2\" >63c5ad904287630828df0805</td>\n",
       "      <td id=\"T_511b7_row2_col3\" class=\"data row2 col3\" >13</td>\n",
       "    </tr>\n",
       "    <tr>\n",
       "      <th id=\"T_511b7_level0_row3\" class=\"row_heading level0 row3\" >3</th>\n",
       "      <td id=\"T_511b7_row3_col0\" class=\"data row3 col0\" >EFRA#7972</td>\n",
       "      <td id=\"T_511b7_row3_col1\" class=\"data row3 col1\" >0x438cDDcc8E6f0E0E18CE33F6b5a8fFCFAb5A999c</td>\n",
       "      <td id=\"T_511b7_row3_col2\" class=\"data row3 col2\" >63c5b0144287630828df0814</td>\n",
       "      <td id=\"T_511b7_row3_col3\" class=\"data row3 col3\" >8</td>\n",
       "    </tr>\n",
       "    <tr>\n",
       "      <th id=\"T_511b7_level0_row4\" class=\"row_heading level0 row4\" >4</th>\n",
       "      <td id=\"T_511b7_row4_col0\" class=\"data row4 col0\" >EFRA#7972</td>\n",
       "      <td id=\"T_511b7_row4_col1\" class=\"data row4 col1\" >0x438cDDcc8E6f0E0E18CE33F6b5a8fFCFAb5A999c</td>\n",
       "      <td id=\"T_511b7_row4_col2\" class=\"data row4 col2\" >63c5b0664287630828df0823</td>\n",
       "      <td id=\"T_511b7_row4_col3\" class=\"data row4 col3\" >21</td>\n",
       "    </tr>\n",
       "    <tr>\n",
       "      <th id=\"T_511b7_level0_row5\" class=\"row_heading level0 row5\" >5</th>\n",
       "      <td id=\"T_511b7_row5_col0\" class=\"data row5 col0\" >EFRA#7972</td>\n",
       "      <td id=\"T_511b7_row5_col1\" class=\"data row5 col1\" >0x438cDDcc8E6f0E0E18CE33F6b5a8fFCFAb5A999c</td>\n",
       "      <td id=\"T_511b7_row5_col2\" class=\"data row5 col2\" >63cf764c86f591dd748e04a9</td>\n",
       "      <td id=\"T_511b7_row5_col3\" class=\"data row5 col3\" >13</td>\n",
       "    </tr>\n",
       "    <tr>\n",
       "      <th id=\"T_511b7_level0_row6\" class=\"row_heading level0 row6\" >6</th>\n",
       "      <td id=\"T_511b7_row6_col0\" class=\"data row6 col0\" >EFRA#7972</td>\n",
       "      <td id=\"T_511b7_row6_col1\" class=\"data row6 col1\" >0x438cDDcc8E6f0E0E18CE33F6b5a8fFCFAb5A999c</td>\n",
       "      <td id=\"T_511b7_row6_col2\" class=\"data row6 col2\" >63d3977586f591dd748e04b8</td>\n",
       "      <td id=\"T_511b7_row6_col3\" class=\"data row6 col3\" >34</td>\n",
       "    </tr>\n",
       "    <tr>\n",
       "      <th id=\"T_511b7_level0_row7\" class=\"row_heading level0 row7\" >7</th>\n",
       "      <td id=\"T_511b7_row7_col0\" class=\"data row7 col0\" >EFRA#7972</td>\n",
       "      <td id=\"T_511b7_row7_col1\" class=\"data row7 col1\" >0x438cDDcc8E6f0E0E18CE33F6b5a8fFCFAb5A999c</td>\n",
       "      <td id=\"T_511b7_row7_col2\" class=\"data row7 col2\" >63d63df986f591dd748e04c7</td>\n",
       "      <td id=\"T_511b7_row7_col3\" class=\"data row7 col3\" >13</td>\n",
       "    </tr>\n",
       "    <tr>\n",
       "      <th id=\"T_511b7_level0_row8\" class=\"row_heading level0 row8\" >8</th>\n",
       "      <td id=\"T_511b7_row8_col0\" class=\"data row8 col0\" >EFRA#7972</td>\n",
       "      <td id=\"T_511b7_row8_col1\" class=\"data row8 col1\" >0x438cDDcc8E6f0E0E18CE33F6b5a8fFCFAb5A999c</td>\n",
       "      <td id=\"T_511b7_row8_col2\" class=\"data row8 col2\" >63d63dfa86f591dd748e04ce</td>\n",
       "      <td id=\"T_511b7_row8_col3\" class=\"data row8 col3\" >13</td>\n",
       "    </tr>\n",
       "    <tr>\n",
       "      <th id=\"T_511b7_level0_row9\" class=\"row_heading level0 row9\" >9</th>\n",
       "      <td id=\"T_511b7_row9_col0\" class=\"data row9 col0\" >Maxwe11#7157</td>\n",
       "      <td id=\"T_511b7_row9_col1\" class=\"data row9 col1\" >0x3F20a6fE04b3A4b37bBBBea826ae23be56Baed74</td>\n",
       "      <td id=\"T_511b7_row9_col2\" class=\"data row9 col2\" >63c599324287630828df07e7</td>\n",
       "      <td id=\"T_511b7_row9_col3\" class=\"data row9 col3\" >21</td>\n",
       "    </tr>\n",
       "    <tr>\n",
       "      <th id=\"T_511b7_level0_row10\" class=\"row_heading level0 row10\" >10</th>\n",
       "      <td id=\"T_511b7_row10_col0\" class=\"data row10 col0\" >Maxwe11#7157</td>\n",
       "      <td id=\"T_511b7_row10_col1\" class=\"data row10 col1\" >0x3F20a6fE04b3A4b37bBBBea826ae23be56Baed74</td>\n",
       "      <td id=\"T_511b7_row10_col2\" class=\"data row10 col2\" >63c5aae54287630828df07f6</td>\n",
       "      <td id=\"T_511b7_row10_col3\" class=\"data row10 col3\" >13</td>\n",
       "    </tr>\n",
       "    <tr>\n",
       "      <th id=\"T_511b7_level0_row11\" class=\"row_heading level0 row11\" >11</th>\n",
       "      <td id=\"T_511b7_row11_col0\" class=\"data row11 col0\" >Maxwe11#7157</td>\n",
       "      <td id=\"T_511b7_row11_col1\" class=\"data row11 col1\" >0x3F20a6fE04b3A4b37bBBBea826ae23be56Baed74</td>\n",
       "      <td id=\"T_511b7_row11_col2\" class=\"data row11 col2\" >63c5ad904287630828df0805</td>\n",
       "      <td id=\"T_511b7_row11_col3\" class=\"data row11 col3\" >144</td>\n",
       "    </tr>\n",
       "    <tr>\n",
       "      <th id=\"T_511b7_level0_row12\" class=\"row_heading level0 row12\" >12</th>\n",
       "      <td id=\"T_511b7_row12_col0\" class=\"data row12 col0\" >Maxwe11#7157</td>\n",
       "      <td id=\"T_511b7_row12_col1\" class=\"data row12 col1\" >0x3F20a6fE04b3A4b37bBBBea826ae23be56Baed74</td>\n",
       "      <td id=\"T_511b7_row12_col2\" class=\"data row12 col2\" >63c5b0664287630828df0823</td>\n",
       "      <td id=\"T_511b7_row12_col3\" class=\"data row12 col3\" >21</td>\n",
       "    </tr>\n",
       "    <tr>\n",
       "      <th id=\"T_511b7_level0_row13\" class=\"row_heading level0 row13\" >13</th>\n",
       "      <td id=\"T_511b7_row13_col0\" class=\"data row13 col0\" >Maxwe11#7157</td>\n",
       "      <td id=\"T_511b7_row13_col1\" class=\"data row13 col1\" >0x3F20a6fE04b3A4b37bBBBea826ae23be56Baed74</td>\n",
       "      <td id=\"T_511b7_row13_col2\" class=\"data row13 col2\" >63cf764c86f591dd748e04a9</td>\n",
       "      <td id=\"T_511b7_row13_col3\" class=\"data row13 col3\" >13</td>\n",
       "    </tr>\n",
       "    <tr>\n",
       "      <th id=\"T_511b7_level0_row14\" class=\"row_heading level0 row14\" >14</th>\n",
       "      <td id=\"T_511b7_row14_col0\" class=\"data row14 col0\" >Maxwe11#7157</td>\n",
       "      <td id=\"T_511b7_row14_col1\" class=\"data row14 col1\" >0x3F20a6fE04b3A4b37bBBBea826ae23be56Baed74</td>\n",
       "      <td id=\"T_511b7_row14_col2\" class=\"data row14 col2\" >63d3977586f591dd748e04b8</td>\n",
       "      <td id=\"T_511b7_row14_col3\" class=\"data row14 col3\" >13</td>\n",
       "    </tr>\n",
       "    <tr>\n",
       "      <th id=\"T_511b7_level0_row15\" class=\"row_heading level0 row15\" >15</th>\n",
       "      <td id=\"T_511b7_row15_col0\" class=\"data row15 col0\" >Maxwe11#7157</td>\n",
       "      <td id=\"T_511b7_row15_col1\" class=\"data row15 col1\" >0x3F20a6fE04b3A4b37bBBBea826ae23be56Baed74</td>\n",
       "      <td id=\"T_511b7_row15_col2\" class=\"data row15 col2\" >63d63df986f591dd748e04c7</td>\n",
       "      <td id=\"T_511b7_row15_col3\" class=\"data row15 col3\" >13</td>\n",
       "    </tr>\n",
       "    <tr>\n",
       "      <th id=\"T_511b7_level0_row16\" class=\"row_heading level0 row16\" >16</th>\n",
       "      <td id=\"T_511b7_row16_col0\" class=\"data row16 col0\" >Maxwe11#7157</td>\n",
       "      <td id=\"T_511b7_row16_col1\" class=\"data row16 col1\" >0x3F20a6fE04b3A4b37bBBBea826ae23be56Baed74</td>\n",
       "      <td id=\"T_511b7_row16_col2\" class=\"data row16 col2\" >63d63dfa86f591dd748e04ce</td>\n",
       "      <td id=\"T_511b7_row16_col3\" class=\"data row16 col3\" >13</td>\n",
       "    </tr>\n",
       "    <tr>\n",
       "      <th id=\"T_511b7_level0_row17\" class=\"row_heading level0 row17\" >17</th>\n",
       "      <td id=\"T_511b7_row17_col0\" class=\"data row17 col0\" >divine_comedian#5493</td>\n",
       "      <td id=\"T_511b7_row17_col1\" class=\"data row17 col1\" >0x320c338BCF70bAAaE26e96201C33B48105Bc62C2</td>\n",
       "      <td id=\"T_511b7_row17_col2\" class=\"data row17 col2\" >63c599324287630828df07e7</td>\n",
       "      <td id=\"T_511b7_row17_col3\" class=\"data row17 col3\" >55</td>\n",
       "    </tr>\n",
       "    <tr>\n",
       "      <th id=\"T_511b7_level0_row18\" class=\"row_heading level0 row18\" >18</th>\n",
       "      <td id=\"T_511b7_row18_col0\" class=\"data row18 col0\" >divine_comedian#5493</td>\n",
       "      <td id=\"T_511b7_row18_col1\" class=\"data row18 col1\" >0x320c338BCF70bAAaE26e96201C33B48105Bc62C2</td>\n",
       "      <td id=\"T_511b7_row18_col2\" class=\"data row18 col2\" >63c5aae54287630828df07f6</td>\n",
       "      <td id=\"T_511b7_row18_col3\" class=\"data row18 col3\" >55</td>\n",
       "    </tr>\n",
       "    <tr>\n",
       "      <th id=\"T_511b7_level0_row19\" class=\"row_heading level0 row19\" >19</th>\n",
       "      <td id=\"T_511b7_row19_col0\" class=\"data row19 col0\" >divine_comedian#5493</td>\n",
       "      <td id=\"T_511b7_row19_col1\" class=\"data row19 col1\" >0x320c338BCF70bAAaE26e96201C33B48105Bc62C2</td>\n",
       "      <td id=\"T_511b7_row19_col2\" class=\"data row19 col2\" >63c5ad904287630828df0805</td>\n",
       "      <td id=\"T_511b7_row19_col3\" class=\"data row19 col3\" >144</td>\n",
       "    </tr>\n",
       "    <tr>\n",
       "      <th id=\"T_511b7_level0_row20\" class=\"row_heading level0 row20\" >20</th>\n",
       "      <td id=\"T_511b7_row20_col0\" class=\"data row20 col0\" >divine_comedian#5493</td>\n",
       "      <td id=\"T_511b7_row20_col1\" class=\"data row20 col1\" >0x320c338BCF70bAAaE26e96201C33B48105Bc62C2</td>\n",
       "      <td id=\"T_511b7_row20_col2\" class=\"data row20 col2\" >63c5b0664287630828df0823</td>\n",
       "      <td id=\"T_511b7_row20_col3\" class=\"data row20 col3\" >34</td>\n",
       "    </tr>\n",
       "    <tr>\n",
       "      <th id=\"T_511b7_level0_row21\" class=\"row_heading level0 row21\" >21</th>\n",
       "      <td id=\"T_511b7_row21_col0\" class=\"data row21 col0\" >divine_comedian#5493</td>\n",
       "      <td id=\"T_511b7_row21_col1\" class=\"data row21 col1\" >0x320c338BCF70bAAaE26e96201C33B48105Bc62C2</td>\n",
       "      <td id=\"T_511b7_row21_col2\" class=\"data row21 col2\" >63cf764c86f591dd748e04a9</td>\n",
       "      <td id=\"T_511b7_row21_col3\" class=\"data row21 col3\" >21</td>\n",
       "    </tr>\n",
       "    <tr>\n",
       "      <th id=\"T_511b7_level0_row22\" class=\"row_heading level0 row22\" >22</th>\n",
       "      <td id=\"T_511b7_row22_col0\" class=\"data row22 col0\" >divine_comedian#5493</td>\n",
       "      <td id=\"T_511b7_row22_col1\" class=\"data row22 col1\" >0x320c338BCF70bAAaE26e96201C33B48105Bc62C2</td>\n",
       "      <td id=\"T_511b7_row22_col2\" class=\"data row22 col2\" >63d3977586f591dd748e04b8</td>\n",
       "      <td id=\"T_511b7_row22_col3\" class=\"data row22 col3\" >13</td>\n",
       "    </tr>\n",
       "    <tr>\n",
       "      <th id=\"T_511b7_level0_row23\" class=\"row_heading level0 row23\" >23</th>\n",
       "      <td id=\"T_511b7_row23_col0\" class=\"data row23 col0\" >divine_comedian#5493</td>\n",
       "      <td id=\"T_511b7_row23_col1\" class=\"data row23 col1\" >0x320c338BCF70bAAaE26e96201C33B48105Bc62C2</td>\n",
       "      <td id=\"T_511b7_row23_col2\" class=\"data row23 col2\" >63d63df986f591dd748e04c7</td>\n",
       "      <td id=\"T_511b7_row23_col3\" class=\"data row23 col3\" >34</td>\n",
       "    </tr>\n",
       "    <tr>\n",
       "      <th id=\"T_511b7_level0_row24\" class=\"row_heading level0 row24\" >24</th>\n",
       "      <td id=\"T_511b7_row24_col0\" class=\"data row24 col0\" >divine_comedian#5493</td>\n",
       "      <td id=\"T_511b7_row24_col1\" class=\"data row24 col1\" >0x320c338BCF70bAAaE26e96201C33B48105Bc62C2</td>\n",
       "      <td id=\"T_511b7_row24_col2\" class=\"data row24 col2\" >63d63dfa86f591dd748e04ce</td>\n",
       "      <td id=\"T_511b7_row24_col3\" class=\"data row24 col3\" >34</td>\n",
       "    </tr>\n",
       "    <tr>\n",
       "      <th id=\"T_511b7_level0_row25\" class=\"row_heading level0 row25\" >25</th>\n",
       "      <td id=\"T_511b7_row25_col0\" class=\"data row25 col0\" >miguelb#5176</td>\n",
       "      <td id=\"T_511b7_row25_col1\" class=\"data row25 col1\" >0x7311b7bf2f004b8070efAf4A130348EEB18EF369</td>\n",
       "      <td id=\"T_511b7_row25_col2\" class=\"data row25 col2\" >63c599324287630828df07e7</td>\n",
       "      <td id=\"T_511b7_row25_col3\" class=\"data row25 col3\" >21</td>\n",
       "    </tr>\n",
       "    <tr>\n",
       "      <th id=\"T_511b7_level0_row26\" class=\"row_heading level0 row26\" >26</th>\n",
       "      <td id=\"T_511b7_row26_col0\" class=\"data row26 col0\" >miguelb#5176</td>\n",
       "      <td id=\"T_511b7_row26_col1\" class=\"data row26 col1\" >0x7311b7bf2f004b8070efAf4A130348EEB18EF369</td>\n",
       "      <td id=\"T_511b7_row26_col2\" class=\"data row26 col2\" >63c5aae54287630828df07f6</td>\n",
       "      <td id=\"T_511b7_row26_col3\" class=\"data row26 col3\" >13</td>\n",
       "    </tr>\n",
       "    <tr>\n",
       "      <th id=\"T_511b7_level0_row27\" class=\"row_heading level0 row27\" >27</th>\n",
       "      <td id=\"T_511b7_row27_col0\" class=\"data row27 col0\" >miguelb#5176</td>\n",
       "      <td id=\"T_511b7_row27_col1\" class=\"data row27 col1\" >0x7311b7bf2f004b8070efAf4A130348EEB18EF369</td>\n",
       "      <td id=\"T_511b7_row27_col2\" class=\"data row27 col2\" >63c5ad904287630828df0805</td>\n",
       "      <td id=\"T_511b7_row27_col3\" class=\"data row27 col3\" >13</td>\n",
       "    </tr>\n",
       "    <tr>\n",
       "      <th id=\"T_511b7_level0_row28\" class=\"row_heading level0 row28\" >28</th>\n",
       "      <td id=\"T_511b7_row28_col0\" class=\"data row28 col0\" >miguelb#5176</td>\n",
       "      <td id=\"T_511b7_row28_col1\" class=\"data row28 col1\" >0x7311b7bf2f004b8070efAf4A130348EEB18EF369</td>\n",
       "      <td id=\"T_511b7_row28_col2\" class=\"data row28 col2\" >63c5b0144287630828df0814</td>\n",
       "      <td id=\"T_511b7_row28_col3\" class=\"data row28 col3\" >34</td>\n",
       "    </tr>\n",
       "    <tr>\n",
       "      <th id=\"T_511b7_level0_row29\" class=\"row_heading level0 row29\" >29</th>\n",
       "      <td id=\"T_511b7_row29_col0\" class=\"data row29 col0\" >miguelb#5176</td>\n",
       "      <td id=\"T_511b7_row29_col1\" class=\"data row29 col1\" >0x7311b7bf2f004b8070efAf4A130348EEB18EF369</td>\n",
       "      <td id=\"T_511b7_row29_col2\" class=\"data row29 col2\" >63c5b0664287630828df0823</td>\n",
       "      <td id=\"T_511b7_row29_col3\" class=\"data row29 col3\" >13</td>\n",
       "    </tr>\n",
       "    <tr>\n",
       "      <th id=\"T_511b7_level0_row30\" class=\"row_heading level0 row30\" >30</th>\n",
       "      <td id=\"T_511b7_row30_col0\" class=\"data row30 col0\" >miguelb#5176</td>\n",
       "      <td id=\"T_511b7_row30_col1\" class=\"data row30 col1\" >0x7311b7bf2f004b8070efAf4A130348EEB18EF369</td>\n",
       "      <td id=\"T_511b7_row30_col2\" class=\"data row30 col2\" >63cf764c86f591dd748e04a9</td>\n",
       "      <td id=\"T_511b7_row30_col3\" class=\"data row30 col3\" >13</td>\n",
       "    </tr>\n",
       "    <tr>\n",
       "      <th id=\"T_511b7_level0_row31\" class=\"row_heading level0 row31\" >31</th>\n",
       "      <td id=\"T_511b7_row31_col0\" class=\"data row31 col0\" >miguelb#5176</td>\n",
       "      <td id=\"T_511b7_row31_col1\" class=\"data row31 col1\" >0x7311b7bf2f004b8070efAf4A130348EEB18EF369</td>\n",
       "      <td id=\"T_511b7_row31_col2\" class=\"data row31 col2\" >63d3977586f591dd748e04b8</td>\n",
       "      <td id=\"T_511b7_row31_col3\" class=\"data row31 col3\" >8</td>\n",
       "    </tr>\n",
       "    <tr>\n",
       "      <th id=\"T_511b7_level0_row32\" class=\"row_heading level0 row32\" >32</th>\n",
       "      <td id=\"T_511b7_row32_col0\" class=\"data row32 col0\" >miguelb#5176</td>\n",
       "      <td id=\"T_511b7_row32_col1\" class=\"data row32 col1\" >0x7311b7bf2f004b8070efAf4A130348EEB18EF369</td>\n",
       "      <td id=\"T_511b7_row32_col2\" class=\"data row32 col2\" >63d63df986f591dd748e04c7</td>\n",
       "      <td id=\"T_511b7_row32_col3\" class=\"data row32 col3\" >8</td>\n",
       "    </tr>\n",
       "    <tr>\n",
       "      <th id=\"T_511b7_level0_row33\" class=\"row_heading level0 row33\" >33</th>\n",
       "      <td id=\"T_511b7_row33_col0\" class=\"data row33 col0\" >miguelb#5176</td>\n",
       "      <td id=\"T_511b7_row33_col1\" class=\"data row33 col1\" >0x7311b7bf2f004b8070efAf4A130348EEB18EF369</td>\n",
       "      <td id=\"T_511b7_row33_col2\" class=\"data row33 col2\" >63d63dfa86f591dd748e04ce</td>\n",
       "      <td id=\"T_511b7_row33_col3\" class=\"data row33 col3\" >8</td>\n",
       "    </tr>\n",
       "  </tbody>\n",
       "</table>\n"
      ],
      "text/plain": [
       "<pandas.io.formats.style.Styler at 0x7f8d7c324760>"
      ]
     },
     "execution_count": 8,
     "metadata": {},
     "output_type": "execute_result"
    }
   ],
   "source": [
    "\n",
    "def data_by_quantifier(praise_data):\n",
    "    quant_only = pd.DataFrame()\n",
    "    #praise_data.drop(['DATE', 'TO USER ACCOUNT', 'TO USER ACCOUNT ID', 'TO ETH ADDRESS', 'FROM USER ACCOUNT', 'FROM USER ACCOUNT ID', 'FROM ETH ADDRESS', 'REASON', 'SOURCE ID', 'SOURCE NAME', 'AVG SCORE'], axis=1, inplace=True)\n",
    "    num_of_quants = NUMBER_OF_QUANTIFIERS_PER_PRAISE\n",
    "    for i in range(num_of_quants):\n",
    "        q_name =  str( 'QUANTIFIER '+ str(i+1) +' USERNAME' )\n",
    "        q_addr =  str( 'QUANTIFIER '+ str(i+1) +' ETH ADDRESS')\n",
    "        q_value = str('SCORE '+str(i+1) )\n",
    "        q_duplicate = str('DUPLICATE ID '+str(i+1) )\n",
    "        \n",
    "        buf = praise_data[['ID', q_name , q_addr, q_value, q_duplicate]].copy()\n",
    "\n",
    "        #delete the duplicated rows\n",
    "        buf = buf.loc[buf[q_duplicate].isnull()] # only include the non-duplicated rows\n",
    "        buf = buf[['ID', q_name , q_addr, q_value]] # don't need the duplication info anymore\n",
    "        \n",
    "    \n",
    "        buf.rename(columns={q_name: 'QUANT_ID', q_addr: 'QUANT_ADDRESS', q_value: 'QUANT_VALUE', 'ID':'PRAISE_ID'}, inplace=True)\n",
    "\n",
    "        quant_only = quant_only.append(buf.copy(), ignore_index=True)\n",
    "\n",
    "    columnsTitles = ['QUANT_ID', 'QUANT_ADDRESS', 'PRAISE_ID', 'QUANT_VALUE']\n",
    "    quant_only.sort_values(['QUANT_ID', 'PRAISE_ID'], inplace=True)\n",
    "    quant_only =  quant_only.reindex(columns=columnsTitles).reset_index(drop=True)\n",
    "    return quant_only\n",
    "\n",
    "quantifier_rating_table = data_by_quantifier(praise_data.copy())\n",
    "quantifier_rating_table.style\n"
   ]
  },
  {
   "cell_type": "markdown",
   "id": "ae83cc4d",
   "metadata": {
    "papermill": {
     "duration": 0.010431,
     "end_time": "2023-02-06T21:31:30.337981",
     "exception": false,
     "start_time": "2023-02-06T21:31:30.327550",
     "status": "completed"
    },
    "tags": []
   },
   "source": [
    "Now, we will calculate the rewards for the Quantifiers and the Reward Board. This is fairly straightforward: we distribute the tokens allocated for quantification proportionally to the number of praises quantified, and give all rewardboard members an equal cut.\n"
   ]
  },
  {
   "cell_type": "markdown",
   "id": "5bfff6d3",
   "metadata": {
    "papermill": {
     "duration": 0.010401,
     "end_time": "2023-02-06T21:31:30.358808",
     "exception": false,
     "start_time": "2023-02-06T21:31:30.348407",
     "status": "completed"
    },
    "tags": []
   },
   "source": [
    "Before we distribute the rewards, we must remove the quantifiers who didn't show up for this round even though they were drafted"
   ]
  },
  {
   "cell_type": "code",
   "execution_count": 9,
   "id": "370e754e",
   "metadata": {
    "execution": {
     "iopub.execute_input": "2023-02-06T21:31:30.379955Z",
     "iopub.status.busy": "2023-02-06T21:31:30.379858Z",
     "iopub.status.idle": "2023-02-06T21:31:30.384930Z",
     "shell.execute_reply": "2023-02-06T21:31:30.384662Z"
    },
    "papermill": {
     "duration": 0.017013,
     "end_time": "2023-02-06T21:31:30.385993",
     "exception": false,
     "start_time": "2023-02-06T21:31:30.368980",
     "status": "completed"
    },
    "tags": []
   },
   "outputs": [
    {
     "data": {
      "text/plain": [
       "[]"
      ]
     },
     "execution_count": 9,
     "metadata": {},
     "output_type": "execute_result"
    }
   ],
   "source": [
    "# clear out the quantifiers who didn't give any rating (i.e. all scores are 0)\n",
    "quantifier_sum = quantifier_rating_table[['QUANT_ID','QUANT_VALUE']].groupby('QUANT_ID').sum()\n",
    "norating_quantifiers = quantifier_sum.loc[quantifier_sum['QUANT_VALUE']==0].index.tolist()\n",
    "norating_quantifiers"
   ]
  },
  {
   "cell_type": "code",
   "execution_count": 10,
   "id": "54c4677f",
   "metadata": {
    "execution": {
     "iopub.execute_input": "2023-02-06T21:31:30.408299Z",
     "iopub.status.busy": "2023-02-06T21:31:30.408206Z",
     "iopub.status.idle": "2023-02-06T21:31:30.416340Z",
     "shell.execute_reply": "2023-02-06T21:31:30.416084Z"
    },
    "jupyter": {
     "source_hidden": true
    },
    "papermill": {
     "duration": 0.020237,
     "end_time": "2023-02-06T21:31:30.417222",
     "exception": false,
     "start_time": "2023-02-06T21:31:30.396985",
     "status": "completed"
    },
    "tags": []
   },
   "outputs": [
    {
     "data": {
      "text/html": [
       "<style type=\"text/css\">\n",
       "</style>\n",
       "<table id=\"T_bded3_\">\n",
       "  <thead>\n",
       "    <tr>\n",
       "      <th class=\"blank level0\" >&nbsp;</th>\n",
       "      <th class=\"col_heading level0 col0\" >QUANT_ID</th>\n",
       "      <th class=\"col_heading level0 col1\" >QUANT_ADDRESS</th>\n",
       "      <th class=\"col_heading level0 col2\" >NUMBER_OF_PRAISES</th>\n",
       "      <th class=\"col_heading level0 col3\" >TOKEN TO RECEIVE</th>\n",
       "    </tr>\n",
       "  </thead>\n",
       "  <tbody>\n",
       "    <tr>\n",
       "      <th id=\"T_bded3_level0_row0\" class=\"row_heading level0 row0\" >0</th>\n",
       "      <td id=\"T_bded3_row0_col0\" class=\"data row0 col0\" >EFRA#7972</td>\n",
       "      <td id=\"T_bded3_row0_col1\" class=\"data row0 col1\" >0x438cDDcc8E6f0E0E18CE33F6b5a8fFCFAb5A999c</td>\n",
       "      <td id=\"T_bded3_row0_col2\" class=\"data row0 col2\" >9</td>\n",
       "      <td id=\"T_bded3_row0_col3\" class=\"data row0 col3\" >0.494489</td>\n",
       "    </tr>\n",
       "    <tr>\n",
       "      <th id=\"T_bded3_level0_row1\" class=\"row_heading level0 row1\" >1</th>\n",
       "      <td id=\"T_bded3_row1_col0\" class=\"data row1 col0\" >miguelb#5176</td>\n",
       "      <td id=\"T_bded3_row1_col1\" class=\"data row1 col1\" >0x7311b7bf2f004b8070efAf4A130348EEB18EF369</td>\n",
       "      <td id=\"T_bded3_row1_col2\" class=\"data row1 col2\" >9</td>\n",
       "      <td id=\"T_bded3_row1_col3\" class=\"data row1 col3\" >0.494489</td>\n",
       "    </tr>\n",
       "    <tr>\n",
       "      <th id=\"T_bded3_level0_row2\" class=\"row_heading level0 row2\" >2</th>\n",
       "      <td id=\"T_bded3_row2_col0\" class=\"data row2 col0\" >Maxwe11#7157</td>\n",
       "      <td id=\"T_bded3_row2_col1\" class=\"data row2 col1\" >0x3F20a6fE04b3A4b37bBBBea826ae23be56Baed74</td>\n",
       "      <td id=\"T_bded3_row2_col2\" class=\"data row2 col2\" >8</td>\n",
       "      <td id=\"T_bded3_row2_col3\" class=\"data row2 col3\" >0.439546</td>\n",
       "    </tr>\n",
       "    <tr>\n",
       "      <th id=\"T_bded3_level0_row3\" class=\"row_heading level0 row3\" >3</th>\n",
       "      <td id=\"T_bded3_row3_col0\" class=\"data row3 col0\" >divine_comedian#5493</td>\n",
       "      <td id=\"T_bded3_row3_col1\" class=\"data row3 col1\" >0x320c338BCF70bAAaE26e96201C33B48105Bc62C2</td>\n",
       "      <td id=\"T_bded3_row3_col2\" class=\"data row3 col2\" >8</td>\n",
       "      <td id=\"T_bded3_row3_col3\" class=\"data row3 col3\" >0.439546</td>\n",
       "    </tr>\n",
       "  </tbody>\n",
       "</table>\n"
      ],
      "text/plain": [
       "<pandas.io.formats.style.Styler at 0x7f8d5b67c490>"
      ]
     },
     "execution_count": 10,
     "metadata": {},
     "output_type": "execute_result"
    }
   ],
   "source": [
    "\n",
    "\n",
    "quantifier_rewards = pd.DataFrame(quantifier_rating_table[['QUANT_ID','QUANT_ADDRESS']].value_counts().reset_index().copy())\n",
    "\n",
    "quantifier_rewards = quantifier_rewards[~quantifier_rewards['QUANT_ID'].isin(norating_quantifiers)]\n",
    "\n",
    "quantifier_rewards = quantifier_rewards.rename(columns={ quantifier_rewards.columns[2]: \"NUMBER_OF_PRAISES\" }).reset_index(drop=True)\n",
    "\n",
    "\n",
    "\n",
    "\n",
    "total_praise_quantified = quantifier_rewards['NUMBER_OF_PRAISES'].sum()\n",
    "quantifier_rewards['TOKEN TO RECEIVE'] = quantifier_rewards['NUMBER_OF_PRAISES'] / total_praise_quantified  * NUMBER_OF_REWARD_TOKENS_FOR_QUANTIFIERS\n",
    "\n",
    "\n",
    "    \n",
    "quantifier_rewards.style"
   ]
  },
  {
   "cell_type": "code",
   "execution_count": 11,
   "id": "06b7e71e",
   "metadata": {
    "execution": {
     "iopub.execute_input": "2023-02-06T21:31:30.440841Z",
     "iopub.status.busy": "2023-02-06T21:31:30.440755Z",
     "iopub.status.idle": "2023-02-06T21:31:30.444208Z",
     "shell.execute_reply": "2023-02-06T21:31:30.443949Z"
    },
    "jupyter": {
     "source_hidden": true
    },
    "papermill": {
     "duration": 0.01598,
     "end_time": "2023-02-06T21:31:30.445188",
     "exception": false,
     "start_time": "2023-02-06T21:31:30.429208",
     "status": "completed"
    },
    "tags": []
   },
   "outputs": [
    {
     "data": {
      "text/html": [
       "<style type=\"text/css\">\n",
       "</style>\n",
       "<table id=\"T_855fa_\">\n",
       "  <thead>\n",
       "    <tr>\n",
       "      <th class=\"blank level0\" >&nbsp;</th>\n",
       "      <th class=\"col_heading level0 col0\" >ID</th>\n",
       "      <th class=\"col_heading level0 col1\" >TOKEN TO RECEIVE</th>\n",
       "    </tr>\n",
       "  </thead>\n",
       "  <tbody>\n",
       "    <tr>\n",
       "      <th id=\"T_855fa_level0_row0\" class=\"row_heading level0 row0\" >0</th>\n",
       "      <td id=\"T_855fa_row0_col0\" class=\"data row0 col0\" >0x1409a9ef3450D5d50aAd004f417436e772FbF8fC</td>\n",
       "      <td id=\"T_855fa_row0_col1\" class=\"data row0 col1\" >0.266867</td>\n",
       "    </tr>\n",
       "    <tr>\n",
       "      <th id=\"T_855fa_level0_row1\" class=\"row_heading level0 row1\" >1</th>\n",
       "      <td id=\"T_855fa_row1_col0\" class=\"data row1 col0\" >0x3F20a6fE04b3A4b37bBBBea826ae23be56Baed74</td>\n",
       "      <td id=\"T_855fa_row1_col1\" class=\"data row1 col1\" >0.266867</td>\n",
       "    </tr>\n",
       "    <tr>\n",
       "      <th id=\"T_855fa_level0_row2\" class=\"row_heading level0 row2\" >2</th>\n",
       "      <td id=\"T_855fa_row2_col0\" class=\"data row2 col0\" >0x0bf920dfe6d36829ab5b0e153857d4ca689e46fb</td>\n",
       "      <td id=\"T_855fa_row2_col1\" class=\"data row2 col1\" >0.266867</td>\n",
       "    </tr>\n",
       "  </tbody>\n",
       "</table>\n"
      ],
      "text/plain": [
       "<pandas.io.formats.style.Styler at 0x7f8d5b67c4f0>"
      ]
     },
     "execution_count": 11,
     "metadata": {},
     "output_type": "execute_result"
    }
   ],
   "source": [
    "rewardboard_rewards = pd.DataFrame(rewardboard_addresses)\n",
    "rewardboard_rewards['TOKEN TO RECEIVE'] = NUMBER_OF_REWARD_TOKENS_FOR_REWARD_BOARD / len(rewardboard_rewards.index)\n",
    "rewardboard_rewards.style"
   ]
  },
  {
   "cell_type": "markdown",
   "id": "93b78fa3",
   "metadata": {
    "papermill": {
     "duration": 0.01113,
     "end_time": "2023-02-06T21:31:30.467748",
     "exception": false,
     "start_time": "2023-02-06T21:31:30.456618",
     "status": "completed"
    },
    "tags": []
   },
   "source": [
    "Now we can merge them all into one table and save it, ready for distribution!"
   ]
  },
  {
   "cell_type": "code",
   "execution_count": 12,
   "id": "6871efe3",
   "metadata": {
    "execution": {
     "iopub.execute_input": "2023-02-06T21:31:30.490611Z",
     "iopub.status.busy": "2023-02-06T21:31:30.490486Z",
     "iopub.status.idle": "2023-02-06T21:31:30.506700Z",
     "shell.execute_reply": "2023-02-06T21:31:30.506410Z"
    },
    "jupyter": {
     "source_hidden": true
    },
    "papermill": {
     "duration": 0.028827,
     "end_time": "2023-02-06T21:31:30.507585",
     "exception": false,
     "start_time": "2023-02-06T21:31:30.478758",
     "status": "completed"
    },
    "scrolled": true,
    "tags": []
   },
   "outputs": [
    {
     "data": {
      "text/html": [
       "<style type=\"text/css\">\n",
       "</style>\n",
       "<table id=\"T_f1309_\">\n",
       "  <thead>\n",
       "    <tr>\n",
       "      <th class=\"blank level0\" >&nbsp;</th>\n",
       "      <th class=\"col_heading level0 col0\" >USER IDENTITY</th>\n",
       "      <th class=\"col_heading level0 col1\" >USER ADDRESS</th>\n",
       "      <th class=\"col_heading level0 col2\" >PRAISE_REWARD</th>\n",
       "      <th class=\"col_heading level0 col3\" >QUANT_REWARD</th>\n",
       "      <th class=\"col_heading level0 col4\" >NR_OF_PRAISES_QUANTIFIED</th>\n",
       "      <th class=\"col_heading level0 col5\" >REWARDBOARD_REWARD</th>\n",
       "      <th class=\"col_heading level0 col6\" >TOTAL TO RECEIVE</th>\n",
       "    </tr>\n",
       "  </thead>\n",
       "  <tbody>\n",
       "    <tr>\n",
       "      <th id=\"T_f1309_level0_row0\" class=\"row_heading level0 row0\" >0</th>\n",
       "      <td id=\"T_f1309_row0_col0\" class=\"data row0 col0\" >r-x-x#8344</td>\n",
       "      <td id=\"T_f1309_row0_col1\" class=\"data row0 col1\" >0x1409a9ef3450d5d50aad004f417436e772fbf8fc</td>\n",
       "      <td id=\"T_f1309_row0_col2\" class=\"data row0 col2\" >10.644535</td>\n",
       "      <td id=\"T_f1309_row0_col3\" class=\"data row0 col3\" >0.000000</td>\n",
       "      <td id=\"T_f1309_row0_col4\" class=\"data row0 col4\" >0.000000</td>\n",
       "      <td id=\"T_f1309_row0_col5\" class=\"data row0 col5\" >0.266867</td>\n",
       "      <td id=\"T_f1309_row0_col6\" class=\"data row0 col6\" >10.911402</td>\n",
       "    </tr>\n",
       "    <tr>\n",
       "      <th id=\"T_f1309_level0_row1\" class=\"row_heading level0 row1\" >1</th>\n",
       "      <td id=\"T_f1309_row1_col0\" class=\"data row1 col0\" >acidlazzer#5796</td>\n",
       "      <td id=\"T_f1309_row1_col1\" class=\"data row1 col1\" >0x8aa27e90e139d5ab5704df69429341cbcb2d2464</td>\n",
       "      <td id=\"T_f1309_row1_col2\" class=\"data row1 col2\" >4.163892</td>\n",
       "      <td id=\"T_f1309_row1_col3\" class=\"data row1 col3\" >0.000000</td>\n",
       "      <td id=\"T_f1309_row1_col4\" class=\"data row1 col4\" >0.000000</td>\n",
       "      <td id=\"T_f1309_row1_col5\" class=\"data row1 col5\" >0.000000</td>\n",
       "      <td id=\"T_f1309_row1_col6\" class=\"data row1 col6\" >4.163892</td>\n",
       "    </tr>\n",
       "    <tr>\n",
       "      <th id=\"T_f1309_level0_row2\" class=\"row_heading level0 row2\" >2</th>\n",
       "      <td id=\"T_f1309_row2_col0\" class=\"data row2 col0\" >enti#1546</td>\n",
       "      <td id=\"T_f1309_row2_col1\" class=\"data row2 col1\" >0x6897abe0fd62b589260784b21f4ca3f78a0d8017</td>\n",
       "      <td id=\"T_f1309_row2_col2\" class=\"data row2 col2\" >2.321970</td>\n",
       "      <td id=\"T_f1309_row2_col3\" class=\"data row2 col3\" >0.000000</td>\n",
       "      <td id=\"T_f1309_row2_col4\" class=\"data row2 col4\" >0.000000</td>\n",
       "      <td id=\"T_f1309_row2_col5\" class=\"data row2 col5\" >0.000000</td>\n",
       "      <td id=\"T_f1309_row2_col6\" class=\"data row2 col6\" >2.321970</td>\n",
       "    </tr>\n",
       "    <tr>\n",
       "      <th id=\"T_f1309_level0_row3\" class=\"row_heading level0 row3\" >3</th>\n",
       "      <td id=\"T_f1309_row3_col0\" class=\"data row3 col0\" >BiancaGadelha#2667</td>\n",
       "      <td id=\"T_f1309_row3_col1\" class=\"data row3 col1\" >0x1375847014ba64517210cbfe185808232cf45d4a</td>\n",
       "      <td id=\"T_f1309_row3_col2\" class=\"data row3 col2\" >1.774089</td>\n",
       "      <td id=\"T_f1309_row3_col3\" class=\"data row3 col3\" >0.000000</td>\n",
       "      <td id=\"T_f1309_row3_col4\" class=\"data row3 col4\" >0.000000</td>\n",
       "      <td id=\"T_f1309_row3_col5\" class=\"data row3 col5\" >0.000000</td>\n",
       "      <td id=\"T_f1309_row3_col6\" class=\"data row3 col6\" >1.774089</td>\n",
       "    </tr>\n",
       "    <tr>\n",
       "      <th id=\"T_f1309_level0_row4\" class=\"row_heading level0 row4\" >4</th>\n",
       "      <td id=\"T_f1309_row4_col0\" class=\"data row4 col0\" >GideonRo#3175</td>\n",
       "      <td id=\"T_f1309_row4_col1\" class=\"data row4 col1\" >0xb08f0ca73e8a59a1b7970e22b8ed2f9142c3fa53</td>\n",
       "      <td id=\"T_f1309_row4_col2\" class=\"data row4 col2\" >1.774089</td>\n",
       "      <td id=\"T_f1309_row4_col3\" class=\"data row4 col3\" >0.000000</td>\n",
       "      <td id=\"T_f1309_row4_col4\" class=\"data row4 col4\" >0.000000</td>\n",
       "      <td id=\"T_f1309_row4_col5\" class=\"data row4 col5\" >0.000000</td>\n",
       "      <td id=\"T_f1309_row4_col6\" class=\"data row4 col6\" >1.774089</td>\n",
       "    </tr>\n",
       "    <tr>\n",
       "      <th id=\"T_f1309_level0_row5\" class=\"row_heading level0 row5\" >5</th>\n",
       "      <td id=\"T_f1309_row5_col0\" class=\"data row5 col0\" >natesuits#4789</td>\n",
       "      <td id=\"T_f1309_row5_col1\" class=\"data row5 col1\" >0x66df5a7715c5d4afbbfa52435c66aa20733be0d1</td>\n",
       "      <td id=\"T_f1309_row5_col2\" class=\"data row5 col2\" >1.774089</td>\n",
       "      <td id=\"T_f1309_row5_col3\" class=\"data row5 col3\" >0.000000</td>\n",
       "      <td id=\"T_f1309_row5_col4\" class=\"data row5 col4\" >0.000000</td>\n",
       "      <td id=\"T_f1309_row5_col5\" class=\"data row5 col5\" >0.000000</td>\n",
       "      <td id=\"T_f1309_row5_col6\" class=\"data row5 col6\" >1.774089</td>\n",
       "    </tr>\n",
       "    <tr>\n",
       "      <th id=\"T_f1309_level0_row6\" class=\"row_heading level0 row6\" >6</th>\n",
       "      <td id=\"T_f1309_row6_col0\" class=\"data row6 col0\" >Marathonmind#3078</td>\n",
       "      <td id=\"T_f1309_row6_col1\" class=\"data row6 col1\" >0x721ba19c32051fd8e851a74958c52936516c7fdc</td>\n",
       "      <td id=\"T_f1309_row6_col2\" class=\"data row6 col2\" >1.565373</td>\n",
       "      <td id=\"T_f1309_row6_col3\" class=\"data row6 col3\" >0.000000</td>\n",
       "      <td id=\"T_f1309_row6_col4\" class=\"data row6 col4\" >0.000000</td>\n",
       "      <td id=\"T_f1309_row6_col5\" class=\"data row6 col5\" >0.000000</td>\n",
       "      <td id=\"T_f1309_row6_col6\" class=\"data row6 col6\" >1.565373</td>\n",
       "    </tr>\n",
       "    <tr>\n",
       "      <th id=\"T_f1309_level0_row7\" class=\"row_heading level0 row7\" >7</th>\n",
       "      <td id=\"T_f1309_row7_col0\" class=\"data row7 col0\" >Maxwe11#7157</td>\n",
       "      <td id=\"T_f1309_row7_col1\" class=\"data row7 col1\" >0x3f20a6fe04b3a4b37bbbbea826ae23be56baed74</td>\n",
       "      <td id=\"T_f1309_row7_col2\" class=\"data row7 col2\" >0.000000</td>\n",
       "      <td id=\"T_f1309_row7_col3\" class=\"data row7 col3\" >0.439546</td>\n",
       "      <td id=\"T_f1309_row7_col4\" class=\"data row7 col4\" >8.000000</td>\n",
       "      <td id=\"T_f1309_row7_col5\" class=\"data row7 col5\" >0.266867</td>\n",
       "      <td id=\"T_f1309_row7_col6\" class=\"data row7 col6\" >0.706413</td>\n",
       "    </tr>\n",
       "    <tr>\n",
       "      <th id=\"T_f1309_level0_row8\" class=\"row_heading level0 row8\" >8</th>\n",
       "      <td id=\"T_f1309_row8_col0\" class=\"data row8 col0\" >EFRA#7972</td>\n",
       "      <td id=\"T_f1309_row8_col1\" class=\"data row8 col1\" >0x438cddcc8e6f0e0e18ce33f6b5a8ffcfab5a999c</td>\n",
       "      <td id=\"T_f1309_row8_col2\" class=\"data row8 col2\" >0.000000</td>\n",
       "      <td id=\"T_f1309_row8_col3\" class=\"data row8 col3\" >0.494489</td>\n",
       "      <td id=\"T_f1309_row8_col4\" class=\"data row8 col4\" >9.000000</td>\n",
       "      <td id=\"T_f1309_row8_col5\" class=\"data row8 col5\" >0.000000</td>\n",
       "      <td id=\"T_f1309_row8_col6\" class=\"data row8 col6\" >0.494489</td>\n",
       "    </tr>\n",
       "    <tr>\n",
       "      <th id=\"T_f1309_level0_row9\" class=\"row_heading level0 row9\" >9</th>\n",
       "      <td id=\"T_f1309_row9_col0\" class=\"data row9 col0\" >miguelb#5176</td>\n",
       "      <td id=\"T_f1309_row9_col1\" class=\"data row9 col1\" >0x7311b7bf2f004b8070efaf4a130348eeb18ef369</td>\n",
       "      <td id=\"T_f1309_row9_col2\" class=\"data row9 col2\" >0.000000</td>\n",
       "      <td id=\"T_f1309_row9_col3\" class=\"data row9 col3\" >0.494489</td>\n",
       "      <td id=\"T_f1309_row9_col4\" class=\"data row9 col4\" >9.000000</td>\n",
       "      <td id=\"T_f1309_row9_col5\" class=\"data row9 col5\" >0.000000</td>\n",
       "      <td id=\"T_f1309_row9_col6\" class=\"data row9 col6\" >0.494489</td>\n",
       "    </tr>\n",
       "    <tr>\n",
       "      <th id=\"T_f1309_level0_row10\" class=\"row_heading level0 row10\" >10</th>\n",
       "      <td id=\"T_f1309_row10_col0\" class=\"data row10 col0\" >divine_comedian#5493</td>\n",
       "      <td id=\"T_f1309_row10_col1\" class=\"data row10 col1\" >0x320c338bcf70baaae26e96201c33b48105bc62c2</td>\n",
       "      <td id=\"T_f1309_row10_col2\" class=\"data row10 col2\" >0.000000</td>\n",
       "      <td id=\"T_f1309_row10_col3\" class=\"data row10 col3\" >0.439546</td>\n",
       "      <td id=\"T_f1309_row10_col4\" class=\"data row10 col4\" >8.000000</td>\n",
       "      <td id=\"T_f1309_row10_col5\" class=\"data row10 col5\" >0.000000</td>\n",
       "      <td id=\"T_f1309_row10_col6\" class=\"data row10 col6\" >0.439546</td>\n",
       "    </tr>\n",
       "    <tr>\n",
       "      <th id=\"T_f1309_level0_row11\" class=\"row_heading level0 row11\" >11</th>\n",
       "      <td id=\"T_f1309_row11_col0\" class=\"data row11 col0\" >missing username</td>\n",
       "      <td id=\"T_f1309_row11_col1\" class=\"data row11 col1\" >0x0bf920dfe6d36829ab5b0e153857d4ca689e46fb</td>\n",
       "      <td id=\"T_f1309_row11_col2\" class=\"data row11 col2\" >0.000000</td>\n",
       "      <td id=\"T_f1309_row11_col3\" class=\"data row11 col3\" >0.000000</td>\n",
       "      <td id=\"T_f1309_row11_col4\" class=\"data row11 col4\" >0.000000</td>\n",
       "      <td id=\"T_f1309_row11_col5\" class=\"data row11 col5\" >0.266867</td>\n",
       "      <td id=\"T_f1309_row11_col6\" class=\"data row11 col6\" >0.266867</td>\n",
       "    </tr>\n",
       "  </tbody>\n",
       "</table>\n"
      ],
      "text/plain": [
       "<pandas.io.formats.style.Styler at 0x7f8d5b949c70>"
      ]
     },
     "execution_count": 12,
     "metadata": {},
     "output_type": "execute_result"
    }
   ],
   "source": [
    "#def prepare_total_data_chart(praise_rewards, sourcecred_rewards, quantifier_rewards, rewardboard_rewards):\n",
    "def prepare_total_data_chart(praise_rewards, quantifier_rewards, rewardboard_rewards):\n",
    "    \n",
    "    praise_rewards = praise_rewards.copy()[['USER IDENTITY', 'USER ADDRESS', 'TOKEN TO RECEIVE']].rename(columns = {'TOKEN TO RECEIVE':'PRAISE_REWARD'})\n",
    "    praise_rewards['USER ADDRESS'] = praise_rewards['USER ADDRESS'].str.lower()\n",
    "    \n",
    "    quantifier_rewards.rename(columns = {'QUANT_ADDRESS':'USER ADDRESS', 'QUANT_ID': 'USER IDENTITY', 'NUMBER_OF_PRAISES': 'NR_OF_PRAISES_QUANTIFIED', 'TOKEN TO RECEIVE':'QUANT_REWARD'}, inplace = True)\n",
    "    quantifier_rewards['USER ADDRESS'] = quantifier_rewards['USER ADDRESS'].str.lower()\n",
    "    \n",
    "    rewardboard_rewards.rename(columns = {'ID':'USER ADDRESS', 'TOKEN TO RECEIVE': 'REWARDBOARD_REWARD'}, inplace = True)\n",
    "    rewardboard_rewards['USER ADDRESS'] = rewardboard_rewards['USER ADDRESS'].str.lower()\n",
    "    \n",
    "    \n",
    "    final_allocations = pd.merge(rewardboard_rewards, quantifier_rewards , on=['USER ADDRESS','USER ADDRESS'], how='outer')\n",
    "    final_allocations = pd.merge(final_allocations, praise_rewards, left_on=['USER ADDRESS'], right_on=['USER ADDRESS'], how='outer')\n",
    "    \n",
    "    #now we can merge the IDs, replacing any missing values\n",
    "    final_allocations['USER IDENTITY_x']= final_allocations['USER IDENTITY_x'].combine_first(final_allocations['USER IDENTITY_y'])\n",
    "    final_allocations.rename(columns = {'USER IDENTITY_x': 'USER IDENTITY'},  inplace = True)\n",
    "    final_allocations.drop('USER IDENTITY_y', axis=1, inplace=True)\n",
    "    \n",
    "    \n",
    "    final_allocations['USER IDENTITY'].fillna('missing username', inplace = True)\n",
    "    final_allocations.fillna(0, inplace = True)\n",
    "    final_allocations['TOTAL TO RECEIVE'] = final_allocations['PRAISE_REWARD'] + final_allocations['QUANT_REWARD'] + final_allocations['REWARDBOARD_REWARD']\n",
    "   \n",
    "    \n",
    "    final_allocations = final_allocations.sort_values(by= 'TOTAL TO RECEIVE', ascending  = False).reset_index(drop=True)\n",
    "    \n",
    "    #put the columns into the desired order\n",
    "    final_allocations = final_allocations[['USER IDENTITY', 'USER ADDRESS', 'PRAISE_REWARD', 'QUANT_REWARD','NR_OF_PRAISES_QUANTIFIED', 'REWARDBOARD_REWARD', 'TOTAL TO RECEIVE']]\n",
    "    \n",
    "    \n",
    "    return final_allocations\n",
    "\n",
    "\n",
    "final_token_allocations = prepare_total_data_chart(praise_by_user.copy(), quantifier_rewards.copy(), rewardboard_rewards.copy())\n",
    "final_token_allocations.style\n"
   ]
  },
  {
   "cell_type": "markdown",
   "id": "0c4534ac",
   "metadata": {
    "papermill": {
     "duration": 0.011434,
     "end_time": "2023-02-06T21:31:30.530840",
     "exception": false,
     "start_time": "2023-02-06T21:31:30.519406",
     "status": "completed"
    },
    "tags": []
   },
   "source": [
    "### \"Glue\" relevant DataFrames to send to analysis"
   ]
  },
  {
   "cell_type": "code",
   "execution_count": 13,
   "id": "8bb65ff9",
   "metadata": {
    "execution": {
     "iopub.execute_input": "2023-02-06T21:31:30.554696Z",
     "iopub.status.busy": "2023-02-06T21:31:30.554563Z",
     "iopub.status.idle": "2023-02-06T21:31:30.639184Z",
     "shell.execute_reply": "2023-02-06T21:31:30.638651Z"
    },
    "papermill": {
     "duration": 0.098259,
     "end_time": "2023-02-06T21:31:30.640573",
     "exception": false,
     "start_time": "2023-02-06T21:31:30.542314",
     "status": "completed"
    },
    "tags": []
   },
   "outputs": [
    {
     "data": {
      "application/scrapbook.scrap.pandas+json": {
       "data": "UEFSMRUEFaoDFbIDTBUYFQQSAADVAfDUCgAAAHIteC14IzgzNDQPAAAAYWNpZGxhenplciM1Nzk2CQAAAGVudGkjMTU0NhIAAABCaWFuY2FHYWRlbGhhIzI2NjcNAAAAR2lkZW9uUm8jMzE3NQ4AAABuYXRlc3VpdHMjNDc4OREAAABNYXJhdGhvbm1pbmQjMzA3OAwAAABNYXh3ZTExIzcxNTcJAAAARUZSQSM3OTcyDAAAAG1pZ3VlbGIjNTE3NhQAAABkaXZpbmVfY29tZWRpYW4jNTQ5MxAAAABtaXNzaW5nIHVzZXJuYW1lFQAVIBUkLBUYFQQVBhUGHDYAKApyLXgteCM4MzQ0GBJCaWFuY2FHYWRlbGhhIzI2NjcAAAAQPAIAAAAYAQQFEDJUdpi6AAAm6AQcFQwZNQQABhkYDVVTRVIgSURFTlRJVFkVAhYYFtQEFuAEJtoDJggcNgAoCnIteC14IzgzNDQYEkJpYW5jYUdhZGVsaGEjMjY2NwAZLBUEFQQVAgAVABUEFQIAAAAVBBXQCBWeCEwVGBUEEgAAqAS4KgAAADB4MTQwOWE5ZWYzNDUwZDVkNTBhYWQwMDRmNDE3NDM2ZTc3MmZiZjhmYyoFLqA4YWEyN2U5MGUxMzlkNWFiNTcwNGRmNjk0MjkzNDFjYmNiMmQyNDY0KgUuoDY4OTdhYmUwZmQ2MmI1ODkyNjA3ODRiMjFmNGNhM2Y3OGEwZDgwMTcqBS6gMTM3NTg0NzAxNGJhNjQ1MTcyMTBjYmZlMTg1ODA4MjMyY2Y0NWQ0YSoFLqBiMDhmMGNhNzNlOGE1OWExYjc5NzBlMjJiOGVkMmY5MTQyYzNmYTUzKgUuoDY2ZGY1YTc3MTVjNWQ0YWZiYmZhNTI0MzVjNjZhYTIwNzMzYmUwZDEqBS6YNzIxYmExOWMzMjA1MWZkOGU4NTFhNzQ5NThjNTI5MzY1MTZjN2ZkLRSYM2YyMGE2ZmUwNGIzYTRiMzdiYmJiZWE4MjZhZTIzYmU1NmJhZWQ3LRSYNDM4Y2RkY2M4ZTZmMGUwZTE4Y2UzM2Y2YjVhOGZmY2ZhYjVhOTk5DVygNzMxMWI3YmYyZjAwNGI4MDcwZWZhZjRhMTMwMzQ4ZWViMThlZjM2OSoFuKAzMjBjMzM4YmNmNzBiYWFhZTI2ZTk2MjAxYzMzYjQ4MTA1YmM2MmMyKgUunDBiZjkyMGRmZTZkMzY4MjlhYjViMGUxNTM4NTdkNGNhNjg5ZTQ2ZmIVABUgFSQsFRgVBBUGFQYcNgAoKjB4YjA4ZjBjYTczZThhNTlhMWI3OTcwZTIyYjhlZDJmOTE0MmMzZmE1MxgqMHgwYmY5MjBkZmU2ZDM2ODI5YWI1YjBlMTUzODU3ZDRjYTY4OWU0NmZiAAAAEDwCAAAAGAEEBRAyVHaYugAAJuQQHBUMGTUEAAYZGAxVU0VSIEFERFJFU1MVAhYYFuoKFrwKJuYOJqgGHDYAKCoweGIwOGYwY2E3M2U4YTU5YTFiNzk3MGUyMmI4ZWQyZjkxNDJjM2ZhNTMYKjB4MGJmOTIwZGZlNmQzNjgyOWFiNWIwZTE1Mzg1N2Q0Y2E2ODllNDZmYgAZLBUEFQQVAgAVABUEFQIAAAAVBBVgFWRMFQwVBBIAADC8DiU1hABKJUAMrEE606cQQKXwv9dkkwJAvYbxWqti/D8BlU1fxAv5PwAAAAAAAAAAFQAVHBUgLBUYFQQVBhUGHBgIDiU1hABKJUAYCAAAAAAAAACAFgAoCA4lNYQASiVAGAgAAAAAAAAAgAAAAA40AgAAABgBAwWItrFtCwAmrhUcFQoZNQQABhkYDVBSQUlTRV9SRVdBUkQVAhYYFpICFpoCJpQUJpQTHBgIDiU1hABKJUAYCAAAAAAAAACAFgAoCA4lNYQASiVAGAgAAAAAAAAAgAAZLBUEFQQVAgAVABUEFQIAAAAVBBUwFSxMFQYVBBIAABgAAA0BPCXgzRCEIdw/KZznkrSl3z8VABUYFRwsFRgVBBUGFQYcGAgpnOeStKXfPxgIAAAAAAAAAIAWACgIKZznkrSl3z8YCAAAAAAAAACAAAAADCwCAAAAGAECBQBAGgAm3hgcFQoZNQQABhkYDFFVQU5UX1JFV0FSRBUCFhgW3gEW3gEmyBcmgBccGAgpnOeStKXfPxgIAAAAAAAAAIAWACgIKZznkrSl3z8YCAAAAAAAAACAABksFQQVBBUCABUAFQQVAgAAABUEFTAVIkwVBhUEEgAAGAAAMgEAJCBAAAAAAAAAIkAVABUYFRwsFRgVBBUGFQYcGAgAAAAAAAAiQBgIAAAAAAAAAIAWACgIAAAAAAAAIkAYCAAAAAAAAACAAAAADCwCAAAAGAECBQBAGgAmghwcFQoZNQQABhkYGE5SX09GX1BSQUlTRVNfUVVBTlRJRklFRBUCFhgW3gEW1AEm7BomrhocGAgAAAAAAAAiQBgIAAAAAAAAAIAWACgIAAAAAAAAIkAYCAAAAAAAAACAABksFQQVBBUCABUAFQQVAgAAABUEFSAVJEwVBBUEEgAAEDypbFhTWRTRPwAAAAAAAAAAFQAVFBUYLBUYFQQVBhUGHBgIqWxYU1kU0T8YCAAAAAAAAACAFgAoCKlsWFNZFNE/GAgAAAAAAAAAgAAAAAokAgAAABgBAQV+Bya8HxwVChk1BAAGGRgSUkVXQVJEQk9BUkRfUkVXQVJEFQIWGBbKARbSASaqHibqHRwYCKlsWFNZFNE/GAgAAAAAAAAAgBYAKAipbFhTWRTRPxgIAAAAAAAAAIAAGSwVBBUEFQIAFQAVBBUCAAAAFQQVkAEVlgFMFRIVBBIAAEjwR3Poz06j0iVADKxBOtOnEECl8L/XZJMCQL2G8VqrYvw/AZVNX8QL+T9nJhOy7prmPymc55K0pd8/JeDNEIQh3D+pbFhTWRTRPxUAFSAVJCwVGBUEFQYVBhwYCHPoz06j0iVAGAipbFhTWRTRPxYAKAhz6M9Oo9IlQBgIqWxYU1kU0T8AAAAQPAIAAAAYAQQFEDIzVGaHAAAm7CMcFQoZNQQABhkYEFRPVEFMIFRPIFJFQ0VJVkUVAhYYFsoCFtQCJs4iJpghHBgIc+jPTqPSJUAYCKlsWFNZFNE/FgAoCHPoz06j0iVAGAipbFhTWRTRPwAZLBUEFQQVAgAVABUEFQIAAAAVAhmMNQAYBnNjaGVtYRUOABUMJQIYDVVTRVIgSURFTlRJVFklAEwcAAAAFQwlAhgMVVNFUiBBRERSRVNTJQBMHAAAABUKJQIYDVBSQUlTRV9SRVdBUkQAFQolAhgMUVVBTlRfUkVXQVJEABUKJQIYGE5SX09GX1BSQUlTRVNfUVVBTlRJRklFRAAVCiUCGBJSRVdBUkRCT0FSRF9SRVdBUkQAFQolAhgQVE9UQUwgVE8gUkVDRUlWRQAWGBkcGXwm6AQcFQwZNQQABhkYDVVTRVIgSURFTlRJVFkVAhYYFtQEFuAEJtoDJggcNgAoCnIteC14IzgzNDQYEkJpYW5jYUdhZGVsaGEjMjY2NwAZLBUEFQQVAgAVABUEFQIAAAAm5BAcFQwZNQQABhkYDFVTRVIgQUREUkVTUxUCFhgW6goWvAom5g4mqAYcNgAoKjB4YjA4ZjBjYTczZThhNTlhMWI3OTcwZTIyYjhlZDJmOTE0MmMzZmE1MxgqMHgwYmY5MjBkZmU2ZDM2ODI5YWI1YjBlMTUzODU3ZDRjYTY4OWU0NmZiABksFQQVBBUCABUAFQQVAgAAACauFRwVChk1BAAGGRgNUFJBSVNFX1JFV0FSRBUCFhgWkgIWmgImlBQmlBMcGAgOJTWEAEolQBgIAAAAAAAAAIAWACgIDiU1hABKJUAYCAAAAAAAAACAABksFQQVBBUCABUAFQQVAgAAACbeGBwVChk1BAAGGRgMUVVBTlRfUkVXQVJEFQIWGBbeARbeASbIFyaAFxwYCCmc55K0pd8/GAgAAAAAAAAAgBYAKAgpnOeStKXfPxgIAAAAAAAAAIAAGSwVBBUEFQIAFQAVBBUCAAAAJoIcHBUKGTUEAAYZGBhOUl9PRl9QUkFJU0VTX1FVQU5USUZJRUQVAhYYFt4BFtQBJuwaJq4aHBgIAAAAAAAAIkAYCAAAAAAAAACAFgAoCAAAAAAAACJAGAgAAAAAAAAAgAAZLBUEFQQVAgAVABUEFQIAAAAmvB8cFQoZNQQABhkYElJFV0FSREJPQVJEX1JFV0FSRBUCFhgWygEW0gEmqh4m6h0cGAipbFhTWRTRPxgIAAAAAAAAAIAWACgIqWxYU1kU0T8YCAAAAAAAAACAABksFQQVBBUCABUAFQQVAgAAACbsIxwVChk1BAAGGRgQVE9UQUwgVE8gUkVDRUlWRRUCFhgWygIW1AImziImmCEcGAhz6M9Oo9IlQBgIqWxYU1kU0T8WACgIc+jPTqPSJUAYCKlsWFNZFNE/ABksFQQVBBUCABUAFQQVAgAAABagGRYYJggWjhkUAAAZLBgGcGFuZGFzGNwJeyJpbmRleF9jb2x1bW5zIjogW3sia2luZCI6ICJyYW5nZSIsICJuYW1lIjogbnVsbCwgInN0YXJ0IjogMCwgInN0b3AiOiAxMiwgInN0ZXAiOiAxfV0sICJjb2x1bW5faW5kZXhlcyI6IFt7Im5hbWUiOiBudWxsLCAiZmllbGRfbmFtZSI6IG51bGwsICJwYW5kYXNfdHlwZSI6ICJ1bmljb2RlIiwgIm51bXB5X3R5cGUiOiAib2JqZWN0IiwgIm1ldGFkYXRhIjogeyJlbmNvZGluZyI6ICJVVEYtOCJ9fV0sICJjb2x1bW5zIjogW3sibmFtZSI6ICJVU0VSIElERU5USVRZIiwgImZpZWxkX25hbWUiOiAiVVNFUiBJREVOVElUWSIsICJwYW5kYXNfdHlwZSI6ICJ1bmljb2RlIiwgIm51bXB5X3R5cGUiOiAib2JqZWN0IiwgIm1ldGFkYXRhIjogbnVsbH0sIHsibmFtZSI6ICJVU0VSIEFERFJFU1MiLCAiZmllbGRfbmFtZSI6ICJVU0VSIEFERFJFU1MiLCAicGFuZGFzX3R5cGUiOiAidW5pY29kZSIsICJudW1weV90eXBlIjogIm9iamVjdCIsICJtZXRhZGF0YSI6IG51bGx9LCB7Im5hbWUiOiAiUFJBSVNFX1JFV0FSRCIsICJmaWVsZF9uYW1lIjogIlBSQUlTRV9SRVdBUkQiLCAicGFuZGFzX3R5cGUiOiAiZmxvYXQ2NCIsICJudW1weV90eXBlIjogImZsb2F0NjQiLCAibWV0YWRhdGEiOiBudWxsfSwgeyJuYW1lIjogIlFVQU5UX1JFV0FSRCIsICJmaWVsZF9uYW1lIjogIlFVQU5UX1JFV0FSRCIsICJwYW5kYXNfdHlwZSI6ICJmbG9hdDY0IiwgIm51bXB5X3R5cGUiOiAiZmxvYXQ2NCIsICJtZXRhZGF0YSI6IG51bGx9LCB7Im5hbWUiOiAiTlJfT0ZfUFJBSVNFU19RVUFOVElGSUVEIiwgImZpZWxkX25hbWUiOiAiTlJfT0ZfUFJBSVNFU19RVUFOVElGSUVEIiwgInBhbmRhc190eXBlIjogImZsb2F0NjQiLCAibnVtcHlfdHlwZSI6ICJmbG9hdDY0IiwgIm1ldGFkYXRhIjogbnVsbH0sIHsibmFtZSI6ICJSRVdBUkRCT0FSRF9SRVdBUkQiLCAiZmllbGRfbmFtZSI6ICJSRVdBUkRCT0FSRF9SRVdBUkQiLCAicGFuZGFzX3R5cGUiOiAiZmxvYXQ2NCIsICJudW1weV90eXBlIjogImZsb2F0NjQiLCAibWV0YWRhdGEiOiBudWxsfSwgeyJuYW1lIjogIlRPVEFMIFRPIFJFQ0VJVkUiLCAiZmllbGRfbmFtZSI6ICJUT1RBTCBUTyBSRUNFSVZFIiwgInBhbmRhc190eXBlIjogImZsb2F0NjQiLCAibnVtcHlfdHlwZSI6ICJmbG9hdDY0IiwgIm1ldGFkYXRhIjogbnVsbH1dLCAiY3JlYXRvciI6IHsibGlicmFyeSI6ICJweWFycm93IiwgInZlcnNpb24iOiAiNy4wLjAifSwgInBhbmRhc192ZXJzaW9uIjogIjEuMy40In0AGAxBUlJPVzpzY2hlbWEYzBIvLy8vLy9BR0FBQVFBQUFBQUFBS0FBNEFCZ0FGQUFnQUNnQUFBQUFCQkFBUUFBQUFBQUFLQUF3QUFBQUVBQWdBQ2dBQUFCUUZBQUFFQUFBQUFRQUFBQXdBQUFBSUFBd0FCQUFJQUFnQUFBQUlBQUFBRUFBQUFBWUFBQUJ3WVc1a1lYTUFBTndFQUFCN0ltbHVaR1Y0WDJOdmJIVnRibk1pT2lCYmV5SnJhVzVrSWpvZ0luSmhibWRsSWl3Z0ltNWhiV1VpT2lCdWRXeHNMQ0FpYzNSaGNuUWlPaUF3TENBaWMzUnZjQ0k2SURFeUxDQWljM1JsY0NJNklERjlYU3dnSW1OdmJIVnRibDlwYm1SbGVHVnpJam9nVzNzaWJtRnRaU0k2SUc1MWJHd3NJQ0ptYVdWc1pGOXVZVzFsSWpvZ2JuVnNiQ3dnSW5CaGJtUmhjMTkwZVhCbElqb2dJblZ1YVdOdlpHVWlMQ0FpYm5WdGNIbGZkSGx3WlNJNklDSnZZbXBsWTNRaUxDQWliV1YwWVdSaGRHRWlPaUI3SW1WdVkyOWthVzVuSWpvZ0lsVlVSaTA0SW4xOVhTd2dJbU52YkhWdGJuTWlPaUJiZXlKdVlXMWxJam9nSWxWVFJWSWdTVVJGVGxSSlZGa2lMQ0FpWm1sbGJHUmZibUZ0WlNJNklDSlZVMFZTSUVsRVJVNVVTVlJaSWl3Z0luQmhibVJoYzE5MGVYQmxJam9nSW5WdWFXTnZaR1VpTENBaWJuVnRjSGxmZEhsd1pTSTZJQ0p2WW1wbFkzUWlMQ0FpYldWMFlXUmhkR0VpT2lCdWRXeHNmU3dnZXlKdVlXMWxJam9nSWxWVFJWSWdRVVJFVWtWVFV5SXNJQ0ptYVdWc1pGOXVZVzFsSWpvZ0lsVlRSVklnUVVSRVVrVlRVeUlzSUNKd1lXNWtZWE5mZEhsd1pTSTZJQ0oxYm1samIyUmxJaXdnSW01MWJYQjVYM1I1Y0dVaU9pQWliMkpxWldOMElpd2dJbTFsZEdGa1lYUmhJam9nYm5Wc2JIMHNJSHNpYm1GdFpTSTZJQ0pRVWtGSlUwVmZVa1ZYUVZKRUlpd2dJbVpwWld4a1gyNWhiV1VpT2lBaVVGSkJTVk5GWDFKRlYwRlNSQ0lzSUNKd1lXNWtZWE5mZEhsd1pTSTZJQ0ptYkc5aGREWTBJaXdnSW01MWJYQjVYM1I1Y0dVaU9pQWlabXh2WVhRMk5DSXNJQ0p0WlhSaFpHRjBZU0k2SUc1MWJHeDlMQ0I3SW01aGJXVWlPaUFpVVZWQlRsUmZVa1ZYUVZKRUlpd2dJbVpwWld4a1gyNWhiV1VpT2lBaVVWVkJUbFJmVWtWWFFWSkVJaXdnSW5CaGJtUmhjMTkwZVhCbElqb2dJbVpzYjJGME5qUWlMQ0FpYm5WdGNIbGZkSGx3WlNJNklDSm1iRzloZERZMElpd2dJbTFsZEdGa1lYUmhJam9nYm5Wc2JIMHNJSHNpYm1GdFpTSTZJQ0pPVWw5UFJsOVFVa0ZKVTBWVFgxRlZRVTVVU1VaSlJVUWlMQ0FpWm1sbGJHUmZibUZ0WlNJNklDSk9VbDlQUmw5UVVrRkpVMFZUWDFGVlFVNVVTVVpKUlVRaUxDQWljR0Z1WkdGelgzUjVjR1VpT2lBaVpteHZZWFEyTkNJc0lDSnVkVzF3ZVY5MGVYQmxJam9nSW1ac2IyRjBOalFpTENBaWJXVjBZV1JoZEdFaU9pQnVkV3hzZlN3Z2V5SnVZVzFsSWpvZ0lsSkZWMEZTUkVKUFFWSkVYMUpGVjBGU1JDSXNJQ0ptYVdWc1pGOXVZVzFsSWpvZ0lsSkZWMEZTUkVKUFFWSkVYMUpGVjBGU1JDSXNJQ0p3WVc1a1lYTmZkSGx3WlNJNklDSm1iRzloZERZMElpd2dJbTUxYlhCNVgzUjVjR1VpT2lBaVpteHZZWFEyTkNJc0lDSnRaWFJoWkdGMFlTSTZJRzUxYkd4OUxDQjdJbTVoYldVaU9pQWlWRTlVUVV3Z1ZFOGdVa1ZEUlVsV1JTSXNJQ0ptYVdWc1pGOXVZVzFsSWpvZ0lsUlBWRUZNSUZSUElGSkZRMFZKVmtVaUxDQWljR0Z1WkdGelgzUjVjR1VpT2lBaVpteHZZWFEyTkNJc0lDSnVkVzF3ZVY5MGVYQmxJam9nSW1ac2IyRjBOalFpTENBaWJXVjBZV1JoZEdFaU9pQnVkV3hzZlYwc0lDSmpjbVZoZEc5eUlqb2dleUpzYVdKeVlYSjVJam9nSW5CNVlYSnliM2NpTENBaWRtVnljMmx2YmlJNklDSTNMakF1TUNKOUxDQWljR0Z1WkdGelgzWmxjbk5wYjI0aU9pQWlNUzR6TGpRaWZRQUFBQUFIQUFBQWVBRUFBRFFCQUFENEFBQUF3QUFBQUh3QUFBQkFBQUFBQkFBQUFMVCsvLzhBQUFFREVBQUFBQ1FBQUFBRUFBQUFBQUFBQUJBQUFBQlVUMVJCVENCVVR5QlNSVU5GU1ZaRkFBQUFBQ0wvLy84QUFBSUE3UDcvL3dBQUFRTVFBQUFBSkFBQUFBUUFBQUFBQUFBQUVnQUFBRkpGVjBGU1JFSlBRVkpFWDFKRlYwRlNSQUFBV3YvLy93QUFBZ0FrLy8vL0FBQUJBeEFBQUFBc0FBQUFCQUFBQUFBQUFBQVlBQUFBVGxKZlQwWmZVRkpCU1ZORlUxOVJWVUZPVkVsR1NVVkVBQUFBQUpyLy8vOEFBQUlBWlAvLy93QUFBUU1RQUFBQUlBQUFBQVFBQUFBQUFBQUFEQUFBQUZGVlFVNVVYMUpGVjBGU1JBQUFBQURPLy8vL0FBQUNBSmovLy84QUFBRURFQUFBQUNRQUFBQUVBQUFBQUFBQUFBMEFBQUJRVWtGSlUwVmZVa1ZYUVZKRUFBWUFDQUFHQUFZQUFBQUFBQUlBMFAvLy93QUFBUVVRQUFBQUlBQUFBQVFBQUFBQUFBQUFEQUFBQUZWVFJWSWdRVVJFVWtWVFV3QUFBQURBLy8vL0VBQVVBQWdBQmdBSEFBd0FBQUFRQUJBQUFBQUFBQUVGRUFBQUFDUUFBQUFFQUFBQUFBQUFBQTBBQUFCVlUwVlNJRWxFUlU1VVNWUlpBQUFBQkFBRUFBUUFBQUE9ABgfcGFycXVldC1jcHAtYXJyb3cgdmVyc2lvbiA3LjAuMBl8HAAAHAAAHAAAHAAAHAAAHAAAHAAAAGUSAABQQVIx",
       "encoder": "pandas",
       "name": "final_token_allocations",
       "version": 1
      }
     },
     "metadata": {
      "scrapbook": {
       "data": true,
       "display": false,
       "name": "final_token_allocations"
      }
     },
     "output_type": "display_data"
    },
    {
     "data": {
      "application/scrapbook.scrap.pandas+json": {
       "data": "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",
       "encoder": "pandas",
       "name": "rewardboard_rewards",
       "version": 1
      }
     },
     "metadata": {
      "scrapbook": {
       "data": true,
       "display": false,
       "name": "rewardboard_rewards"
      }
     },
     "output_type": "display_data"
    },
    {
     "data": {
      "application/scrapbook.scrap.pandas+json": {
       "data": "UEFSMRUEFYoBFYwBTBUIFQQSAABFcAkAAABFRlJBIzc5NzIMAAAAbWlndWVsYiM1MTc2ARCMTWF4d2UxMSM3MTU3FAAAAGRpdmluZV9jb21lZGlhbiM1NDkzFQAVFBUYLBUIFQQVBhUGHDYAKAxtaWd1ZWxiIzUxNzYYCUVGUkEjNzk3MgAAAAokAgAAAAgBAgPkACaoAhwVDBk1BAAGGRgIUVVBTlRfSUQVAhYIFpoCFqACJrQBJggcNgAoDG1pZ3VlbGIjNTE3NhgJRUZSQSM3OTcyABksFQQVBBUCABUAFQQVAgAAABUEFfACFegCTBUIFQQSAAC4AbgqAAAAMHg0MzhjRERjYzhFNmYwRTBFMThDRTMzRjZiNWE4ZkZDRkFiNUE5OTljKgUuoDczMTFiN2JmMmYwMDRiODA3MGVmQWY0QTEzMDM0OEVFQjE4RUYzNjkqBS6gM0YyMGE2ZkUwNGIzQTRiMzdiQkJCZWE4MjZhZTIzYmU1NkJhZWQ3NCoJLpgyMGMzMzhCQ0Y3MGJBQWFFMjZlOTYyMDFDMzNCNDgxMDVCYzYyQzIVABUUFRgsFQgVBBUGFQYcNgAoKjB4NzMxMWI3YmYyZjAwNGI4MDcwZWZBZjRBMTMwMzQ4RUVCMThFRjM2ORgqMHgzMjBjMzM4QkNGNzBiQUFhRTI2ZTk2MjAxQzMzQjQ4MTA1QmM2MkMyAAAACiQCAAAACAECA+QAJsoIHBUMGTUEAAYZGA1RVUFOVF9BRERSRVNTFQIWCBb+BBb6BCbYBibQAxw2ACgqMHg3MzExYjdiZjJmMDA0YjgwNzBlZkFmNEExMzAzNDhFRUIxOEVGMzY5GCoweDMyMGMzMzhCQ0Y3MGJBQWFFMjZlOTYyMDFDMzNCNDgxMDVCYzYyQzIAGSwVBBUEFQIAFQAVBBUCAAAAFQQVIBUkTBUEFQQSAAAQPAkAAAAAAAAACAAAAAAAAAAVABUSFRYsFQgVBBUGFQYcGAgJAAAAAAAAABgICAAAAAAAAAAWACgICQAAAAAAAAAYCAgAAAAAAAAAAAAACSACAAAACAEBAwwmzAwcFQQZNQQABhkYEU5VTUJFUl9PRl9QUkFJU0VTFQIWCBbIARbQASa8Cyb8ChwYCAkAAAAAAAAAGAgIAAAAAAAAABYAKAgJAAAAAAAAABgICAAAAAAAAAAAGSwVBBUEFQIAFQAVBBUCAAAAFQQVIBUkTBUEFQQSAAAQPCmc55K0pd8/JeDNEIQh3D8VABUSFRYsFQgVBBUGFQYcGAgpnOeStKXfPxgIJeDNEIQh3D8WACgIKZznkrSl3z8YCCXgzRCEIdw/AAAACSACAAAACAEBAwwm9g8cFQoZNQQABhkYEFRPS0VOIFRPIFJFQ0VJVkUVAhYIFsgBFtABJuYOJqYOHBgIKZznkrSl3z8YCCXgzRCEIdw/FgAoCCmc55K0pd8/GAgl4M0QhCHcPwAZLBUEFQQVAgAVABUEFQIAAAAVAhlcNQAYBnNjaGVtYRUIABUMJQIYCFFVQU5UX0lEJQBMHAAAABUMJQIYDVFVQU5UX0FERFJFU1MlAEwcAAAAFQQlAhgRTlVNQkVSX09GX1BSQUlTRVMAFQolAhgQVE9LRU4gVE8gUkVDRUlWRQAWCBkcGUwmqAIcFQwZNQQABhkYCFFVQU5UX0lEFQIWCBaaAhagAia0ASYIHDYAKAxtaWd1ZWxiIzUxNzYYCUVGUkEjNzk3MgAZLBUEFQQVAgAVABUEFQIAAAAmyggcFQwZNQQABhkYDVFVQU5UX0FERFJFU1MVAhYIFv4EFvoEJtgGJtADHDYAKCoweDczMTFiN2JmMmYwMDRiODA3MGVmQWY0QTEzMDM0OEVFQjE4RUYzNjkYKjB4MzIwYzMzOEJDRjcwYkFBYUUyNmU5NjIwMUMzM0I0ODEwNUJjNjJDMgAZLBUEFQQVAgAVABUEFQIAAAAmzAwcFQQZNQQABhkYEU5VTUJFUl9PRl9QUkFJU0VTFQIWCBbIARbQASa8Cyb8ChwYCAkAAAAAAAAAGAgIAAAAAAAAABYAKAgJAAAAAAAAABgICAAAAAAAAAAAGSwVBBUEFQIAFQAVBBUCAAAAJvYPHBUKGTUEAAYZGBBUT0tFTiBUTyBSRUNFSVZFFQIWCBbIARbQASbmDiamDhwYCCmc55K0pd8/GAgl4M0QhCHcPxYAKAgpnOeStKXfPxgIJeDNEIQh3D8AGSwVBBUEFQIAFQAVBBUCAAAAFqgKFggmCBa6ChQAABksGAZwYW5kYXMYvAZ7ImluZGV4X2NvbHVtbnMiOiBbeyJraW5kIjogInJhbmdlIiwgIm5hbWUiOiBudWxsLCAic3RhcnQiOiAwLCAic3RvcCI6IDQsICJzdGVwIjogMX1dLCAiY29sdW1uX2luZGV4ZXMiOiBbeyJuYW1lIjogbnVsbCwgImZpZWxkX25hbWUiOiBudWxsLCAicGFuZGFzX3R5cGUiOiAidW5pY29kZSIsICJudW1weV90eXBlIjogIm9iamVjdCIsICJtZXRhZGF0YSI6IHsiZW5jb2RpbmciOiAiVVRGLTgifX1dLCAiY29sdW1ucyI6IFt7Im5hbWUiOiAiUVVBTlRfSUQiLCAiZmllbGRfbmFtZSI6ICJRVUFOVF9JRCIsICJwYW5kYXNfdHlwZSI6ICJ1bmljb2RlIiwgIm51bXB5X3R5cGUiOiAib2JqZWN0IiwgIm1ldGFkYXRhIjogbnVsbH0sIHsibmFtZSI6ICJRVUFOVF9BRERSRVNTIiwgImZpZWxkX25hbWUiOiAiUVVBTlRfQUREUkVTUyIsICJwYW5kYXNfdHlwZSI6ICJ1bmljb2RlIiwgIm51bXB5X3R5cGUiOiAib2JqZWN0IiwgIm1ldGFkYXRhIjogbnVsbH0sIHsibmFtZSI6ICJOVU1CRVJfT0ZfUFJBSVNFUyIsICJmaWVsZF9uYW1lIjogIk5VTUJFUl9PRl9QUkFJU0VTIiwgInBhbmRhc190eXBlIjogImludDY0IiwgIm51bXB5X3R5cGUiOiAiaW50NjQiLCAibWV0YWRhdGEiOiBudWxsfSwgeyJuYW1lIjogIlRPS0VOIFRPIFJFQ0VJVkUiLCAiZmllbGRfbmFtZSI6ICJUT0tFTiBUTyBSRUNFSVZFIiwgInBhbmRhc190eXBlIjogImZsb2F0NjQiLCAibnVtcHlfdHlwZSI6ICJmbG9hdDY0IiwgIm1ldGFkYXRhIjogbnVsbH1dLCAiY3JlYXRvciI6IHsibGlicmFyeSI6ICJweWFycm93IiwgInZlcnNpb24iOiAiNy4wLjAifSwgInBhbmRhc192ZXJzaW9uIjogIjEuMy40In0AGAxBUlJPVzpzY2hlbWEYwAwvLy8vLzZnRUFBQVFBQUFBQUFBS0FBNEFCZ0FGQUFnQUNnQUFBQUFCQkFBUUFBQUFBQUFLQUF3QUFBQUVBQWdBQ2dBQUFIUURBQUFFQUFBQUFRQUFBQXdBQUFBSUFBd0FCQUFJQUFnQUFBQUlBQUFBRUFBQUFBWUFBQUJ3WVc1a1lYTUFBRHdEQUFCN0ltbHVaR1Y0WDJOdmJIVnRibk1pT2lCYmV5SnJhVzVrSWpvZ0luSmhibWRsSWl3Z0ltNWhiV1VpT2lCdWRXeHNMQ0FpYzNSaGNuUWlPaUF3TENBaWMzUnZjQ0k2SURRc0lDSnpkR1Z3SWpvZ01YMWRMQ0FpWTI5c2RXMXVYMmx1WkdWNFpYTWlPaUJiZXlKdVlXMWxJam9nYm5Wc2JDd2dJbVpwWld4a1gyNWhiV1VpT2lCdWRXeHNMQ0FpY0dGdVpHRnpYM1I1Y0dVaU9pQWlkVzVwWTI5a1pTSXNJQ0p1ZFcxd2VWOTBlWEJsSWpvZ0ltOWlhbVZqZENJc0lDSnRaWFJoWkdGMFlTSTZJSHNpWlc1amIyUnBibWNpT2lBaVZWUkdMVGdpZlgxZExDQWlZMjlzZFcxdWN5STZJRnQ3SW01aGJXVWlPaUFpVVZWQlRsUmZTVVFpTENBaVptbGxiR1JmYm1GdFpTSTZJQ0pSVlVGT1ZGOUpSQ0lzSUNKd1lXNWtZWE5mZEhsd1pTSTZJQ0oxYm1samIyUmxJaXdnSW01MWJYQjVYM1I1Y0dVaU9pQWliMkpxWldOMElpd2dJbTFsZEdGa1lYUmhJam9nYm5Wc2JIMHNJSHNpYm1GdFpTSTZJQ0pSVlVGT1ZGOUJSRVJTUlZOVElpd2dJbVpwWld4a1gyNWhiV1VpT2lBaVVWVkJUbFJmUVVSRVVrVlRVeUlzSUNKd1lXNWtZWE5mZEhsd1pTSTZJQ0oxYm1samIyUmxJaXdnSW01MWJYQjVYM1I1Y0dVaU9pQWliMkpxWldOMElpd2dJbTFsZEdGa1lYUmhJam9nYm5Wc2JIMHNJSHNpYm1GdFpTSTZJQ0pPVlUxQ1JWSmZUMFpmVUZKQlNWTkZVeUlzSUNKbWFXVnNaRjl1WVcxbElqb2dJazVWVFVKRlVsOVBSbDlRVWtGSlUwVlRJaXdnSW5CaGJtUmhjMTkwZVhCbElqb2dJbWx1ZERZMElpd2dJbTUxYlhCNVgzUjVjR1VpT2lBaWFXNTBOalFpTENBaWJXVjBZV1JoZEdFaU9pQnVkV3hzZlN3Z2V5SnVZVzFsSWpvZ0lsUlBTMFZPSUZSUElGSkZRMFZKVmtVaUxDQWlabWxsYkdSZmJtRnRaU0k2SUNKVVQwdEZUaUJVVHlCU1JVTkZTVlpGSWl3Z0luQmhibVJoYzE5MGVYQmxJam9nSW1ac2IyRjBOalFpTENBaWJuVnRjSGxmZEhsd1pTSTZJQ0ptYkc5aGREWTBJaXdnSW0xbGRHRmtZWFJoSWpvZ2JuVnNiSDFkTENBaVkzSmxZWFJ2Y2lJNklIc2liR2xpY21GeWVTSTZJQ0p3ZVdGeWNtOTNJaXdnSW5abGNuTnBiMjRpT2lBaU55NHdMakFpZlN3Z0luQmhibVJoYzE5MlpYSnphVzl1SWpvZ0lqRXVNeTQwSW4wQUFBQUFCQUFBQU5BQUFBQ01BQUFBUkFBQUFBUUFBQUJRLy8vL0FBQUJBeEFBQUFBb0FBQUFCQUFBQUFBQUFBQVFBQUFBVkU5TFJVNGdWRThnVWtWRFJVbFdSUUFBQmdBSUFBWUFCZ0FBQUFBQUFnQ00vLy8vQUFBQkFoQUFBQUFzQUFBQUJBQUFBQUFBQUFBUkFBQUFUbFZOUWtWU1gwOUdYMUJTUVVsVFJWTUFBQUFJQUF3QUNBQUhBQWdBQUFBQUFBQUJRQUFBQU5ELy8vOEFBQUVGRUFBQUFDQUFBQUFFQUFBQUFBQUFBQTBBQUFCUlZVRk9WRjlCUkVSU1JWTlRBQUFBeFAvLy94QUFGQUFJQUFZQUJ3QU1BQUFBRUFBUUFBQUFBQUFCQlJBQUFBQWdBQUFBQkFBQUFBQUFBQUFJQUFBQVVWVkJUbFJmU1VRQUFBQUFCQUFFQUFRQUFBQUFBQUFBABgfcGFycXVldC1jcHAtYXJyb3cgdmVyc2lvbiA3LjAuMBlMHAAAHAAAHAAAHAAAABQMAABQQVIx",
       "encoder": "pandas",
       "name": "quantifier_rewards",
       "version": 1
      }
     },
     "metadata": {
      "scrapbook": {
       "data": true,
       "display": false,
       "name": "quantifier_rewards"
      }
     },
     "output_type": "display_data"
    },
    {
     "data": {
      "application/scrapbook.scrap.pandas+json": {
       "data": "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",
       "encoder": "pandas",
       "name": "quantifier_rating_table",
       "version": 1
      }
     },
     "metadata": {
      "scrapbook": {
       "data": true,
       "display": false,
       "name": "quantifier_rating_table"
      }
     },
     "output_type": "display_data"
    },
    {
     "data": {
      "application/scrapbook.scrap.pandas+json": {
       "data": "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",
       "encoder": "pandas",
       "name": "processed_praise",
       "version": 1
      }
     },
     "metadata": {
      "scrapbook": {
       "data": true,
       "display": false,
       "name": "processed_praise"
      }
     },
     "output_type": "display_data"
    },
    {
     "data": {
      "application/scrapbook.scrap.pandas+json": {
       "data": "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",
       "encoder": "pandas",
       "name": "praise_by_user",
       "version": 1
      }
     },
     "metadata": {
      "scrapbook": {
       "data": true,
       "display": false,
       "name": "praise_by_user"
      }
     },
     "output_type": "display_data"
    },
    {
     "data": {
      "application/scrapbook.scrap.pandas+json": {
       "data": "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",
       "encoder": "pandas",
       "name": "praise_distribution",
       "version": 1
      }
     },
     "metadata": {
      "scrapbook": {
       "data": true,
       "display": false,
       "name": "praise_distribution"
      }
     },
     "output_type": "display_data"
    },
    {
     "data": {
      "application/scrapbook.scrap.json+json": {
       "data": 4,
       "encoder": "json",
       "name": "quantifiers_per_praise",
       "version": 1
      }
     },
     "metadata": {
      "scrapbook": {
       "data": true,
       "display": false,
       "name": "quantifiers_per_praise"
      }
     },
     "output_type": "display_data"
    },
    {
     "data": {
      "application/scrapbook.scrap.text+json": {
       "data": "round-27",
       "encoder": "text",
       "name": "distribution_name",
       "version": 1
      }
     },
     "metadata": {
      "scrapbook": {
       "data": true,
       "display": false,
       "name": "distribution_name"
      }
     },
     "output_type": "display_data"
    },
    {
     "data": {
      "application/scrapbook.scrap.json+json": {
       "data": 26.68670886075949,
       "encoder": "json",
       "name": "total_tokens_allocated",
       "version": 1
      }
     },
     "metadata": {
      "scrapbook": {
       "data": true,
       "display": false,
       "name": "total_tokens_allocated"
      }
     },
     "output_type": "display_data"
    },
    {
     "data": {
      "application/scrapbook.scrap.json+json": {
       "data": 0.1,
       "encoder": "json",
       "name": "praise_quantify_duplicate_praise_valuation",
       "version": 1
      }
     },
     "metadata": {
      "scrapbook": {
       "data": true,
       "display": false,
       "name": "praise_quantify_duplicate_praise_valuation"
      }
     },
     "output_type": "display_data"
    },
    {
     "data": {
      "application/scrapbook.scrap.json+json": {
       "data": false,
       "encoder": "json",
       "name": "pseudonyms_used",
       "version": 1
      }
     },
     "metadata": {
      "scrapbook": {
       "data": true,
       "display": false,
       "name": "pseudonyms_used"
      }
     },
     "output_type": "display_data"
    }
   ],
   "source": [
    "sb.glue(\"final_token_allocations\", final_token_allocations, 'pandas')\n",
    "sb.glue(\"rewardboard_rewards\", rewardboard_rewards, 'pandas')\n",
    "sb.glue(\"quantifier_rewards\", quantifier_rewards, 'pandas')\n",
    "sb.glue(\"quantifier_rating_table\", quantifier_rating_table, 'pandas')\n",
    "\n",
    "sb.glue(\"processed_praise\", processed_praise, 'pandas')\n",
    "sb.glue(\"praise_by_user\", praise_by_user, 'pandas')\n",
    "\n",
    "\n",
    "sb.glue(\"praise_distribution\", praise_distribution, 'pandas')\n",
    "sb.glue(\"quantifiers_per_praise\", quantification_settings[\"number_of_quantifiers_per_praise_receiver\"])\n",
    "sb.glue(\"distribution_name\", distribution_name)\n",
    "sb.glue(\"total_tokens_allocated\", total_tokens_allocated)\n",
    "sb.glue(\"praise_quantify_duplicate_praise_valuation\", quantification_settings['praise_quantify_duplicate_praise_valuation'])\n",
    "sb.glue(\"pseudonyms_used\", quantification_settings['praise_quantify_receiver_pseudonyms'])"
   ]
  },
  {
   "cell_type": "markdown",
   "id": "a2c3bbca",
   "metadata": {
    "papermill": {
     "duration": 0.014266,
     "end_time": "2023-02-06T21:31:30.673511",
     "exception": false,
     "start_time": "2023-02-06T21:31:30.659245",
     "status": "completed"
    },
    "tags": []
   },
   "source": [
    "### Save the distribution files"
   ]
  },
  {
   "cell_type": "code",
   "execution_count": 14,
   "id": "a59fd3a9",
   "metadata": {
    "execution": {
     "iopub.execute_input": "2023-02-06T21:31:30.702662Z",
     "iopub.status.busy": "2023-02-06T21:31:30.702535Z",
     "iopub.status.idle": "2023-02-06T21:31:30.706463Z",
     "shell.execute_reply": "2023-02-06T21:31:30.706113Z"
    },
    "papermill": {
     "duration": 0.019816,
     "end_time": "2023-02-06T21:31:30.707556",
     "exception": false,
     "start_time": "2023-02-06T21:31:30.687740",
     "status": "completed"
    },
    "tags": []
   },
   "outputs": [],
   "source": [
    "final_allocation_csv = final_token_allocations.to_csv(index=False)\n",
    "with open('final_praise_token_allocation.csv', 'w') as f:\n",
    "    f.write(final_allocation_csv)"
   ]
  },
  {
   "cell_type": "code",
   "execution_count": 15,
   "id": "9811af2f",
   "metadata": {
    "execution": {
     "iopub.execute_input": "2023-02-06T21:31:30.737511Z",
     "iopub.status.busy": "2023-02-06T21:31:30.737426Z",
     "iopub.status.idle": "2023-02-06T21:31:30.742178Z",
     "shell.execute_reply": "2023-02-06T21:31:30.741823Z"
    },
    "papermill": {
     "duration": 0.020763,
     "end_time": "2023-02-06T21:31:30.743232",
     "exception": false,
     "start_time": "2023-02-06T21:31:30.722469",
     "status": "completed"
    },
    "tags": []
   },
   "outputs": [],
   "source": [
    "#create \"transactions\" dist\n",
    "final_alloc_aragon = final_token_allocations[['USER ADDRESS', 'TOTAL TO RECEIVE']].copy()\n",
    "final_alloc_aragon['TOKEN SYMBOL'] = payout_token['token_name']\n",
    "final_alloc_aragon = final_alloc_aragon[final_alloc_aragon['USER ADDRESS'] != \"missing user address\"]\n",
    "final_alloc_aragon = final_alloc_aragon.to_csv(sep=',', index=False, header=False)\n",
    "with open('praise_aragon_distribution.csv', 'w') as f:\n",
    "    f.write(final_alloc_aragon)"
   ]
  },
  {
   "cell_type": "code",
   "execution_count": 16,
   "id": "79d6252d",
   "metadata": {
    "execution": {
     "iopub.execute_input": "2023-02-06T21:31:30.773381Z",
     "iopub.status.busy": "2023-02-06T21:31:30.773289Z",
     "iopub.status.idle": "2023-02-06T21:31:30.776443Z",
     "shell.execute_reply": "2023-02-06T21:31:30.776178Z"
    },
    "papermill": {
     "duration": 0.019286,
     "end_time": "2023-02-06T21:31:30.777497",
     "exception": false,
     "start_time": "2023-02-06T21:31:30.758211",
     "status": "completed"
    },
    "tags": []
   },
   "outputs": [],
   "source": [
    "praise_reward_export = praise_distribution.to_csv(index=False)\n",
    "with open('extended_praise_data.csv', 'w') as f:\n",
    "    f.write(praise_reward_export)"
   ]
  }
 ],
 "metadata": {
  "celltoolbar": "Tags",
  "hide_input": false,
  "kernelspec": {
   "display_name": "Python 3.10.5 64-bit",
   "language": "python",
   "name": "python3"
  },
  "language_info": {
   "codemirror_mode": {
    "name": "ipython",
    "version": 3
   },
   "file_extension": ".py",
   "mimetype": "text/x-python",
   "name": "python",
   "nbconvert_exporter": "python",
   "pygments_lexer": "ipython3",
   "version": "3.9.1"
  },
  "papermill": {
   "default_parameters": {},
   "duration": 5.737975,
   "end_time": "2023-02-06T21:31:33.420159",
   "environment_variables": {},
   "exception": null,
   "input_path": "./distribution_tools/praise/praiseDistribution.ipynb",
   "output_path": "/data/round-27/distribution_results/executed_notebooks/output_praiseDistribution.ipynb",
   "parameters": {
    "cross_period_settings": {
     "cross_period_step_size": 2,
     "cross_period_week_num": 52
    },
    "distribution_name": "round-27",
    "input_files": {
     "cross_period_root": "/data",
     "praise_data": "/data/round-27/praise.csv",
     "rewardboard_list": "/data/round-27/rewardboard.csv"
    },
    "payout_token": {
     "token_address": "0x5dF8339c5E282ee48c0c7cE8A7d01a73D38B3B27",
     "token_name": "TEC"
    },
    "quantification_settings": {
     "number_of_quantifiers_per_praise_receiver": 4,
     "praise_quantify_allowed_values": [
      0,
      1,
      3,
      5,
      8,
      13,
      21,
      34,
      55,
      89,
      144
     ],
     "praise_quantify_duplicate_praise_valuation": 0.1,
     "praise_quantify_receiver_pseudonyms": false
    },
    "results_output_folder": "distribution_results",
    "token_reward_percentages": {
     "ceiling_cutoff": 632,
     "contributor_rewards": 0.9,
     "quantifier_rewards": 0.07,
     "rewardboard_rewards": 0.03
    },
    "total_tokens_allocated": "1874"
   },
   "start_time": "2023-02-06T21:31:27.682184",
   "version": "2.3.4"
  },
  "toc": {
   "base_numbering": 1,
   "nav_menu": {},
   "number_sections": true,
   "sideBar": true,
   "skip_h1_title": false,
   "title_cell": "Table of Contents",
   "title_sidebar": "Contents",
   "toc_cell": false,
   "toc_position": {},
   "toc_section_display": true,
   "toc_window_display": true
  },
  "vscode": {
   "interpreter": {
    "hash": "aee8b7b246df8f9039afb4144a1f6fd8d2ca17a180786b69acc140d282b71a49"
   }
  }
 },
 "nbformat": 4,
 "nbformat_minor": 5
}